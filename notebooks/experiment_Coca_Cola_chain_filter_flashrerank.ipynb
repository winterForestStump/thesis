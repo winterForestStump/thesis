{
  "cells": [
    {
      "cell_type": "markdown",
      "metadata": {
        "id": "view-in-github",
        "colab_type": "text"
      },
      "source": [
        "<a href=\"https://colab.research.google.com/github/winterForestStump/thesis/blob/main/notebooks/experiment_Coca_Cola_chain_filter_flashrerank.ipynb\" target=\"_parent\"><img src=\"https://colab.research.google.com/assets/colab-badge.svg\" alt=\"Open In Colab\"/></a>"
      ]
    },
    {
      "cell_type": "code",
      "execution_count": null,
      "metadata": {
        "id": "YxEkzrz5S14p"
      },
      "outputs": [],
      "source": [
        "%pip -q install langchain chromadb --quiet\n",
        "%pip -q install sentence_transformers --quiet\n",
        "%pip -q install -U FlagEmbedding --quiet\n",
        "%pip install huggingface_hub --quiet\n",
        "%pip install -q -U peft accelerate optimum --quiet\n",
        "%pip install transformers==4.37.2 --quiet # downgraiding needed to solve AttributeError: 'LlamaRotaryEmbedding' object has no attribute 'cos_cached'\n",
        "%pip install auto-gptq --extra-index-url https://huggingface.github.io/autogptq-index/whl/cu118/ --quiet\n",
        "%pip install GPUtil --quiet\n",
        "%pip install unstructured --quiet\n",
        "%pip install --upgrade langsmith langchainhub --quiet\n",
        "%pip install jq --quiet\n",
        "%pip install tqdm --quiet\n",
        "%pip install numpy==1.24.4 --quiet\n",
        "%pip install --upgrade --quiet  flashrank"
      ]
    },
    {
      "cell_type": "code",
      "source": [
        "from google.colab import drive\n",
        "drive.mount('/content/drive')"
      ],
      "metadata": {
        "id": "dke8SBIxDfoY",
        "colab": {
          "base_uri": "https://localhost:8080/"
        },
        "outputId": "b0e32642-d2c5-4966-af7f-de9fce9cbf8e"
      },
      "execution_count": null,
      "outputs": [
        {
          "output_type": "stream",
          "name": "stdout",
          "text": [
            "Drive already mounted at /content/drive; to attempt to forcibly remount, call drive.mount(\"/content/drive\", force_remount=True).\n"
          ]
        }
      ]
    },
    {
      "cell_type": "code",
      "execution_count": null,
      "metadata": {
        "id": "F-9B6WiATPIM"
      },
      "outputs": [],
      "source": [
        "from langchain.schema import Document\n",
        "from langchain.vectorstores import Chroma\n",
        "from langchain.retrievers import ParentDocumentRetriever\n",
        "from langchain_community.document_loaders import DirectoryLoader\n",
        "from langchain_community.document_loaders import JSONLoader\n",
        "\n",
        "import chromadb\n",
        "\n",
        "from langchain_community.embeddings import HuggingFaceBgeEmbeddings\n",
        "from langchain.text_splitter import RecursiveCharacterTextSplitter\n",
        "from langchain.storage import InMemoryStore\n",
        "from langchain.storage._lc_store import create_kv_docstore\n",
        "from langchain.storage.file_system import LocalFileStore\n",
        "from langchain.document_loaders import TextLoader\n",
        "\n",
        "from langchain_core.output_parsers import StrOutputParser\n",
        "from langchain_core.runnables import RunnablePassthrough\n",
        "from langchain_core.prompts import ChatPromptTemplate\n",
        "\n",
        "from operator import itemgetter\n",
        "\n",
        "from langchain.chains import RetrievalQA\n",
        "from langchain import PromptTemplate\n",
        "from langchain import HuggingFacePipeline\n",
        "from transformers import AutoModelForCausalLM, AutoTokenizer, GenerationConfig, pipeline\n",
        "from langchain import PromptTemplate\n",
        "import torch\n",
        "import GPUtil\n",
        "import pandas as pd\n",
        "import os\n",
        "from tqdm import tqdm"
      ]
    },
    {
      "cell_type": "code",
      "source": [
        "from langchain.retrievers import ContextualCompressionRetriever\n",
        "from langchain.retrievers.document_compressors import FlashrankRerank"
      ],
      "metadata": {
        "id": "dd-mQiu5AGe_"
      },
      "execution_count": null,
      "outputs": []
    },
    {
      "cell_type": "markdown",
      "metadata": {
        "id": "-x5D9D5Si-sX"
      },
      "source": [
        "BGE models on the HuggingFace are the best open-source embedding models. BGE model is created by the Beijing Academy of Artificial Intelligence (BAAI). BAAI is a private non-profit organization engaged in AI research and development."
      ]
    },
    {
      "cell_type": "code",
      "execution_count": null,
      "metadata": {
        "id": "b7G9cdM8TPDA",
        "colab": {
          "base_uri": "https://localhost:8080/"
        },
        "outputId": "5ffd839b-9e5f-43ab-ba6c-7864e8447d62"
      },
      "outputs": [
        {
          "output_type": "stream",
          "name": "stderr",
          "text": [
            "/usr/local/lib/python3.10/dist-packages/huggingface_hub/utils/_token.py:88: UserWarning: \n",
            "The secret `HF_TOKEN` does not exist in your Colab secrets.\n",
            "To authenticate with the Hugging Face Hub, create a token in your settings tab (https://huggingface.co/settings/tokens), set it as secret in your Google Colab and restart your session.\n",
            "You will be able to reuse this secret in all of your notebooks.\n",
            "Please note that authentication is recommended but still optional to access public models or datasets.\n",
            "  warnings.warn(\n"
          ]
        }
      ],
      "source": [
        "model_name = \"BAAI/bge-small-en-v1.5\"\n",
        "encode_kwargs = {'normalize_embeddings': True} # set True to compute cosine similarity\n",
        "\n",
        "bge_embeddings = HuggingFaceBgeEmbeddings(\n",
        "    model_name=model_name,\n",
        "    model_kwargs={'device': 'cuda'}, #gpu\n",
        "    encode_kwargs=encode_kwargs\n",
        ")"
      ]
    },
    {
      "cell_type": "markdown",
      "metadata": {
        "id": "z1dWJ431a6-P"
      },
      "source": [
        "File Directory\n",
        "This covers how to load all documents in a directory.\n",
        "\n",
        "Under the hood, by default this uses the UnstructuredLoader."
      ]
    },
    {
      "cell_type": "code",
      "source": [
        "# Define the metadata extraction function.\n",
        "def metadata_function(record: dict, metadata: dict) -> dict:\n",
        "\n",
        "    metadata[\"cik\"] = record.get(\"cik\")\n",
        "    metadata[\"company\"] = record.get(\"company\")\n",
        "    metadata[\"filing_type\"] = record.get(\"filing_type\")\n",
        "    metadata[\"filing_date\"] = record.get(\"filing_date\")\n",
        "    metadata[\"period_of_report\"] = record.get(\"period_of_report\")\n",
        "    metadata[\"state_location\"] = record.get(\"state_location\")\n",
        "    metadata[\"fiscal_year_end\"] = record.get(\"fiscal_year_end\")\n",
        "    metadata[\"htm_filing_link\"] = record.get(\"htm_filing_link\")\n",
        "    metadata[\"filename\"] = record.get(\"filename\")\n",
        "\n",
        "    return metadata"
      ],
      "metadata": {
        "id": "_UvCHoDyVnKZ"
      },
      "execution_count": null,
      "outputs": []
    },
    {
      "cell_type": "markdown",
      "source": [
        "### Questions Creation:"
      ],
      "metadata": {
        "id": "CBP7NEHL4YiM"
      }
    },
    {
      "cell_type": "code",
      "source": [
        "questions = pd.read_fwf(\"https://raw.githubusercontent.com/winterForestStump/thesis/main/questions/questions_ver2.txt\", names=['question'])\n",
        "#questions = pd.read_csv(\"https://raw.githubusercontent.com/winterForestStump/financebench/main/financebench_sample_150.csv\")\n",
        "questions.info()"
      ],
      "metadata": {
        "id": "OtibG5Wu4YQA",
        "colab": {
          "base_uri": "https://localhost:8080/"
        },
        "outputId": "6985f6a8-8bf4-48d1-f5ca-88ee4f268ce4"
      },
      "execution_count": null,
      "outputs": [
        {
          "output_type": "stream",
          "name": "stdout",
          "text": [
            "<class 'pandas.core.frame.DataFrame'>\n",
            "RangeIndex: 35 entries, 0 to 34\n",
            "Data columns (total 1 columns):\n",
            " #   Column    Non-Null Count  Dtype \n",
            "---  ------    --------------  ----- \n",
            " 0   question  35 non-null     object\n",
            "dtypes: object(1)\n",
            "memory usage: 408.0+ bytes\n"
          ]
        }
      ]
    },
    {
      "cell_type": "code",
      "source": [
        "# Here you need to enter the company name\n",
        "company = 'COCA COLA CO'\n",
        "questions['question'] = questions['question'].str.replace('company', company)"
      ],
      "metadata": {
        "id": "yZdZxStg4fuM"
      },
      "execution_count": null,
      "outputs": []
    },
    {
      "cell_type": "code",
      "source": [
        "questions['question'][0]"
      ],
      "metadata": {
        "id": "oOsITV364fP-",
        "colab": {
          "base_uri": "https://localhost:8080/",
          "height": 36
        },
        "outputId": "0aac1c1b-f6a3-4da7-9fcc-6f7cc4a7c1b2"
      },
      "execution_count": null,
      "outputs": [
        {
          "output_type": "execute_result",
          "data": {
            "text/plain": [
              "'What is the total revenue generated by the COCA COLA CO and how has the revenue changed over the past few years?'"
            ],
            "application/vnd.google.colaboratory.intrinsic+json": {
              "type": "string"
            }
          },
          "metadata": {},
          "execution_count": 9
        }
      ]
    },
    {
      "cell_type": "markdown",
      "metadata": {
        "id": "bYZV8lE5bsHa"
      },
      "source": [
        "When splitting documents for retrieval, there are often conflicting desires:\n",
        "\n",
        "You may want to have small documents, so that their embeddings can most accurately reflect their meaning. If too long, then the embeddings can lose meaning.\n",
        "You want to have long enough documents that the context of each chunk is retained.\n",
        "The ParentDocumentRetriever strikes that balance by splitting and storing small chunks of data. During retrieval, it first fetches the small chunks but then looks up the parent ids for those chunks and returns those larger documents.\n",
        "\n",
        "Note that “parent document” refers to the document that a small chunk originated from. This can either be the whole raw document OR a larger chunk."
      ]
    },
    {
      "cell_type": "markdown",
      "metadata": {
        "id": "V-01barub25p"
      },
      "source": [
        "Sometimes, the full documents can be too big to want to retrieve them as is. In that case, what we really want to do is to first split the raw documents into larger chunks, and then split it into smaller chunks. We then index the smaller chunks, but on retrieval we retrieve the larger chunks (but still not the full documents)."
      ]
    },
    {
      "cell_type": "code",
      "source": [
        "persistent_client = chromadb.PersistentClient('/content/drive/MyDrive/Thesis/chromadb')\n",
        "collection = persistent_client.get_or_create_collection(\"Reports\")\n",
        "\n",
        "fs = LocalFileStore('/content/drive/MyDrive/Thesis/reports_store_location')\n",
        "store = create_kv_docstore(fs)\n",
        "\n",
        "# This text splitter is used to create the parent documents - The big chunks\n",
        "parent_splitter = RecursiveCharacterTextSplitter(chunk_size=2000)\n",
        "\n",
        "# This text splitter is used to create the child documents - The small chunks\n",
        "# It should create documents smaller than the parent\n",
        "child_splitter = RecursiveCharacterTextSplitter(chunk_size=256)\n",
        "\n",
        "# The vectorstore to use to index the child chunks\n",
        "vectorstore = Chroma(client = persistent_client,\n",
        "                     collection_name=\"Reports\",\n",
        "                     embedding_function=bge_embeddings,\n",
        "                     persist_directory='/content/drive/MyDrive/Thesis/chromadb')\n",
        "\n",
        "vectorstore.persist()"
      ],
      "metadata": {
        "id": "RtmsEK3hD1d0"
      },
      "execution_count": null,
      "outputs": []
    },
    {
      "cell_type": "code",
      "execution_count": null,
      "metadata": {
        "id": "VV8VRD-kbd6S"
      },
      "outputs": [],
      "source": [
        "# Number of parent chunks retrieved\n",
        "NUM_PAR_CHUNKS = 6\n",
        "\n",
        "big_chunks_retriever = ParentDocumentRetriever(\n",
        "    # The underlying vectorstore to use to store small chunks and their embedding vectors\n",
        "    vectorstore=vectorstore,\n",
        "    # The storage interface for the parent documents\n",
        "    docstore=store,\n",
        "    # The text splitter to use to create child documents.\n",
        "    child_splitter=child_splitter,\n",
        "    # The text splitter to use to create parent documents.\n",
        "    parent_splitter=parent_splitter,\n",
        "    search_kwargs={'filter': {'company': company}, 'k': NUM_PAR_CHUNKS}\n",
        ")\n",
        "\n",
        "# by default the search_type is 'similarity, also 'mmr' and 'similarity_score_threshold' are available"
      ]
    },
    {
      "cell_type": "code",
      "source": [
        "N_DOCS_RETURN = 2\n",
        "\n",
        "compressor = FlashrankRerank(top_n = N_DOCS_RETURN)\n",
        "compression_retriever = ContextualCompressionRetriever(\n",
        "    base_compressor=compressor, base_retriever=big_chunks_retriever\n",
        ")"
      ],
      "metadata": {
        "id": "hee-SeuTAMTA"
      },
      "execution_count": null,
      "outputs": []
    },
    {
      "cell_type": "code",
      "source": [
        "all = vectorstore.get()['metadatas']\n",
        "doc_ids = []\n",
        "ciks = []\n",
        "for i in range(len(all)):\n",
        "  doc_ids.append(all[i]['doc_id'])\n",
        "  ciks.append(all[i]['cik'])\n",
        "\n",
        "print(f\"The number of unique companies: {len(set(ciks))}\")\n",
        "print(f\"The number of parent documents: {len(set(doc_ids))}\")\n",
        "print(f\"The number of child documnets: {len(vectorstore.get()['documents'])}\")"
      ],
      "metadata": {
        "id": "fzS6yjb_7cwq",
        "colab": {
          "base_uri": "https://localhost:8080/"
        },
        "outputId": "5223907b-eb08-4cfa-e45a-da30029f679e"
      },
      "execution_count": null,
      "outputs": [
        {
          "output_type": "stream",
          "name": "stdout",
          "text": [
            "The number of unique companies: 32\n",
            "The number of parent documents: 17561\n",
            "The number of child documnets: 356275\n"
          ]
        }
      ]
    },
    {
      "cell_type": "markdown",
      "metadata": {
        "id": "83xkD06izI68"
      },
      "source": [
        "### Creating the Pipeline:\n",
        "\n",
        "Explanation of the parameters from the `generation_config`:\n",
        "* `max_new_tokens`: the maximum number of tokens that can be generated in the output.\n",
        "* `do_sample`. When set to True, this parameter enables probabilistic sampling from the distribution of possible next tokens generated by the model. This introduces randomness and variety in the generated text. If set to False, the model would always pick the most likely next token, leading to deterministic and less varied outputs.\n",
        "* `temperature`: controls how much randomness is introduced into the sampling process. A lower temperature value (closer to 0) makes the model more confident in its choices, resulting in less random outputs, while a higher temperature value (closer to 1) encourages more randomness and diversity.\n",
        "* `top_p` controls nucleus sampling, a technique that considers only the most probable tokens with a cumulative probability above the threshold top_p. It helps in generating text that is both diverse and coherent, avoiding the inclusion of very low-probability tokens that could make the text nonsensical.\n",
        "* `top_k` sampling limits the sampling pool to the k most likely next tokens. This further refines the set of tokens that the model will consider for generating the next piece of text, ensuring that the outputs remain relevant and coherent.\n",
        "* `repetition_penalty` discourages the model from repeating the same tokens or phrases, promoting more interesting and diverse text. A value greater than 1 penalizes and thus reduces, the likelihood of tokens that have already appeared."
      ]
    },
    {
      "cell_type": "code",
      "execution_count": null,
      "metadata": {
        "id": "n9rImQx2fXPh"
      },
      "outputs": [],
      "source": [
        "MODEL_NAME = \"TheBloke/Llama-2-7b-Chat-GPTQ\"\n",
        "TEMPERATURE = 0.0001\n",
        "MAX_NEW_TOKENS = 2048\n",
        "TOP_P = 0.90\n",
        "REPETITION_PENALTY = 1.10\n",
        "\n",
        "tokenizer = AutoTokenizer.from_pretrained(MODEL_NAME, use_fast=True)\n",
        "model = AutoModelForCausalLM.from_pretrained(MODEL_NAME, torch_dtype=torch.float16, trust_remote_code=True, device_map=\"auto\")\n",
        "\n",
        "generation_config = GenerationConfig.from_pretrained(MODEL_NAME)\n",
        "generation_config.max_new_tokens = MAX_NEW_TOKENS\n",
        "generation_config.temperature = TEMPERATURE\n",
        "generation_config.top_p = TOP_P\n",
        "generation_config.do_sample = True\n",
        "generation_config.repetition_penalty = REPETITION_PENALTY\n",
        "\n",
        "\n",
        "text_pipeline = pipeline(\n",
        "    \"text-generation\",\n",
        "    model=model,\n",
        "    tokenizer=tokenizer,\n",
        "    generation_config=generation_config,\n",
        ")\n",
        "\n",
        "llm = HuggingFacePipeline(pipeline=text_pipeline, model_kwargs={\"temperature\": TEMPERATURE})"
      ]
    },
    {
      "cell_type": "markdown",
      "metadata": {
        "id": "y7F4dPChwmok"
      },
      "source": [
        "### Set Up the Chat Prompt Template\n",
        "Chat prompt template will be used to structure the interaction with the LLM. It includes placeholders for context and a question, which will be dynamically filled during the execution of the chain."
      ]
    },
    {
      "cell_type": "code",
      "execution_count": null,
      "metadata": {
        "id": "65DPOWFAfZ5s"
      },
      "outputs": [],
      "source": [
        "template = \"\"\"\n",
        "<s>[INST] <<SYS>>\n",
        "Use the following information from company annual reports and answer the question at the end.\n",
        "If the answer is not contained in the provided information or if there is NO context at all, say \"The answer is not in the context\".\n",
        "<</SYS>>\n",
        "\n",
        "{context}\n",
        "\n",
        "{question} [/INST]\n",
        "\"\"\"\n",
        "\n",
        "prompt = ChatPromptTemplate.from_template(template)\n"
      ]
    },
    {
      "cell_type": "markdown",
      "metadata": {
        "id": "SJPV4GIexAdL"
      },
      "source": [
        "### Chain Construction:\n",
        "* A `big_chunks_retriever` is used to fetch relevant information based on the query.\n",
        "* `RunnablePassthrough()` is a component that simply passes along the question without any modification.\n",
        "* The `llm` variable represents the Hugging Face pipeline, this pipeline will take the formatted input from the previous step and will produce an answer.\n",
        "* The `StrOutputParser()` is an output parser, it takes the raw output from the Hugging Face pipeline and parse it into a string."
      ]
    },
    {
      "cell_type": "markdown",
      "metadata": {
        "id": "BClU9XIXDinO"
      },
      "source": [
        "The following code defines a pipeline for a question-answering system with retrieval augmentation.\n",
        "\n",
        "It starts by taking a question and uses it both directly as the question and as input to a base retrieval system (`big_chunks_retriever`) to fetch relevant context.\n",
        "\n",
        "The retrieved context and the original question are then passed through a `RunnablePassthrough` for subsequent use, maintaining the context intact for reference.\n",
        "\n",
        "Finally, the response is generated by a primary question-answering model `llm`, which takes the formatted prompt, consisting of the context and the question, and produces an answer."
      ]
    },
    {
      "cell_type": "code",
      "execution_count": null,
      "metadata": {
        "id": "yPN9c_vpw5Qk",
        "colab": {
          "base_uri": "https://localhost:8080/"
        },
        "outputId": "fffc08f1-04e1-4fcd-957a-5105a694f793"
      },
      "outputs": [
        {
          "output_type": "stream",
          "name": "stdout",
          "text": [
            "GPU Usage:\n",
            "| ID | GPU | MEM |\n",
            "------------------\n",
            "|  0 |  4% | 29% |\n"
          ]
        }
      ],
      "source": [
        "chain = (\n",
        "    {\"context\": itemgetter(\"question\") | compression_retriever, \"question\": itemgetter('question')}\n",
        "    | RunnablePassthrough.assign(context=itemgetter(\"context\"))\n",
        "    | {\"response\": prompt | llm, \"context\": itemgetter(\"context\"), \"question\": itemgetter('question')}\n",
        ")\n",
        "\n",
        "print('GPU Usage:')\n",
        "GPUtil.showUtilization()"
      ]
    },
    {
      "cell_type": "markdown",
      "metadata": {
        "id": "FiQ_Tl59yZRX"
      },
      "source": [
        "### Chain Invocation:\n",
        "This invocation triggers the entire sequence of operations defined in the chain. The retriever searches for relevant information, which is then passed along with the question through the prompt and into the Hugging Face model. The model generates a response based on the inputs it receives."
      ]
    },
    {
      "cell_type": "code",
      "source": [
        "from tqdm import tqdm\n",
        "\n",
        "results_list = []\n",
        "\n",
        "for i in tqdm(range(len(questions))):\n",
        "    response = chain.invoke({\"question\": questions['question'][i]})\n",
        "    results_list.append(pd.DataFrame({\n",
        "        'question': [response['question']],\n",
        "        'response': [response['response'].split('[/INST]\\n')[1]],\n",
        "        'context': [response['context']]\n",
        "    }))\n",
        "\n",
        "results = pd.concat(results_list, ignore_index=True)"
      ],
      "metadata": {
        "id": "XulUUJusAxAp",
        "colab": {
          "base_uri": "https://localhost:8080/"
        },
        "outputId": "4a877f61-cca7-47f9-f2bf-4ca7f2b51c3f"
      },
      "execution_count": null,
      "outputs": [
        {
          "output_type": "stream",
          "name": "stderr",
          "text": [
            " 29%|██▊       | 10/35 [03:56<09:42, 23.30s/it]/usr/local/lib/python3.10/dist-packages/transformers/pipelines/base.py:1123: UserWarning: You seem to be using the pipelines sequentially on GPU. In order to maximize efficiency please use a dataset\n",
            "  warnings.warn(\n",
            " 31%|███▏      | 11/35 [04:26<10:14, 25.62s/it]/usr/local/lib/python3.10/dist-packages/transformers/pipelines/base.py:1123: UserWarning: You seem to be using the pipelines sequentially on GPU. In order to maximize efficiency please use a dataset\n",
            "  warnings.warn(\n",
            " 34%|███▍      | 12/35 [04:44<08:50, 23.06s/it]/usr/local/lib/python3.10/dist-packages/transformers/pipelines/base.py:1123: UserWarning: You seem to be using the pipelines sequentially on GPU. In order to maximize efficiency please use a dataset\n",
            "  warnings.warn(\n",
            " 37%|███▋      | 13/35 [05:06<08:20, 22.77s/it]/usr/local/lib/python3.10/dist-packages/transformers/pipelines/base.py:1123: UserWarning: You seem to be using the pipelines sequentially on GPU. In order to maximize efficiency please use a dataset\n",
            "  warnings.warn(\n",
            " 40%|████      | 14/35 [05:26<07:40, 21.92s/it]/usr/local/lib/python3.10/dist-packages/transformers/pipelines/base.py:1123: UserWarning: You seem to be using the pipelines sequentially on GPU. In order to maximize efficiency please use a dataset\n",
            "  warnings.warn(\n",
            " 43%|████▎     | 15/35 [05:45<07:05, 21.28s/it]/usr/local/lib/python3.10/dist-packages/transformers/pipelines/base.py:1123: UserWarning: You seem to be using the pipelines sequentially on GPU. In order to maximize efficiency please use a dataset\n",
            "  warnings.warn(\n",
            " 46%|████▌     | 16/35 [06:29<08:53, 28.08s/it]/usr/local/lib/python3.10/dist-packages/transformers/pipelines/base.py:1123: UserWarning: You seem to be using the pipelines sequentially on GPU. In order to maximize efficiency please use a dataset\n",
            "  warnings.warn(\n",
            " 49%|████▊     | 17/35 [06:50<07:43, 25.76s/it]/usr/local/lib/python3.10/dist-packages/transformers/pipelines/base.py:1123: UserWarning: You seem to be using the pipelines sequentially on GPU. In order to maximize efficiency please use a dataset\n",
            "  warnings.warn(\n",
            " 51%|█████▏    | 18/35 [07:10<06:51, 24.22s/it]/usr/local/lib/python3.10/dist-packages/transformers/pipelines/base.py:1123: UserWarning: You seem to be using the pipelines sequentially on GPU. In order to maximize efficiency please use a dataset\n",
            "  warnings.warn(\n",
            " 54%|█████▍    | 19/35 [07:35<06:28, 24.30s/it]/usr/local/lib/python3.10/dist-packages/transformers/pipelines/base.py:1123: UserWarning: You seem to be using the pipelines sequentially on GPU. In order to maximize efficiency please use a dataset\n",
            "  warnings.warn(\n",
            " 57%|█████▋    | 20/35 [07:53<05:37, 22.53s/it]/usr/local/lib/python3.10/dist-packages/transformers/pipelines/base.py:1123: UserWarning: You seem to be using the pipelines sequentially on GPU. In order to maximize efficiency please use a dataset\n",
            "  warnings.warn(\n",
            " 60%|██████    | 21/35 [08:12<04:59, 21.36s/it]/usr/local/lib/python3.10/dist-packages/transformers/pipelines/base.py:1123: UserWarning: You seem to be using the pipelines sequentially on GPU. In order to maximize efficiency please use a dataset\n",
            "  warnings.warn(\n",
            " 63%|██████▎   | 22/35 [08:28<04:16, 19.70s/it]/usr/local/lib/python3.10/dist-packages/transformers/pipelines/base.py:1123: UserWarning: You seem to be using the pipelines sequentially on GPU. In order to maximize efficiency please use a dataset\n",
            "  warnings.warn(\n",
            " 66%|██████▌   | 23/35 [08:43<03:42, 18.53s/it]/usr/local/lib/python3.10/dist-packages/transformers/pipelines/base.py:1123: UserWarning: You seem to be using the pipelines sequentially on GPU. In order to maximize efficiency please use a dataset\n",
            "  warnings.warn(\n",
            " 69%|██████▊   | 24/35 [08:57<03:06, 16.94s/it]/usr/local/lib/python3.10/dist-packages/transformers/pipelines/base.py:1123: UserWarning: You seem to be using the pipelines sequentially on GPU. In order to maximize efficiency please use a dataset\n",
            "  warnings.warn(\n",
            " 71%|███████▏  | 25/35 [09:16<02:56, 17.65s/it]/usr/local/lib/python3.10/dist-packages/transformers/pipelines/base.py:1123: UserWarning: You seem to be using the pipelines sequentially on GPU. In order to maximize efficiency please use a dataset\n",
            "  warnings.warn(\n",
            " 74%|███████▍  | 26/35 [09:33<02:37, 17.46s/it]/usr/local/lib/python3.10/dist-packages/transformers/pipelines/base.py:1123: UserWarning: You seem to be using the pipelines sequentially on GPU. In order to maximize efficiency please use a dataset\n",
            "  warnings.warn(\n",
            " 77%|███████▋  | 27/35 [09:59<02:40, 20.00s/it]/usr/local/lib/python3.10/dist-packages/transformers/pipelines/base.py:1123: UserWarning: You seem to be using the pipelines sequentially on GPU. In order to maximize efficiency please use a dataset\n",
            "  warnings.warn(\n",
            " 80%|████████  | 28/35 [10:14<02:08, 18.42s/it]/usr/local/lib/python3.10/dist-packages/transformers/pipelines/base.py:1123: UserWarning: You seem to be using the pipelines sequentially on GPU. In order to maximize efficiency please use a dataset\n",
            "  warnings.warn(\n",
            " 83%|████████▎ | 29/35 [10:32<01:51, 18.51s/it]/usr/local/lib/python3.10/dist-packages/transformers/pipelines/base.py:1123: UserWarning: You seem to be using the pipelines sequentially on GPU. In order to maximize efficiency please use a dataset\n",
            "  warnings.warn(\n",
            " 86%|████████▌ | 30/35 [10:57<01:41, 20.26s/it]/usr/local/lib/python3.10/dist-packages/transformers/pipelines/base.py:1123: UserWarning: You seem to be using the pipelines sequentially on GPU. In order to maximize efficiency please use a dataset\n",
            "  warnings.warn(\n",
            " 89%|████████▊ | 31/35 [11:16<01:19, 20.00s/it]/usr/local/lib/python3.10/dist-packages/transformers/pipelines/base.py:1123: UserWarning: You seem to be using the pipelines sequentially on GPU. In order to maximize efficiency please use a dataset\n",
            "  warnings.warn(\n",
            " 91%|█████████▏| 32/35 [11:51<01:13, 24.36s/it]/usr/local/lib/python3.10/dist-packages/transformers/pipelines/base.py:1123: UserWarning: You seem to be using the pipelines sequentially on GPU. In order to maximize efficiency please use a dataset\n",
            "  warnings.warn(\n",
            " 94%|█████████▍| 33/35 [12:18<00:50, 25.38s/it]/usr/local/lib/python3.10/dist-packages/transformers/pipelines/base.py:1123: UserWarning: You seem to be using the pipelines sequentially on GPU. In order to maximize efficiency please use a dataset\n",
            "  warnings.warn(\n",
            " 97%|█████████▋| 34/35 [12:36<00:22, 22.99s/it]/usr/local/lib/python3.10/dist-packages/transformers/pipelines/base.py:1123: UserWarning: You seem to be using the pipelines sequentially on GPU. In order to maximize efficiency please use a dataset\n",
            "  warnings.warn(\n",
            "100%|██████████| 35/35 [13:00<00:00, 22.29s/it]\n"
          ]
        }
      ]
    },
    {
      "cell_type": "code",
      "source": [
        "results"
      ],
      "metadata": {
        "id": "TZNd6vlJClaF",
        "colab": {
          "base_uri": "https://localhost:8080/",
          "height": 1000
        },
        "outputId": "c139c6ea-137e-46b2-8327-ec9186324c4e"
      },
      "execution_count": null,
      "outputs": [
        {
          "output_type": "execute_result",
          "data": {
            "text/plain": [
              "                                             question  \\\n",
              "0   What is the total revenue generated by the COC...   \n",
              "1   What is the COCA COLA CO's cost of goods sold ...   \n",
              "2   What is the COCA COLA CO's gross profit margin...   \n",
              "3   What are the COCA COLA CO's major operating ex...   \n",
              "4   What is the COCA COLA CO's operating income an...   \n",
              "5   What is the COCA COLA CO's net income for the ...   \n",
              "6   What is the COCA COLA CO's earnings per share ...   \n",
              "7   What is the COCA COLA CO's cash flow generated...   \n",
              "8   How much has the COCA COLA CO invested in capi...   \n",
              "9   What is the COCA COLA CO's total outstanding d...   \n",
              "10  What is the COCA COLA CO's current ratio and q...   \n",
              "11  How much inventory does the COCA COLA CO hold ...   \n",
              "12  What is the COCA COLA CO's accounts receivable...   \n",
              "13  What is the COCA COLA CO's market share in its...   \n",
              "14  Who are the COCA COLA CO's main competitors an...   \n",
              "15  What are the COCA COLA CO's key risks mentione...   \n",
              "16  What are the COCA COLA CO's key insights provi...   \n",
              "17  How does the COCA COLA CO's management view th...   \n",
              "18  Are there any ongoing legal proceedings agains...   \n",
              "19  What potential impact could legal issues have ...   \n",
              "20  What is the effective tax rate for the COCA CO...   \n",
              "21  Are there any tax-related risks or benefits fo...   \n",
              "22  How much is spent on research and development ...   \n",
              "23  What innovations or projects are currently in ...   \n",
              "24  What is the COCA COLA CO's dividend history an...   \n",
              "25  Has the COCA COLA CO engaged in any share buyb...   \n",
              "26  What employee benefits does the COCA COLA CO o...   \n",
              "27  How is the COCA COLA CO's corporate culture de...   \n",
              "28  How does the COCA COLA CO address Environmenta...   \n",
              "29  What is the COCA COLA CO's geographic breakdow...   \n",
              "30  How does the COCA COLA CO manage currency risk...   \n",
              "31  What are the COCA COLA CO's critical accountin...   \n",
              "32  What are the COCA COLA CO's pension obligation...   \n",
              "33  How does the COCA COLA CO leverage technology ...   \n",
              "34  What does the COCA COLA CO foresee in terms of...   \n",
              "\n",
              "                                             response  \\\n",
              "0   According to the document provided, the total ...   \n",
              "1   According to the document provided, the COCA C...   \n",
              "2   The answer is in the context! According to the...   \n",
              "3   Based on the information provided in the docum...   \n",
              "4   The answer to your question is not directly pr...   \n",
              "5   According to the document provided, The Coca-C...   \n",
              "6   According to the provided document, the COCA C...   \n",
              "7   Based on the provided information, the COCA CO...   \n",
              "8   The answer is not in the context. There is no ...   \n",
              "9   According to the information provided in the d...   \n",
              "10  Based on the information provided in the docum...   \n",
              "11  The answer is not in the context. The document...   \n",
              "12  The accounts receivable turnover for COCA COLA...   \n",
              "13  The answer is in the context. According to the...   \n",
              "14  The answer is in the context. According to the...   \n",
              "15  Based on the information provided in the 10-K ...   \n",
              "16  The answer is in the context! According to the...   \n",
              "17  The answer is in the context. According to the...   \n",
              "18  The answer is in the context. According to the...   \n",
              "19  The answer is in the context. According to the...   \n",
              "20  The answer is in the context. According to the...   \n",
              "21  The answer is not in the context. There is no ...   \n",
              "22  According to the provided document, the amount...   \n",
              "23  The answer is not in the context of the provid...   \n",
              "24  According to the provided document, the COCA C...   \n",
              "25  The answer is not in the provided information....   \n",
              "26  Based on the information provided in the docum...   \n",
              "27  The answer is not in the provided information....   \n",
              "28  The answer is in the context. According to the...   \n",
              "29  Based on the information provided in the docum...   \n",
              "30  The answer is in the context. According to the...   \n",
              "31  According to the provided document, the COCA C...   \n",
              "32  Based on the information provided in the docum...   \n",
              "33  The answer is in the context. According to the...   \n",
              "34  The answer is in the context. According to the...   \n",
              "\n",
              "                                              context  \n",
              "0   [page_content=\"Open commodity derivatives that...  \n",
              "1   [page_content='Consolidated Balance Sheets\\nCo...  \n",
              "2   [page_content=\"Gross Profit Margin\\nAs a resul...  \n",
              "3   [page_content=\"Open commodity derivatives that...  \n",
              "4   [page_content='Because of its inherent limitat...  \n",
              "5   [page_content='Consolidated Balance Sheets\\nCo...  \n",
              "6   [page_content='Period Total Number of\\nShares ...  \n",
              "7   [page_content='1,905\\nTOTAL EQUITY\\n18,977\\n23...  \n",
              "8   [page_content='During 2020, proceeds from disp...  \n",
              "9   [page_content=\"THE COCA-COLA COMPANY AND SUBSI...  \n",
              "10  [page_content='December 31, 2016 2017 2018 201...  \n",
              "11  [page_content='Distribution System\\nWe make ou...  \n",
              "12  [page_content=\"THE COCA-COLA COMPANY AND SUBSI...  \n",
              "13  [page_content='ITEM 1. BUSINESS\\nIn this repor...  \n",
              "14  [page_content='Refer to Notes to Consolidated ...  \n",
              "15  [page_content='4.33\\nFirst Supplemental Indent...  \n",
              "16  [page_content='Companies included in the Dow J...  \n",
              "17  [page_content='We may from time to time engage...  \n",
              "18  [page_content='The Company is involved in vari...  \n",
              "19  [page_content='We may from time to time engage...  \n",
              "20  [page_content='1The increase was primarily rel...  \n",
              "21  [page_content=\"NOTE 15: OTHER COMPREHENSIVE IN...  \n",
              "22  [page_content='December 31, 2016 2017 2018 201...  \n",
              "23  [page_content='as held for sale and report any...  \n",
              "24  [page_content='Period Total Number of\\nShares ...  \n",
              "25  [page_content='NOTE 12: STOCK-BASED COMPENSATI...  \n",
              "26  [page_content='10.9.2\\nThe Coca-Cola Company D...  \n",
              "27  [page_content='Our Business\\nGeneral\\nThe Coca...  \n",
              "28  [page_content='There is increasing concern tha...  \n",
              "29  [page_content='December 31, 2016 2017 2018 201...  \n",
              "30  [page_content='RISKS RELATED TO FINANCE, ACCOU...  \n",
              "31  [page_content='February 22, 2022\\nReport of In...  \n",
              "32  [page_content='10.5.25\\nForm of Restricted Sto...  \n",
              "33  [page_content='If we are not successful in our...  \n",
              "34  [page_content='If we are not successful in our...  "
            ],
            "text/html": [
              "\n",
              "  <div id=\"df-4ef40104-e4a3-4f44-9d8e-0ad95b04d6a5\" class=\"colab-df-container\">\n",
              "    <div>\n",
              "<style scoped>\n",
              "    .dataframe tbody tr th:only-of-type {\n",
              "        vertical-align: middle;\n",
              "    }\n",
              "\n",
              "    .dataframe tbody tr th {\n",
              "        vertical-align: top;\n",
              "    }\n",
              "\n",
              "    .dataframe thead th {\n",
              "        text-align: right;\n",
              "    }\n",
              "</style>\n",
              "<table border=\"1\" class=\"dataframe\">\n",
              "  <thead>\n",
              "    <tr style=\"text-align: right;\">\n",
              "      <th></th>\n",
              "      <th>question</th>\n",
              "      <th>response</th>\n",
              "      <th>context</th>\n",
              "    </tr>\n",
              "  </thead>\n",
              "  <tbody>\n",
              "    <tr>\n",
              "      <th>0</th>\n",
              "      <td>What is the total revenue generated by the COC...</td>\n",
              "      <td>According to the document provided, the total ...</td>\n",
              "      <td>[page_content=\"Open commodity derivatives that...</td>\n",
              "    </tr>\n",
              "    <tr>\n",
              "      <th>1</th>\n",
              "      <td>What is the COCA COLA CO's cost of goods sold ...</td>\n",
              "      <td>According to the document provided, the COCA C...</td>\n",
              "      <td>[page_content='Consolidated Balance Sheets\\nCo...</td>\n",
              "    </tr>\n",
              "    <tr>\n",
              "      <th>2</th>\n",
              "      <td>What is the COCA COLA CO's gross profit margin...</td>\n",
              "      <td>The answer is in the context! According to the...</td>\n",
              "      <td>[page_content=\"Gross Profit Margin\\nAs a resul...</td>\n",
              "    </tr>\n",
              "    <tr>\n",
              "      <th>3</th>\n",
              "      <td>What are the COCA COLA CO's major operating ex...</td>\n",
              "      <td>Based on the information provided in the docum...</td>\n",
              "      <td>[page_content=\"Open commodity derivatives that...</td>\n",
              "    </tr>\n",
              "    <tr>\n",
              "      <th>4</th>\n",
              "      <td>What is the COCA COLA CO's operating income an...</td>\n",
              "      <td>The answer to your question is not directly pr...</td>\n",
              "      <td>[page_content='Because of its inherent limitat...</td>\n",
              "    </tr>\n",
              "    <tr>\n",
              "      <th>5</th>\n",
              "      <td>What is the COCA COLA CO's net income for the ...</td>\n",
              "      <td>According to the document provided, The Coca-C...</td>\n",
              "      <td>[page_content='Consolidated Balance Sheets\\nCo...</td>\n",
              "    </tr>\n",
              "    <tr>\n",
              "      <th>6</th>\n",
              "      <td>What is the COCA COLA CO's earnings per share ...</td>\n",
              "      <td>According to the provided document, the COCA C...</td>\n",
              "      <td>[page_content='Period Total Number of\\nShares ...</td>\n",
              "    </tr>\n",
              "    <tr>\n",
              "      <th>7</th>\n",
              "      <td>What is the COCA COLA CO's cash flow generated...</td>\n",
              "      <td>Based on the provided information, the COCA CO...</td>\n",
              "      <td>[page_content='1,905\\nTOTAL EQUITY\\n18,977\\n23...</td>\n",
              "    </tr>\n",
              "    <tr>\n",
              "      <th>8</th>\n",
              "      <td>How much has the COCA COLA CO invested in capi...</td>\n",
              "      <td>The answer is not in the context. There is no ...</td>\n",
              "      <td>[page_content='During 2020, proceeds from disp...</td>\n",
              "    </tr>\n",
              "    <tr>\n",
              "      <th>9</th>\n",
              "      <td>What is the COCA COLA CO's total outstanding d...</td>\n",
              "      <td>According to the information provided in the d...</td>\n",
              "      <td>[page_content=\"THE COCA-COLA COMPANY AND SUBSI...</td>\n",
              "    </tr>\n",
              "    <tr>\n",
              "      <th>10</th>\n",
              "      <td>What is the COCA COLA CO's current ratio and q...</td>\n",
              "      <td>Based on the information provided in the docum...</td>\n",
              "      <td>[page_content='December 31, 2016 2017 2018 201...</td>\n",
              "    </tr>\n",
              "    <tr>\n",
              "      <th>11</th>\n",
              "      <td>How much inventory does the COCA COLA CO hold ...</td>\n",
              "      <td>The answer is not in the context. The document...</td>\n",
              "      <td>[page_content='Distribution System\\nWe make ou...</td>\n",
              "    </tr>\n",
              "    <tr>\n",
              "      <th>12</th>\n",
              "      <td>What is the COCA COLA CO's accounts receivable...</td>\n",
              "      <td>The accounts receivable turnover for COCA COLA...</td>\n",
              "      <td>[page_content=\"THE COCA-COLA COMPANY AND SUBSI...</td>\n",
              "    </tr>\n",
              "    <tr>\n",
              "      <th>13</th>\n",
              "      <td>What is the COCA COLA CO's market share in its...</td>\n",
              "      <td>The answer is in the context. According to the...</td>\n",
              "      <td>[page_content='ITEM 1. BUSINESS\\nIn this repor...</td>\n",
              "    </tr>\n",
              "    <tr>\n",
              "      <th>14</th>\n",
              "      <td>Who are the COCA COLA CO's main competitors an...</td>\n",
              "      <td>The answer is in the context. According to the...</td>\n",
              "      <td>[page_content='Refer to Notes to Consolidated ...</td>\n",
              "    </tr>\n",
              "    <tr>\n",
              "      <th>15</th>\n",
              "      <td>What are the COCA COLA CO's key risks mentione...</td>\n",
              "      <td>Based on the information provided in the 10-K ...</td>\n",
              "      <td>[page_content='4.33\\nFirst Supplemental Indent...</td>\n",
              "    </tr>\n",
              "    <tr>\n",
              "      <th>16</th>\n",
              "      <td>What are the COCA COLA CO's key insights provi...</td>\n",
              "      <td>The answer is in the context! According to the...</td>\n",
              "      <td>[page_content='Companies included in the Dow J...</td>\n",
              "    </tr>\n",
              "    <tr>\n",
              "      <th>17</th>\n",
              "      <td>How does the COCA COLA CO's management view th...</td>\n",
              "      <td>The answer is in the context. According to the...</td>\n",
              "      <td>[page_content='We may from time to time engage...</td>\n",
              "    </tr>\n",
              "    <tr>\n",
              "      <th>18</th>\n",
              "      <td>Are there any ongoing legal proceedings agains...</td>\n",
              "      <td>The answer is in the context. According to the...</td>\n",
              "      <td>[page_content='The Company is involved in vari...</td>\n",
              "    </tr>\n",
              "    <tr>\n",
              "      <th>19</th>\n",
              "      <td>What potential impact could legal issues have ...</td>\n",
              "      <td>The answer is in the context. According to the...</td>\n",
              "      <td>[page_content='We may from time to time engage...</td>\n",
              "    </tr>\n",
              "    <tr>\n",
              "      <th>20</th>\n",
              "      <td>What is the effective tax rate for the COCA CO...</td>\n",
              "      <td>The answer is in the context. According to the...</td>\n",
              "      <td>[page_content='1The increase was primarily rel...</td>\n",
              "    </tr>\n",
              "    <tr>\n",
              "      <th>21</th>\n",
              "      <td>Are there any tax-related risks or benefits fo...</td>\n",
              "      <td>The answer is not in the context. There is no ...</td>\n",
              "      <td>[page_content=\"NOTE 15: OTHER COMPREHENSIVE IN...</td>\n",
              "    </tr>\n",
              "    <tr>\n",
              "      <th>22</th>\n",
              "      <td>How much is spent on research and development ...</td>\n",
              "      <td>According to the provided document, the amount...</td>\n",
              "      <td>[page_content='December 31, 2016 2017 2018 201...</td>\n",
              "    </tr>\n",
              "    <tr>\n",
              "      <th>23</th>\n",
              "      <td>What innovations or projects are currently in ...</td>\n",
              "      <td>The answer is not in the context of the provid...</td>\n",
              "      <td>[page_content='as held for sale and report any...</td>\n",
              "    </tr>\n",
              "    <tr>\n",
              "      <th>24</th>\n",
              "      <td>What is the COCA COLA CO's dividend history an...</td>\n",
              "      <td>According to the provided document, the COCA C...</td>\n",
              "      <td>[page_content='Period Total Number of\\nShares ...</td>\n",
              "    </tr>\n",
              "    <tr>\n",
              "      <th>25</th>\n",
              "      <td>Has the COCA COLA CO engaged in any share buyb...</td>\n",
              "      <td>The answer is not in the provided information....</td>\n",
              "      <td>[page_content='NOTE 12: STOCK-BASED COMPENSATI...</td>\n",
              "    </tr>\n",
              "    <tr>\n",
              "      <th>26</th>\n",
              "      <td>What employee benefits does the COCA COLA CO o...</td>\n",
              "      <td>Based on the information provided in the docum...</td>\n",
              "      <td>[page_content='10.9.2\\nThe Coca-Cola Company D...</td>\n",
              "    </tr>\n",
              "    <tr>\n",
              "      <th>27</th>\n",
              "      <td>How is the COCA COLA CO's corporate culture de...</td>\n",
              "      <td>The answer is not in the provided information....</td>\n",
              "      <td>[page_content='Our Business\\nGeneral\\nThe Coca...</td>\n",
              "    </tr>\n",
              "    <tr>\n",
              "      <th>28</th>\n",
              "      <td>How does the COCA COLA CO address Environmenta...</td>\n",
              "      <td>The answer is in the context. According to the...</td>\n",
              "      <td>[page_content='There is increasing concern tha...</td>\n",
              "    </tr>\n",
              "    <tr>\n",
              "      <th>29</th>\n",
              "      <td>What is the COCA COLA CO's geographic breakdow...</td>\n",
              "      <td>Based on the information provided in the docum...</td>\n",
              "      <td>[page_content='December 31, 2016 2017 2018 201...</td>\n",
              "    </tr>\n",
              "    <tr>\n",
              "      <th>30</th>\n",
              "      <td>How does the COCA COLA CO manage currency risk...</td>\n",
              "      <td>The answer is in the context. According to the...</td>\n",
              "      <td>[page_content='RISKS RELATED TO FINANCE, ACCOU...</td>\n",
              "    </tr>\n",
              "    <tr>\n",
              "      <th>31</th>\n",
              "      <td>What are the COCA COLA CO's critical accountin...</td>\n",
              "      <td>According to the provided document, the COCA C...</td>\n",
              "      <td>[page_content='February 22, 2022\\nReport of In...</td>\n",
              "    </tr>\n",
              "    <tr>\n",
              "      <th>32</th>\n",
              "      <td>What are the COCA COLA CO's pension obligation...</td>\n",
              "      <td>Based on the information provided in the docum...</td>\n",
              "      <td>[page_content='10.5.25\\nForm of Restricted Sto...</td>\n",
              "    </tr>\n",
              "    <tr>\n",
              "      <th>33</th>\n",
              "      <td>How does the COCA COLA CO leverage technology ...</td>\n",
              "      <td>The answer is in the context. According to the...</td>\n",
              "      <td>[page_content='If we are not successful in our...</td>\n",
              "    </tr>\n",
              "    <tr>\n",
              "      <th>34</th>\n",
              "      <td>What does the COCA COLA CO foresee in terms of...</td>\n",
              "      <td>The answer is in the context. According to the...</td>\n",
              "      <td>[page_content='If we are not successful in our...</td>\n",
              "    </tr>\n",
              "  </tbody>\n",
              "</table>\n",
              "</div>\n",
              "    <div class=\"colab-df-buttons\">\n",
              "\n",
              "  <div class=\"colab-df-container\">\n",
              "    <button class=\"colab-df-convert\" onclick=\"convertToInteractive('df-4ef40104-e4a3-4f44-9d8e-0ad95b04d6a5')\"\n",
              "            title=\"Convert this dataframe to an interactive table.\"\n",
              "            style=\"display:none;\">\n",
              "\n",
              "  <svg xmlns=\"http://www.w3.org/2000/svg\" height=\"24px\" viewBox=\"0 -960 960 960\">\n",
              "    <path d=\"M120-120v-720h720v720H120Zm60-500h600v-160H180v160Zm220 220h160v-160H400v160Zm0 220h160v-160H400v160ZM180-400h160v-160H180v160Zm440 0h160v-160H620v160ZM180-180h160v-160H180v160Zm440 0h160v-160H620v160Z\"/>\n",
              "  </svg>\n",
              "    </button>\n",
              "\n",
              "  <style>\n",
              "    .colab-df-container {\n",
              "      display:flex;\n",
              "      gap: 12px;\n",
              "    }\n",
              "\n",
              "    .colab-df-convert {\n",
              "      background-color: #E8F0FE;\n",
              "      border: none;\n",
              "      border-radius: 50%;\n",
              "      cursor: pointer;\n",
              "      display: none;\n",
              "      fill: #1967D2;\n",
              "      height: 32px;\n",
              "      padding: 0 0 0 0;\n",
              "      width: 32px;\n",
              "    }\n",
              "\n",
              "    .colab-df-convert:hover {\n",
              "      background-color: #E2EBFA;\n",
              "      box-shadow: 0px 1px 2px rgba(60, 64, 67, 0.3), 0px 1px 3px 1px rgba(60, 64, 67, 0.15);\n",
              "      fill: #174EA6;\n",
              "    }\n",
              "\n",
              "    .colab-df-buttons div {\n",
              "      margin-bottom: 4px;\n",
              "    }\n",
              "\n",
              "    [theme=dark] .colab-df-convert {\n",
              "      background-color: #3B4455;\n",
              "      fill: #D2E3FC;\n",
              "    }\n",
              "\n",
              "    [theme=dark] .colab-df-convert:hover {\n",
              "      background-color: #434B5C;\n",
              "      box-shadow: 0px 1px 3px 1px rgba(0, 0, 0, 0.15);\n",
              "      filter: drop-shadow(0px 1px 2px rgba(0, 0, 0, 0.3));\n",
              "      fill: #FFFFFF;\n",
              "    }\n",
              "  </style>\n",
              "\n",
              "    <script>\n",
              "      const buttonEl =\n",
              "        document.querySelector('#df-4ef40104-e4a3-4f44-9d8e-0ad95b04d6a5 button.colab-df-convert');\n",
              "      buttonEl.style.display =\n",
              "        google.colab.kernel.accessAllowed ? 'block' : 'none';\n",
              "\n",
              "      async function convertToInteractive(key) {\n",
              "        const element = document.querySelector('#df-4ef40104-e4a3-4f44-9d8e-0ad95b04d6a5');\n",
              "        const dataTable =\n",
              "          await google.colab.kernel.invokeFunction('convertToInteractive',\n",
              "                                                    [key], {});\n",
              "        if (!dataTable) return;\n",
              "\n",
              "        const docLinkHtml = 'Like what you see? Visit the ' +\n",
              "          '<a target=\"_blank\" href=https://colab.research.google.com/notebooks/data_table.ipynb>data table notebook</a>'\n",
              "          + ' to learn more about interactive tables.';\n",
              "        element.innerHTML = '';\n",
              "        dataTable['output_type'] = 'display_data';\n",
              "        await google.colab.output.renderOutput(dataTable, element);\n",
              "        const docLink = document.createElement('div');\n",
              "        docLink.innerHTML = docLinkHtml;\n",
              "        element.appendChild(docLink);\n",
              "      }\n",
              "    </script>\n",
              "  </div>\n",
              "\n",
              "\n",
              "<div id=\"df-56e8ee59-7236-4dcf-8f21-853a37779679\">\n",
              "  <button class=\"colab-df-quickchart\" onclick=\"quickchart('df-56e8ee59-7236-4dcf-8f21-853a37779679')\"\n",
              "            title=\"Suggest charts\"\n",
              "            style=\"display:none;\">\n",
              "\n",
              "<svg xmlns=\"http://www.w3.org/2000/svg\" height=\"24px\"viewBox=\"0 0 24 24\"\n",
              "     width=\"24px\">\n",
              "    <g>\n",
              "        <path d=\"M19 3H5c-1.1 0-2 .9-2 2v14c0 1.1.9 2 2 2h14c1.1 0 2-.9 2-2V5c0-1.1-.9-2-2-2zM9 17H7v-7h2v7zm4 0h-2V7h2v10zm4 0h-2v-4h2v4z\"/>\n",
              "    </g>\n",
              "</svg>\n",
              "  </button>\n",
              "\n",
              "<style>\n",
              "  .colab-df-quickchart {\n",
              "      --bg-color: #E8F0FE;\n",
              "      --fill-color: #1967D2;\n",
              "      --hover-bg-color: #E2EBFA;\n",
              "      --hover-fill-color: #174EA6;\n",
              "      --disabled-fill-color: #AAA;\n",
              "      --disabled-bg-color: #DDD;\n",
              "  }\n",
              "\n",
              "  [theme=dark] .colab-df-quickchart {\n",
              "      --bg-color: #3B4455;\n",
              "      --fill-color: #D2E3FC;\n",
              "      --hover-bg-color: #434B5C;\n",
              "      --hover-fill-color: #FFFFFF;\n",
              "      --disabled-bg-color: #3B4455;\n",
              "      --disabled-fill-color: #666;\n",
              "  }\n",
              "\n",
              "  .colab-df-quickchart {\n",
              "    background-color: var(--bg-color);\n",
              "    border: none;\n",
              "    border-radius: 50%;\n",
              "    cursor: pointer;\n",
              "    display: none;\n",
              "    fill: var(--fill-color);\n",
              "    height: 32px;\n",
              "    padding: 0;\n",
              "    width: 32px;\n",
              "  }\n",
              "\n",
              "  .colab-df-quickchart:hover {\n",
              "    background-color: var(--hover-bg-color);\n",
              "    box-shadow: 0 1px 2px rgba(60, 64, 67, 0.3), 0 1px 3px 1px rgba(60, 64, 67, 0.15);\n",
              "    fill: var(--button-hover-fill-color);\n",
              "  }\n",
              "\n",
              "  .colab-df-quickchart-complete:disabled,\n",
              "  .colab-df-quickchart-complete:disabled:hover {\n",
              "    background-color: var(--disabled-bg-color);\n",
              "    fill: var(--disabled-fill-color);\n",
              "    box-shadow: none;\n",
              "  }\n",
              "\n",
              "  .colab-df-spinner {\n",
              "    border: 2px solid var(--fill-color);\n",
              "    border-color: transparent;\n",
              "    border-bottom-color: var(--fill-color);\n",
              "    animation:\n",
              "      spin 1s steps(1) infinite;\n",
              "  }\n",
              "\n",
              "  @keyframes spin {\n",
              "    0% {\n",
              "      border-color: transparent;\n",
              "      border-bottom-color: var(--fill-color);\n",
              "      border-left-color: var(--fill-color);\n",
              "    }\n",
              "    20% {\n",
              "      border-color: transparent;\n",
              "      border-left-color: var(--fill-color);\n",
              "      border-top-color: var(--fill-color);\n",
              "    }\n",
              "    30% {\n",
              "      border-color: transparent;\n",
              "      border-left-color: var(--fill-color);\n",
              "      border-top-color: var(--fill-color);\n",
              "      border-right-color: var(--fill-color);\n",
              "    }\n",
              "    40% {\n",
              "      border-color: transparent;\n",
              "      border-right-color: var(--fill-color);\n",
              "      border-top-color: var(--fill-color);\n",
              "    }\n",
              "    60% {\n",
              "      border-color: transparent;\n",
              "      border-right-color: var(--fill-color);\n",
              "    }\n",
              "    80% {\n",
              "      border-color: transparent;\n",
              "      border-right-color: var(--fill-color);\n",
              "      border-bottom-color: var(--fill-color);\n",
              "    }\n",
              "    90% {\n",
              "      border-color: transparent;\n",
              "      border-bottom-color: var(--fill-color);\n",
              "    }\n",
              "  }\n",
              "</style>\n",
              "\n",
              "  <script>\n",
              "    async function quickchart(key) {\n",
              "      const quickchartButtonEl =\n",
              "        document.querySelector('#' + key + ' button');\n",
              "      quickchartButtonEl.disabled = true;  // To prevent multiple clicks.\n",
              "      quickchartButtonEl.classList.add('colab-df-spinner');\n",
              "      try {\n",
              "        const charts = await google.colab.kernel.invokeFunction(\n",
              "            'suggestCharts', [key], {});\n",
              "      } catch (error) {\n",
              "        console.error('Error during call to suggestCharts:', error);\n",
              "      }\n",
              "      quickchartButtonEl.classList.remove('colab-df-spinner');\n",
              "      quickchartButtonEl.classList.add('colab-df-quickchart-complete');\n",
              "    }\n",
              "    (() => {\n",
              "      let quickchartButtonEl =\n",
              "        document.querySelector('#df-56e8ee59-7236-4dcf-8f21-853a37779679 button');\n",
              "      quickchartButtonEl.style.display =\n",
              "        google.colab.kernel.accessAllowed ? 'block' : 'none';\n",
              "    })();\n",
              "  </script>\n",
              "</div>\n",
              "    </div>\n",
              "  </div>\n"
            ],
            "application/vnd.google.colaboratory.intrinsic+json": {
              "type": "dataframe",
              "variable_name": "results",
              "summary": "{\n  \"name\": \"results\",\n  \"rows\": 35,\n  \"fields\": [\n    {\n      \"column\": \"question\",\n      \"properties\": {\n        \"dtype\": \"string\",\n        \"num_unique_values\": 35,\n        \"samples\": [\n          \"What employee benefits does the COCA COLA CO offer?\",\n          \"What is the COCA COLA CO's market share in its industry and how has it changed over the years?\",\n          \"What is the COCA COLA CO's dividend history and how sustainable are the dividend payouts?\"\n        ],\n        \"semantic_type\": \"\",\n        \"description\": \"\"\n      }\n    },\n    {\n      \"column\": \"response\",\n      \"properties\": {\n        \"dtype\": \"string\",\n        \"num_unique_values\": 35,\n        \"samples\": [\n          \"Based on the information provided in the document, the following employee benefits are offered by COCA COLA CO:\\n1. Deferred Compensation Plan\\n\\t* Amendment Number One to the Deferred Compensation Plan, effective January 1, 2016\\n\\t* Amendment Number Two to the Deferred Compensation Plan, dated October 24, 2016\\n2. The Coca-Cola Export Corporation Employee Share Plan\\n\\t* Effective as of March 13, 2002\\n3. The Coca-Cola Company Benefits Plan for Members of the Board of Directors\\n\\t* As amended and restated through April 14, 2004\\n\\t* Amendment Number One to the Benefits Plan for Members of the Board of Directors, dated December 16, 2005\\n4. The Coca-Cola Company Severance Pay Plan\\n\\t* As amended and restated effective January 1, 2020\\n\\t* First Amendment to the Severance Pay Plan, dated May 29, 2020\\nNote that this list may not be exhaustive, as there may be other employee benefits offered by COCA COLA CO that are not mentioned in the document.\",\n          \"The answer is in the context. According to the document provided, the COCA COLA CO's market share in its industry is 2.1 billion of the approximately 63 billion servings of all beverages consumed worldwide every day. This information is provided in the section titled \\\"Our Business\\\" under the subheading \\\"Market Share.\\\" Additionally, the document provides information on the company's market share in previous years, such as 2016, 2017, 2018, 2019, and 2020.\",\n          \"According to the provided document, the COCA COLA CO paid out $7,616 in dividends in 2022, $7,252 in 2021, and $7,047 in 2020. There is no information provided about the dividend history beyond these three years. Therefore, the answer to this question is not in the context.\"\n        ],\n        \"semantic_type\": \"\",\n        \"description\": \"\"\n      }\n    },\n    {\n      \"column\": \"context\",\n      \"properties\": {\n        \"dtype\": \"object\",\n        \"semantic_type\": \"\",\n        \"description\": \"\"\n      }\n    }\n  ]\n}"
            }
          },
          "metadata": {},
          "execution_count": 18
        }
      ]
    },
    {
      "cell_type": "code",
      "source": [
        "results.to_json('results_Coca_Cola_rerank_6-2_filter.json')"
      ],
      "metadata": {
        "id": "nVyDSocS10Ib"
      },
      "execution_count": null,
      "outputs": []
    }
  ],
  "metadata": {
    "colab": {
      "provenance": [],
      "gpuType": "T4",
      "authorship_tag": "ABX9TyPdTf/H7MXLhflOrx25MilR",
      "include_colab_link": true
    },
    "kernelspec": {
      "display_name": "Python 3",
      "name": "python3"
    },
    "language_info": {
      "name": "python"
    },
    "accelerator": "GPU"
  },
  "nbformat": 4,
  "nbformat_minor": 0
}