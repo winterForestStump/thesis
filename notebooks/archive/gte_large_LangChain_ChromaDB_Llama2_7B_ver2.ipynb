{
  "nbformat": 4,
  "nbformat_minor": 0,
  "metadata": {
    "colab": {
      "provenance": [],
      "gpuType": "T4",
      "authorship_tag": "ABX9TyPbBTnF6QOG8VWPxlqs5XCk",
      "include_colab_link": true
    },
    "kernelspec": {
      "name": "python3",
      "display_name": "Python 3"
    },
    "language_info": {
      "name": "python"
    },
    "accelerator": "GPU"
  },
  "cells": [
    {
      "cell_type": "markdown",
      "metadata": {
        "id": "view-in-github",
        "colab_type": "text"
      },
      "source": [
        "<a href=\"https://colab.research.google.com/github/winterForestStump/thesis/blob/main/notebooks/gte_large_LangChain_ChromaDB_Llama2_7B_ver2.ipynb\" target=\"_parent\"><img src=\"https://colab.research.google.com/assets/colab-badge.svg\" alt=\"Open In Colab\"/></a>"
      ]
    },
    {
      "cell_type": "markdown",
      "source": [
        "In this notebook we will add 3 documents (chunked and embedded) into the DB. Then we will conduct QA on this corpus"
      ],
      "metadata": {
        "id": "AW7c7GtDVuvx"
      }
    },
    {
      "cell_type": "markdown",
      "source": [
        "#**Step 1: Install All the Required Packages and Libraries**"
      ],
      "metadata": {
        "id": "C2t8sB89uYE-"
      }
    },
    {
      "cell_type": "code",
      "execution_count": 1,
      "metadata": {
        "id": "mD_xiot7spAE"
      },
      "outputs": [],
      "source": [
        "%%capture\n",
        "!pip install huggingface_hub\n",
        "!pip install langchain\n",
        "!pip install sentence-transformers\n",
        "!pip install chromadb\n",
        "!pip install -q -U transformers peft accelerate optimum\n",
        "!pip install auto-gptq --extra-index-url https://huggingface.github.io/autogptq-index/whl/cu118/\n",
        "!pip install GPUtil\n",
        "!pip install llama-index"
      ]
    },
    {
      "cell_type": "code",
      "source": [
        "import pandas as pd\n",
        "from langchain.text_splitter import RecursiveCharacterTextSplitter\n",
        "#from langchain.retrievers import ParentDocumentRetriever\n",
        "from langchain.vectorstores import Chroma\n",
        "import torch\n",
        "from langchain import HuggingFacePipeline\n",
        "from transformers import AutoModelForCausalLM, AutoTokenizer, GenerationConfig, pipeline\n",
        "from langchain.chains import RetrievalQA\n",
        "from langchain import PromptTemplate\n",
        "from langchain.embeddings import HuggingFaceEmbeddings\n",
        "from textwrap import fill\n",
        "from huggingface_hub import hf_hub_download\n",
        "import GPUtil\n",
        "import requests\n",
        "import chromadb\n",
        "from llama_index.vector_stores import ChromaVectorStore\n",
        "from llama_index import SimpleDirectoryReader, ServiceContext, StorageContext, VectorStoreIndex\n",
        "from llama_index.text_splitter import SentenceSplitter"
      ],
      "metadata": {
        "id": "TfRurammx9K6"
      },
      "execution_count": 2,
      "outputs": []
    },
    {
      "cell_type": "markdown",
      "source": [
        "#**Step 1A: Recursively split by character**"
      ],
      "metadata": {
        "id": "8Is_2-PlnDXj"
      }
    },
    {
      "cell_type": "markdown",
      "source": [
        "https://python.langchain.com/docs/modules/data_connection/document_transformers/recursive_text_splitter"
      ],
      "metadata": {
        "id": "9o23wjh9nNrD"
      }
    },
    {
      "cell_type": "code",
      "source": [
        "import locale\n",
        "locale.getpreferredencoding = lambda: \"UTF-8\"\n",
        "!nvidia-smi"
      ],
      "metadata": {
        "colab": {
          "base_uri": "https://localhost:8080/"
        },
        "id": "KODP-ytG3zXv",
        "outputId": "a278eb67-0632-45dc-ddd2-425f4a6ac387"
      },
      "execution_count": 3,
      "outputs": [
        {
          "output_type": "stream",
          "name": "stdout",
          "text": [
            "Mon Jan 29 18:25:06 2024       \n",
            "+---------------------------------------------------------------------------------------+\n",
            "| NVIDIA-SMI 535.104.05             Driver Version: 535.104.05   CUDA Version: 12.2     |\n",
            "|-----------------------------------------+----------------------+----------------------+\n",
            "| GPU  Name                 Persistence-M | Bus-Id        Disp.A | Volatile Uncorr. ECC |\n",
            "| Fan  Temp   Perf          Pwr:Usage/Cap |         Memory-Usage | GPU-Util  Compute M. |\n",
            "|                                         |                      |               MIG M. |\n",
            "|=========================================+======================+======================|\n",
            "|   0  Tesla T4                       Off | 00000000:00:04.0 Off |                    0 |\n",
            "| N/A   48C    P8              10W /  70W |      0MiB / 15360MiB |      0%      Default |\n",
            "|                                         |                      |                  N/A |\n",
            "+-----------------------------------------+----------------------+----------------------+\n",
            "                                                                                         \n",
            "+---------------------------------------------------------------------------------------+\n",
            "| Processes:                                                                            |\n",
            "|  GPU   GI   CI        PID   Type   Process name                            GPU Memory |\n",
            "|        ID   ID                                                             Usage      |\n",
            "|=======================================================================================|\n",
            "|  No running processes found                                                           |\n",
            "+---------------------------------------------------------------------------------------+\n"
          ]
        }
      ]
    },
    {
      "cell_type": "code",
      "source": [
        "%%capture\n",
        "!mkdir -p 'data'\n",
        "!wget 'https://raw.githubusercontent.com/winterForestStump/thesis/main/notebooks/example_texts/txt_examp_1.txt' -O 'data/txt_examp_1.txt'\n",
        "!wget 'https://raw.githubusercontent.com/winterForestStump/thesis/main/notebooks/example_texts/txt_examp_2.txt' -O 'data/txt_examp_2.txt'\n",
        "!wget 'https://raw.githubusercontent.com/winterForestStump/thesis/main/notebooks/example_texts/txt_examp_3.txt' -O 'data/txt_examp_3.txt'"
      ],
      "metadata": {
        "id": "aVm1C8kWcYNv"
      },
      "execution_count": 4,
      "outputs": []
    },
    {
      "cell_type": "code",
      "source": [
        "%%capture\n",
        "embeddings = HuggingFaceEmbeddings(\n",
        "    model_name=\"thenlper/gte-large\",\n",
        "    model_kwargs={\"device\": \"cuda\"},\n",
        "    encode_kwargs={\"normalize_embeddings\": True},\n",
        ")"
      ],
      "metadata": {
        "id": "dPYJ_JspDdnw"
      },
      "execution_count": 5,
      "outputs": []
    },
    {
      "cell_type": "code",
      "source": [
        "data = []\n",
        "for i in range(1,3):\n",
        "  with open(f\"/content/data/txt_examp_{i}.txt\", encoding='unicode_escape') as f:\n",
        "    data.append(f.read())"
      ],
      "metadata": {
        "id": "la6ZEgY7QlNu"
      },
      "execution_count": 6,
      "outputs": []
    },
    {
      "cell_type": "code",
      "source": [
        "CHUNK_SIZE = 256\n",
        "CHUNK_OVERLAP = 32\n",
        "\n",
        "\n",
        "text_splitter = RecursiveCharacterTextSplitter(\n",
        "    chunk_size=CHUNK_SIZE,\n",
        "    chunk_overlap=CHUNK_OVERLAP,\n",
        "    length_function=len,\n",
        "    is_separator_regex=True)\n",
        "\n",
        "create_docs = text_splitter.create_documents(data)\n"
      ],
      "metadata": {
        "id": "9Ns0ry8qSNrQ"
      },
      "execution_count": 7,
      "outputs": []
    },
    {
      "cell_type": "code",
      "source": [
        "from langchain_community.vectorstores import Chroma\n",
        "db = Chroma.from_documents(create_docs, embeddings)"
      ],
      "metadata": {
        "id": "NXvrCsSNSd0b"
      },
      "execution_count": 8,
      "outputs": []
    },
    {
      "cell_type": "code",
      "source": [
        "query = \"What was the consolidated revenue (sales) of the Air Products and Chemicals, Inc. in 2023 and how it changed since 2021?\"\n",
        "docs = db.similarity_search(query)"
      ],
      "metadata": {
        "id": "2XFs5dJrSjT6"
      },
      "execution_count": 9,
      "outputs": []
    },
    {
      "cell_type": "code",
      "source": [
        "print(docs[0].page_content)"
      ],
      "metadata": {
        "colab": {
          "base_uri": "https://localhost:8080/"
        },
        "id": "XtXL7sGMSoT3",
        "outputId": "b3ab7ce4-3aed-4a12-dfcc-bffc3b5b6456"
      },
      "execution_count": 10,
      "outputs": [
        {
          "output_type": "stream",
          "name": "stdout",
          "text": [
            "Air Products and Chemicals, Inc. and Subsidiaries\n",
            "CONSOLIDATED INCOME STATEMENTS\n",
            "For the Fiscal Years Ended 30 September\n",
            "(Millions of U.S. Dollars, except for share and per share data) 2023 2022 2021\n",
            "Sales $12,600.0 $12,698.6 $10,323.0\n"
          ]
        }
      ]
    },
    {
      "cell_type": "code",
      "source": [
        "%%capture\n",
        "MODEL_NAME = \"TheBloke/Llama-2-7b-Chat-GPTQ\"\n",
        "TEMPERATURE = 0.0001\n",
        "MAX_NEW_TOKENS = 1024\n",
        "TOP_P = 0.95\n",
        "REPETITION_PENALTY = 1.15\n",
        "\n",
        "\n",
        "tokenizer = AutoTokenizer.from_pretrained(MODEL_NAME, use_fast=True)\n",
        "model = AutoModelForCausalLM.from_pretrained(MODEL_NAME, torch_dtype=torch.float16, trust_remote_code=True, device_map=\"auto\")\n",
        "\n",
        "generation_config = GenerationConfig.from_pretrained(MODEL_NAME)\n",
        "generation_config.max_new_tokens = MAX_NEW_TOKENS\n",
        "generation_config.temperature = TEMPERATURE\n",
        "generation_config.top_p = TOP_P\n",
        "generation_config.do_sample = True\n",
        "generation_config.repetition_penalty = REPETITION_PENALTY\n",
        "\n",
        "text_pipeline = pipeline(\n",
        "    \"text-generation\",\n",
        "    model=model,\n",
        "    tokenizer=tokenizer,\n",
        "    generation_config=generation_config,\n",
        ")\n",
        "\n",
        "llm = HuggingFacePipeline(pipeline=text_pipeline, model_kwargs={\"temperature\": TEMPERATURE})"
      ],
      "metadata": {
        "id": "wuoceCGEoJR6"
      },
      "execution_count": 11,
      "outputs": []
    },
    {
      "cell_type": "markdown",
      "source": [
        "Creating a plot template"
      ],
      "metadata": {
        "id": "Ma4nQyB3IVUB"
      }
    },
    {
      "cell_type": "code",
      "source": [
        "K = 10\n",
        "SCORE_THRESHOLD = 0.5\n",
        "\n",
        "\n",
        "template = \"\"\"\n",
        "<s>[INST] <<SYS>>\n",
        "Use the following information from company annual reports and answer the question at the end.\n",
        "If the answer is not contained in the provided information, say \"The answer is not in the context\".\n",
        "<</SYS>>\n",
        "\n",
        "{context}\n",
        "\n",
        "{question} [/INST]\n",
        "\"\"\"\n",
        "\n",
        "prompt = PromptTemplate(template=template, input_variables=[\"context\", \"question\"])\n",
        "\n",
        "qa_chain = RetrievalQA.from_chain_type(\n",
        "    llm=llm,\n",
        "    chain_type=\"stuff\",\n",
        "    retriever=db.as_retriever(search_type=\"similarity_score_threshold\", search_kwargs={\"k\": K, \"score_threshold\": SCORE_THRESHOLD}),\n",
        "    return_source_documents=True,\n",
        "    chain_type_kwargs={\"prompt\": prompt},\n",
        ")"
      ],
      "metadata": {
        "id": "_XEjxzLgsRgf"
      },
      "execution_count": 13,
      "outputs": []
    },
    {
      "cell_type": "code",
      "source": [
        "print('GPU Usage after RetrievalQA:')\n",
        "GPUtil.showUtilization()"
      ],
      "metadata": {
        "colab": {
          "base_uri": "https://localhost:8080/"
        },
        "id": "h7gqbOJR4ktR",
        "outputId": "807f7749-177c-4a1e-e9bd-927f4559bc2f"
      },
      "execution_count": 14,
      "outputs": [
        {
          "output_type": "stream",
          "name": "stdout",
          "text": [
            "GPU Usage after RetrievalQA:\n",
            "| ID | GPU | MEM |\n",
            "------------------\n",
            "|  0 |  0% | 36% |\n"
          ]
        }
      ]
    },
    {
      "cell_type": "code",
      "source": [
        "result = qa_chain(\n",
        "    \"What was the revenue (sales) of the Air Products and Chemicals, Inc. in 2023 and how it changed since 2021?\"\n",
        ")\n",
        "print(fill(result[\"result\"].strip(), width=90))"
      ],
      "metadata": {
        "colab": {
          "base_uri": "https://localhost:8080/"
        },
        "id": "KE24Iu7Z4j3p",
        "outputId": "7fab4b55-f35f-4092-ebcb-c80fc45ab1d2"
      },
      "execution_count": 15,
      "outputs": [
        {
          "output_type": "stream",
          "name": "stderr",
          "text": [
            "/usr/local/lib/python3.10/dist-packages/langchain_core/_api/deprecation.py:117: LangChainDeprecationWarning: The function `__call__` was deprecated in LangChain 0.1.0 and will be removed in 0.2.0. Use invoke instead.\n",
            "  warn_deprecated(\n"
          ]
        },
        {
          "output_type": "stream",
          "name": "stdout",
          "text": [
            "Based on the information provided in the annual report, the revenue (sales) of Air\n",
            "Products and Chemicals, Inc. in 2023 was $12,600 million, which is slightly higher than\n",
            "the previous year's revenue of $10,323 million in 2021. The change in revenue between 2021\n",
            "and 2023 can be seen below: Year Revenue (in millions) Change 2021 $10,323.0 +10.5% 2023\n",
            "$12,600.0 +21.5% Therefore, the answer is $12,600 million in 2023.\n"
          ]
        }
      ]
    },
    {
      "cell_type": "code",
      "source": [
        "result"
      ],
      "metadata": {
        "colab": {
          "base_uri": "https://localhost:8080/"
        },
        "id": "kSWb_YPh-rIu",
        "outputId": "19fc4dfb-9e6d-4538-a686-dd443aae926e"
      },
      "execution_count": 16,
      "outputs": [
        {
          "output_type": "execute_result",
          "data": {
            "text/plain": [
              "{'query': 'What was the revenue (sales) of the Air Products and Chemicals, Inc. in 2023 and how it changed since 2021?',\n",
              " 'result': \"Based on the information provided in the annual report, the revenue (sales) of Air Products and Chemicals, Inc. in 2023 was $12,600 million, which is slightly higher than the previous year's revenue of $10,323 million in 2021. The change in revenue between 2021 and 2023 can be seen below:\\nYear Revenue (in millions) Change\\n2021 $10,323.0 +10.5%\\n2023 $12,600.0 +21.5%\\nTherefore, the answer is $12,600 million in 2023.\",\n",
              " 'source_documents': [Document(page_content='Air Products and Chemicals, Inc. and Subsidiaries\\nCONSOLIDATED INCOME STATEMENTS\\nFor the Fiscal Years Ended 30 September\\n(Millions of U.S. Dollars, except for share and per share data) 2023 2022 2021\\nSales $12,600.0 $12,698.6 $10,323.0'),\n",
              "  Document(page_content='Air Products and Chemicals, Inc. and Subsidiaries\\nCONSOLIDATED COMPREHENSIVE INCOME STATEMENTS\\nFor the Fiscal Years Ended 30 September\\n(Millions of U.S. Dollars) 2023 2022 2021\\nNet Income $2,338.6 $2,266.5 $2,114.9'),\n",
              "  Document(page_content='We have audited the accompanying consolidated balance sheets of Air Products and Chemicals, Inc. and subsidiaries (the \"Company\") as of September 30, 2023 and 2022, the related consolidated income statements, comprehensive income statements, statements of'),\n",
              "  Document(page_content=\"2023 vs. 2022 Operating Income Equity Affiliates' Income Other Non-Operating Income/Expense, Net Income Tax Provision Net Income Attributable to Air Products Diluted EPS\\n2023 GAAP $2,494.6 $604.3 ($39.0) $551.2 $2,292.8 $10.30\"),\n",
              "  Document(page_content='Cash Flows From Operations\\nFiscal Year Ended 30 September 2023 2022\\nNet income from continuing operations attributable to Air Products $2,292.8 $2,243.5\\nAdjustments to reconcile income to cash provided by operating activities:'),\n",
              "  Document(page_content='sales in fiscal years 2023, 2022, and 2021, approximately half of which were attributable to atmospheric gases.'),\n",
              "  Document(page_content='In fiscal year 2023, we recorded a charge of $244.6 ($204.9 attributable to Air Products after tax, or $0.92 per share) for strategic actions intended to optimize costs and focus resources on our growth projects. Of the expense, $217.6 resulted from'),\n",
              "  Document(page_content=\"Retained earnings 17,289.7 16,520.3\\nAccumulated other comprehensive loss (2,449.4) (2,786.1)\\nTreasury stock, at cost (2023 - 27,255,739 shares; 2022 - 27,616,888 shares)\\n(1,967.3) (1,981.0)\\nTotal Air Products Shareholders' Equity 14,312.9 13,144.0\"),\n",
              "  Document(page_content='The accompanying notes are an integral part of these statements.\\nAir Products and Chemicals, Inc. and Subsidiaries\\nCONSOLIDATED STATEMENTS OF CASH FLOWS\\nFor the Fiscal Years Ended 30 September\\n(Millions of U.S. Dollars) 2023 2022 2021\\nOperating Activities'),\n",
              "  Document(page_content='Sept 2018 Sept 2019 Sept 2020 Sept 2021 Sept 2022 Sept 2023\\nAir Products & Chemicals, Inc. 100 136 186 164 153 198\\nS&P 500 Index 100 104 120 156 132 160\\nS&P 500 Materials Index 100 103 115 146 128 151\\nItem 6. [Reserved]\\nNot applicable.')]}"
            ]
          },
          "metadata": {},
          "execution_count": 16
        }
      ]
    },
    {
      "cell_type": "code",
      "source": [
        "print('GPU Usage after the retrieval 1st prompt:')\n",
        "GPUtil.showUtilization()"
      ],
      "metadata": {
        "colab": {
          "base_uri": "https://localhost:8080/"
        },
        "id": "c3j2eOWp1U9x",
        "outputId": "9f65dc43-0397-47f4-d7c6-e75726d9a5bd"
      },
      "execution_count": 17,
      "outputs": [
        {
          "output_type": "stream",
          "name": "stdout",
          "text": [
            "GPU Usage after the retrieval 1st prompt:\n",
            "| ID | GPU | MEM |\n",
            "------------------\n",
            "|  0 | 77% | 46% |\n"
          ]
        }
      ]
    },
    {
      "cell_type": "markdown",
      "source": [
        "other prompts:"
      ],
      "metadata": {
        "id": "TwHIMnJ8tskG"
      }
    },
    {
      "cell_type": "code",
      "source": [
        "result = qa_chain(\n",
        "    \"Summarize the financial results (revenue, costs and net incomes) of the Air Products and Chemicals, Inc. in 2023 and possible risks which can influence the results in the future in 10-12 sentences.\"\n",
        ")\n",
        "print(fill(result[\"result\"].strip(), width=90))"
      ],
      "metadata": {
        "colab": {
          "base_uri": "https://localhost:8080/"
        },
        "id": "5ZzwosyjtruE",
        "outputId": "e80fb152-fe53-4677-ca3d-bf33f81e9868"
      },
      "execution_count": 18,
      "outputs": [
        {
          "output_type": "stream",
          "name": "stdout",
          "text": [
            "In 2023, Air Products and Chemicals, Inc. reported a net income of $2.3 billion,\n",
            "representing a 14% increase compared to the previous year. The company's revenue reached\n",
            "$12.6 billion, up by 10%. The main contributors to the company's growth were the increased\n",
            "sales of industrial gases, such as oxygen, nitrogen, and argon, as well as the higher\n",
            "demand for chemicals and materials. However, the company also faced some challenges,\n",
            "including rising energy costs and currency fluctuations, which might impact its future\n",
            "results. To mitigate these risks, the company has implemented various cost-saving measures\n",
            "and diversified its product portfolio. Overall, Air Products and Chemicals, Inc.'s strong\n",
            "financial performance in 2023 suggests that the company is well-positioned to continue\n",
            "growing in the future.\n"
          ]
        }
      ]
    },
    {
      "cell_type": "code",
      "source": [
        "result"
      ],
      "metadata": {
        "colab": {
          "base_uri": "https://localhost:8080/"
        },
        "id": "Jc_tn9ay-tVQ",
        "outputId": "4d59cc4a-1f8b-44db-f1ce-f6c9a213c137"
      },
      "execution_count": 19,
      "outputs": [
        {
          "output_type": "execute_result",
          "data": {
            "text/plain": [
              "{'query': 'Summarize the financial results (revenue, costs and net incomes) of the Air Products and Chemicals, Inc. in 2023 and possible risks which can influence the results in the future in 10-12 sentences.',\n",
              " 'result': \"In 2023, Air Products and Chemicals, Inc. reported a net income of $2.3 billion, representing a 14% increase compared to the previous year. The company's revenue reached $12.6 billion, up by 10%. The main contributors to the company's growth were the increased sales of industrial gases, such as oxygen, nitrogen, and argon, as well as the higher demand for chemicals and materials. However, the company also faced some challenges, including rising energy costs and currency fluctuations, which might impact its future results. To mitigate these risks, the company has implemented various cost-saving measures and diversified its product portfolio. Overall, Air Products and Chemicals, Inc.'s strong financial performance in 2023 suggests that the company is well-positioned to continue growing in the future.\",\n",
              " 'source_documents': [Document(page_content='Air Products and Chemicals, Inc. and Subsidiaries\\nCONSOLIDATED COMPREHENSIVE INCOME STATEMENTS\\nFor the Fiscal Years Ended 30 September\\n(Millions of U.S. Dollars) 2023 2022 2021\\nNet Income $2,338.6 $2,266.5 $2,114.9'),\n",
              "  Document(page_content='Air Products and Chemicals, Inc. and Subsidiaries\\nCONSOLIDATED INCOME STATEMENTS\\nFor the Fiscal Years Ended 30 September\\n(Millions of U.S. Dollars, except for share and per share data) 2023 2022 2021\\nSales $12,600.0 $12,698.6 $10,323.0'),\n",
              "  Document(page_content='(1) Financial Statements.\\nThe following is a list of the Consolidated Financial Statements of Air Products and Chemicals, Inc. and its subsidiaries included in Part II, Item 8. Financial Statements and Supplementary Data:'),\n",
              "  Document(page_content='The accompanying notes are an integral part of these statements.\\nAir Products and Chemicals, Inc. and Subsidiaries\\nCONSOLIDATED STATEMENTS OF CASH FLOWS\\nFor the Fiscal Years Ended 30 September\\n(Millions of U.S. Dollars) 2023 2022 2021\\nOperating Activities'),\n",
              "  Document(page_content='We have audited the accompanying consolidated balance sheets of Air Products and Chemicals, Inc. and subsidiaries (the \"Company\") as of September 30, 2023 and 2022, the related consolidated income statements, comprehensive income statements, statements of'),\n",
              "  Document(page_content='Air Products and Chemicals, Inc. and Subsidiaries\\nNOTES TO THE CONSOLIDATED FINANCIAL STATEMENTS\\n(Millions of U.S. Dollars unless otherwise indicated, except for share and per share data)\\n1. Basis of Presentation and Major Accounting Policies'),\n",
              "  Document(page_content='Cash and Cash Items - End of Period $1,617.0 $2,711.0 $4,468.9\\nThe accompanying notes are an integral part of these statements.\\nAir Products and Chemicals, Inc. and Subsidiaries\\nCONSOLIDATED STATEMENTS OF EQUITY\\nFor the Fiscal Years Ended 30 September'),\n",
              "  Document(page_content='Our consolidated income statement for the fiscal year ended 30 September 2023 includes an expense of $244.6 ($204.9 attributable to Air Products after tax) resulting from strategic business and asset actions intended to optimize costs and focus resources'),\n",
              "  Document(page_content='The accompanying notes are an integral part of these statements.\\nAir Products and Chemicals, Inc. and Subsidiaries\\nCONSOLIDATED BALANCE SHEETS\\nAs of the Fiscal Years Ended 30 September'),\n",
              "  Document(page_content='REPORT OF INDEPENDENT REGISTERED PUBLIC ACCOUNTING FIRM\\nTo the shareholders and the Board of Directors of Air Products and Chemicals, Inc.\\nOpinions on the Financial Statements and Internal Control over Financial Reporting')]}"
            ]
          },
          "metadata": {},
          "execution_count": 19
        }
      ]
    },
    {
      "cell_type": "code",
      "source": [
        "print('GPU Usage after the retrieval 2st prompt:')\n",
        "GPUtil.showUtilization()"
      ],
      "metadata": {
        "colab": {
          "base_uri": "https://localhost:8080/"
        },
        "id": "odcaIST_1cQJ",
        "outputId": "42b6531a-3cf0-45fc-c8eb-d999bdc3dde8"
      },
      "execution_count": 20,
      "outputs": [
        {
          "output_type": "stream",
          "name": "stdout",
          "text": [
            "GPU Usage after the retrieval 2st prompt:\n",
            "| ID | GPU | MEM |\n",
            "------------------\n",
            "|  0 | 79% | 46% |\n"
          ]
        }
      ]
    },
    {
      "cell_type": "code",
      "source": [
        "result = qa_chain(\n",
        "    \"What were the net incomes from continuing operations of the Air Products and Chemicals, Inc. in the period from 2021 to 2023?\"\n",
        ")\n",
        "print(fill(result[\"result\"].strip(), width=90))"
      ],
      "metadata": {
        "colab": {
          "base_uri": "https://localhost:8080/"
        },
        "id": "rmapFPe7ktq3",
        "outputId": "e43c8030-1de8-462a-ab22-43c2eece6ef2"
      },
      "execution_count": 21,
      "outputs": [
        {
          "output_type": "stream",
          "name": "stdout",
          "text": [
            "Based on the information provided in the annual report, the net incomes from continuing\n",
            "operations of Air Products and Chemicals, Inc. in the period from 2021 to 2023 are as\n",
            "follows: * For fiscal year 2021, the net income from continuing operations was $2,028.8\n",
            "million. * For fiscal year 2022, the net income from continuing operations was $2,243.5\n",
            "million. * For fiscal year 2023, the net income from continuing operations was $2,292.8\n",
            "million.\n"
          ]
        }
      ]
    },
    {
      "cell_type": "code",
      "source": [
        "result"
      ],
      "metadata": {
        "colab": {
          "base_uri": "https://localhost:8080/"
        },
        "id": "kr6Zc-Fm-u0g",
        "outputId": "0ab52448-a50c-41a8-85bd-c2450d691550"
      },
      "execution_count": 22,
      "outputs": [
        {
          "output_type": "execute_result",
          "data": {
            "text/plain": [
              "{'query': 'What were the net incomes from continuing operations of the Air Products and Chemicals, Inc. in the period from 2021 to 2023?',\n",
              " 'result': 'Based on the information provided in the annual report, the net incomes from continuing operations of Air Products and Chemicals, Inc. in the period from 2021 to 2023 are as follows:\\n* For fiscal year 2021, the net income from continuing operations was $2,028.8 million.\\n* For fiscal year 2022, the net income from continuing operations was $2,243.5 million.\\n* For fiscal year 2023, the net income from continuing operations was $2,292.8 million.',\n",
              " 'source_documents': [Document(page_content='Air Products and Chemicals, Inc. and Subsidiaries\\nCONSOLIDATED COMPREHENSIVE INCOME STATEMENTS\\nFor the Fiscal Years Ended 30 September\\n(Millions of U.S. Dollars) 2023 2022 2021\\nNet Income $2,338.6 $2,266.5 $2,114.9'),\n",
              "  Document(page_content='Air Products and Chemicals, Inc. and Subsidiaries\\nCONSOLIDATED INCOME STATEMENTS\\nFor the Fiscal Years Ended 30 September\\n(Millions of U.S. Dollars, except for share and per share data) 2023 2022 2021\\nSales $12,600.0 $12,698.6 $10,323.0'),\n",
              "  Document(page_content='Cash Flows From Operations\\nFiscal Year Ended 30 September 2023 2022\\nNet income from continuing operations attributable to Air Products $2,292.8 $2,243.5\\nAdjustments to reconcile income to cash provided by operating activities:'),\n",
              "  Document(page_content='Net income from discontinued operations (7.4) (12.6) (70.3)\\nNet income from continuing operations attributable to Air Products 2,292.8 2,243.5 2,028.8\\nAdjustments to reconcile income to cash provided by operating activities:'),\n",
              "  Document(page_content='Net Income Attributable to Air Products\\nNet income from continuing operations $2,292.8 $2,243.5 $2,028.8\\nNet income from discontinued operations 7.4 12.6 70.3\\nNet Income Attributable to Air Products $2,300.2 $2,256.1 $2,099.1'),\n",
              "  Document(page_content=\"2023 vs. 2022 Operating Income Equity Affiliates' Income Other Non-Operating Income/Expense, Net Income Tax Provision Net Income Attributable to Air Products Diluted EPS\\n2023 GAAP $2,494.6 $604.3 ($39.0) $551.2 $2,292.8 $10.30\"),\n",
              "  Document(page_content='We have audited the accompanying consolidated balance sheets of Air Products and Chemicals, Inc. and subsidiaries (the \"Company\") as of September 30, 2023 and 2022, the related consolidated income statements, comprehensive income statements, statements of'),\n",
              "  Document(page_content='Income from discontinued operations, net of tax 7.4 12.6 70.3\\nNet Income 2,338.6 2,266.5 2,114.9\\nNet income attributable to noncontrolling interests of continuing operations 38.4 10.4 15.8\\nNet Income Attributable to Air Products $2,300.2 $2,256.1 $2,099.1'),\n",
              "  Document(page_content='The accompanying notes are an integral part of these statements.\\nAir Products and Chemicals, Inc. and Subsidiaries\\nCONSOLIDATED STATEMENTS OF CASH FLOWS\\nFor the Fiscal Years Ended 30 September\\n(Millions of U.S. Dollars) 2023 2022 2021\\nOperating Activities'),\n",
              "  Document(page_content='Operating Activities\\nNet income $2,338.6 $2,266.5 $2,114.9\\nLess: Net income attributable to noncontrolling interests of continuing operations 38.4 10.4 15.8\\nNet income attributable to Air Products 2,300.2 2,256.1 2,099.1')]}"
            ]
          },
          "metadata": {},
          "execution_count": 22
        }
      ]
    },
    {
      "cell_type": "code",
      "source": [
        "print('GPU Usage after the retrieval 3st prompt:')\n",
        "GPUtil.showUtilization()"
      ],
      "metadata": {
        "colab": {
          "base_uri": "https://localhost:8080/"
        },
        "id": "ASZYO9zX1d0a",
        "outputId": "64ea64cd-f3f8-4093-a3b1-6e045f23c516"
      },
      "execution_count": 23,
      "outputs": [
        {
          "output_type": "stream",
          "name": "stdout",
          "text": [
            "GPU Usage after the retrieval 3st prompt:\n",
            "| ID | GPU | MEM |\n",
            "------------------\n",
            "|  0 | 86% | 46% |\n"
          ]
        }
      ]
    },
    {
      "cell_type": "code",
      "source": [
        "result = qa_chain(\n",
        "    \"What were earnings per share (EPS) of the Air Products and Chemicals, Inc. in 2022-2023 period?\"\n",
        ")\n",
        "print(fill(result[\"result\"].strip(), width=90))"
      ],
      "metadata": {
        "colab": {
          "base_uri": "https://localhost:8080/"
        },
        "id": "b2wq-eAMk4l_",
        "outputId": "99f7ad87-560f-44f4-ab10-9ffcebff561a"
      },
      "execution_count": 24,
      "outputs": [
        {
          "output_type": "stream",
          "name": "stdout",
          "text": [
            "Based on the information provided in the annual report, the earnings per share (EPS) of\n",
            "Air Products and Chemicals, Inc. in the 2022-2023 period was: * Basic EPS from continuing\n",
            "operations: $10.31 (2022) and $10.35 (2023) * Basic EPS from discontinued operations:\n",
            "$0.03 (2022) and $0.03 (2023) * Basic EPS attributable to Air Products: $10.35 (2022) and\n",
            "$10.33 (2023) * Diluted EPS from continuing operations: $10.30 (2022) and $10.30 (2023) *\n",
            "Diluted EPS from discontinued operations: $0.03 (2022) and $0.03 (2023) * Weighted average\n",
            "common shares: 22.3 million (2022) and 222.0 million (2023)  Therefore, the answer is: EPS\n",
            "of Air Products and Chemicals, Inc. in 2022-2023 period = $10.31 (basic) and $10.33\n",
            "(diluted).\n"
          ]
        }
      ]
    },
    {
      "cell_type": "code",
      "source": [
        "result"
      ],
      "metadata": {
        "colab": {
          "base_uri": "https://localhost:8080/"
        },
        "id": "ZUH9RMgY-wdl",
        "outputId": "f8e6f72b-8a18-4315-c0b0-f47effe7d8dd"
      },
      "execution_count": 25,
      "outputs": [
        {
          "output_type": "execute_result",
          "data": {
            "text/plain": [
              "{'query': 'What were earnings per share (EPS) of the Air Products and Chemicals, Inc. in 2022-2023 period?',\n",
              " 'result': 'Based on the information provided in the annual report, the earnings per share (EPS) of Air Products and Chemicals, Inc. in the 2022-2023 period was:\\n* Basic EPS from continuing operations: $10.31 (2022) and $10.35 (2023)\\n* Basic EPS from discontinued operations: $0.03 (2022) and $0.03 (2023)\\n* Basic EPS attributable to Air Products: $10.35 (2022) and $10.33 (2023)\\n* Diluted EPS from continuing operations: $10.30 (2022) and $10.30 (2023)\\n* Diluted EPS from discontinued operations: $0.03 (2022) and $0.03 (2023)\\n* Weighted average common shares: 22.3 million (2022) and 222.0 million (2023)\\n\\nTherefore, the answer is:\\nEPS of Air Products and Chemicals, Inc. in 2022-2023 period = $10.31 (basic) and $10.33 (diluted).',\n",
              " 'source_documents': [Document(page_content='Air Products and Chemicals, Inc. and Subsidiaries\\nCONSOLIDATED INCOME STATEMENTS\\nFor the Fiscal Years Ended 30 September\\n(Millions of U.S. Dollars, except for share and per share data) 2023 2022 2021\\nSales $12,600.0 $12,698.6 $10,323.0'),\n",
              "  Document(page_content='Air Products and Chemicals, Inc. and Subsidiaries\\nCONSOLIDATED COMPREHENSIVE INCOME STATEMENTS\\nFor the Fiscal Years Ended 30 September\\n(Millions of U.S. Dollars) 2023 2022 2021\\nNet Income $2,338.6 $2,266.5 $2,114.9'),\n",
              "  Document(page_content='Per Share Data(A) (U.S. Dollars per share)\\nBasic EPS from continuing operations $10.31 $10.11 $9.16\\nBasic EPS from discontinued operations 0.03 0.06 0.32\\nBasic EPS attributable to Air Products $10.35 $10.16 $9.47'),\n",
              "  Document(page_content='Diluted EPS from continuing operations $10.30 $10.08 $9.12\\nDiluted EPS from discontinued operations 0.03 0.06 0.32\\nDiluted EPS Attributable to Air Products $10.33 $10.14 $9.43\\nWeighted Average Common Shares (in millions)\\nBasic\\n222.3 222.0 221.6\\nDiluted'),\n",
              "  Document(page_content='Sept 2018 Sept 2019 Sept 2020 Sept 2021 Sept 2022 Sept 2023\\nAir Products & Chemicals, Inc. 100 136 186 164 153 198\\nS&P 500 Index 100 104 120 156 132 160\\nS&P 500 Materials Index 100 103 115 146 128 151\\nItem 6. [Reserved]\\nNot applicable.'),\n",
              "  Document(page_content='Diluted EPS of $10.30 increased 2%, or $0.22 per share, and adjusted diluted EPS of $11.51 increased 12%, or $1.26 per share. A summary table of changes in diluted EPS is presented below.\\nChanges in Diluted EPS Attributable to Air Products'),\n",
              "  Document(page_content='We have audited the accompanying consolidated balance sheets of Air Products and Chemicals, Inc. and subsidiaries (the \"Company\") as of September 30, 2023 and 2022, the related consolidated income statements, comprehensive income statements, statements of'),\n",
              "  Document(page_content='$10.31 $10.11 $9.16\\nBasic EPS from discontinued operations\\n0.03 0.06 0.32\\nBasic EPS attributable to Air Products\\n$10.35 $10.16 $9.47\\nDiluted EPS from continuing operations\\n$10.30 $10.08 $9.12\\nDiluted EPS from discontinued operations\\n0.03 0.06 0.32'),\n",
              "  Document(page_content=\"2023 vs. 2022 Operating Income Equity Affiliates' Income Other Non-Operating Income/Expense, Net Income Tax Provision Net Income Attributable to Air Products Diluted EPS\\n2023 GAAP $2,494.6 $604.3 ($39.0) $551.2 $2,292.8 $10.30\"),\n",
              "  Document(page_content='0.03 0.06 0.32\\nDiluted EPS attributable to Air Products\\n$10.33 $10.14 $9.43\\n(A)EPS is calculated independently for each component and may not sum to total EPS due to rounding.')]}"
            ]
          },
          "metadata": {},
          "execution_count": 25
        }
      ]
    },
    {
      "cell_type": "code",
      "source": [
        "print('GPU Usage after the retrieval 4th prompt:')\n",
        "GPUtil.showUtilization()"
      ],
      "metadata": {
        "id": "xbErje2b3W3y",
        "colab": {
          "base_uri": "https://localhost:8080/"
        },
        "outputId": "90b23256-9c7b-4532-b95d-6def9ebb0e61"
      },
      "execution_count": 26,
      "outputs": [
        {
          "output_type": "stream",
          "name": "stdout",
          "text": [
            "GPU Usage after the retrieval 4th prompt:\n",
            "| ID | GPU | MEM |\n",
            "------------------\n",
            "|  0 | 38% | 48% |\n"
          ]
        }
      ]
    },
    {
      "cell_type": "code",
      "source": [
        "result = qa_chain(\n",
        "    \"What were the total current assets and total current liabilities of the Air Products and Chemicals, Inc. and Subsidiaries as of the end of 2023 fiscal year?\"\n",
        ")\n",
        "print(fill(result[\"result\"].strip(), width=90))"
      ],
      "metadata": {
        "id": "iTiE3ce9lPR9",
        "colab": {
          "base_uri": "https://localhost:8080/"
        },
        "outputId": "cb5011f3-f60a-4aa0-bbc5-73014edc121b"
      },
      "execution_count": 29,
      "outputs": [
        {
          "output_type": "stream",
          "name": "stdout",
          "text": [
            "Based on the information provided in the annual report, the total current assets of Air\n",
            "Products and Chemicals, Inc. and Subsidiaries as of the end of 2023 fiscal year were:\n",
            "$12,600.0 million (FY 2023) The total current liabilities of Air Products and Chemicals,\n",
            "Inc. and Subsidiaries as of the end of 2023 fiscal year were: $6,477.0 million (FY 2023)\n",
            "Therefore, the answer to your question is: Total current assets: $12,600.0 million Total\n",
            "current liabilities: $6,477.0 million\n"
          ]
        }
      ]
    },
    {
      "cell_type": "code",
      "source": [
        "result"
      ],
      "metadata": {
        "colab": {
          "base_uri": "https://localhost:8080/"
        },
        "id": "gcM5rNHz-yXZ",
        "outputId": "4780fc01-e9d9-4506-81a2-93a49e8027a2"
      },
      "execution_count": 30,
      "outputs": [
        {
          "output_type": "execute_result",
          "data": {
            "text/plain": [
              "{'query': 'What were the total current assets and total current liabilities of the Air Products and Chemicals, Inc. and Subsidiaries as of the end of 2023 fiscal year?',\n",
              " 'result': 'Based on the information provided in the annual report, the total current assets of Air Products and Chemicals, Inc. and Subsidiaries as of the end of 2023 fiscal year were:\\n$12,600.0 million (FY 2023)\\nThe total current liabilities of Air Products and Chemicals, Inc. and Subsidiaries as of the end of 2023 fiscal year were:\\n$6,477.0 million (FY 2023)\\nTherefore, the answer to your question is:\\nTotal current assets: $12,600.0 million\\nTotal current liabilities: $6,477.0 million',\n",
              " 'source_documents': [Document(page_content='We have audited the accompanying consolidated balance sheets of Air Products and Chemicals, Inc. and subsidiaries (the \"Company\") as of September 30, 2023 and 2022, the related consolidated income statements, comprehensive income statements, statements of'),\n",
              "  Document(page_content='Air Products and Chemicals, Inc. and Subsidiaries\\nCONSOLIDATED COMPREHENSIVE INCOME STATEMENTS\\nFor the Fiscal Years Ended 30 September\\n(Millions of U.S. Dollars) 2023 2022 2021\\nNet Income $2,338.6 $2,266.5 $2,114.9'),\n",
              "  Document(page_content='Air Products and Chemicals, Inc. and Subsidiaries\\nCONSOLIDATED INCOME STATEMENTS\\nFor the Fiscal Years Ended 30 September\\n(Millions of U.S. Dollars, except for share and per share data) 2023 2022 2021\\nSales $12,600.0 $12,698.6 $10,323.0'),\n",
              "  Document(page_content='The accompanying notes are an integral part of these statements.\\nAir Products and Chemicals, Inc. and Subsidiaries\\nCONSOLIDATED STATEMENTS OF CASH FLOWS\\nFor the Fiscal Years Ended 30 September\\n(Millions of U.S. Dollars) 2023 2022 2021\\nOperating Activities'),\n",
              "  Document(page_content='The accompanying notes are an integral part of these statements.\\nAir Products and Chemicals, Inc. and Subsidiaries\\nCONSOLIDATED BALANCE SHEETS\\nAs of the Fiscal Years Ended 30 September'),\n",
              "  Document(page_content='(1) Financial Statements.\\nThe following is a list of the Consolidated Financial Statements of Air Products and Chemicals, Inc. and its subsidiaries included in Part II, Item 8. Financial Statements and Supplementary Data:'),\n",
              "  Document(page_content=\"Retained earnings 17,289.7 16,520.3\\nAccumulated other comprehensive loss (2,449.4) (2,786.1)\\nTreasury stock, at cost (2023 - 27,255,739 shares; 2022 - 27,616,888 shares)\\n(1,967.3) (1,981.0)\\nTotal Air Products Shareholders' Equity 14,312.9 13,144.0\"),\n",
              "  Document(page_content='Cash and Cash Items - End of Period $1,617.0 $2,711.0 $4,468.9\\nThe accompanying notes are an integral part of these statements.\\nAir Products and Chemicals, Inc. and Subsidiaries\\nCONSOLIDATED STATEMENTS OF EQUITY\\nFor the Fiscal Years Ended 30 September'),\n",
              "  Document(page_content='Our consolidated income statement for the fiscal year ended 30 September 2023 includes an expense of $244.6 ($204.9 attributable to Air Products after tax) resulting from strategic business and asset actions intended to optimize costs and focus resources'),\n",
              "  Document(page_content='Air Products and Chemicals, Inc. and Subsidiaries\\nNOTES TO THE CONSOLIDATED FINANCIAL STATEMENTS\\n(Millions of U.S. Dollars unless otherwise indicated, except for share and per share data)\\n1. Basis of Presentation and Major Accounting Policies')]}"
            ]
          },
          "metadata": {},
          "execution_count": 30
        }
      ]
    }
  ]
}