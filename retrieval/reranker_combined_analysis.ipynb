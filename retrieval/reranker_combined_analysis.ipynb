{
  "metadata": {
    "kernelspec": {
      "display_name": "Python 3",
      "name": "python3"
    },
    "language_info": {
      "name": "python",
      "version": "3.10.13",
      "mimetype": "text/x-python",
      "codemirror_mode": {
        "name": "ipython",
        "version": 3
      },
      "pygments_lexer": "ipython3",
      "nbconvert_exporter": "python",
      "file_extension": ".py"
    },
    "kaggle": {
      "accelerator": "none",
      "dataSources": [],
      "dockerImageVersionId": 30715,
      "isInternetEnabled": true,
      "language": "python",
      "sourceType": "notebook",
      "isGpuEnabled": false
    },
    "colab": {
      "provenance": [],
      "include_colab_link": true
    }
  },
  "nbformat_minor": 0,
  "nbformat": 4,
  "cells": [
    {
      "cell_type": "markdown",
      "metadata": {
        "id": "view-in-github",
        "colab_type": "text"
      },
      "source": [
        "<a href=\"https://colab.research.google.com/github/winterForestStump/thesis/blob/main/retrieval/reranker_combined_analysis.ipynb\" target=\"_parent\"><img src=\"https://colab.research.google.com/assets/colab-badge.svg\" alt=\"Open In Colab\"/></a>"
      ]
    },
    {
      "cell_type": "markdown",
      "source": [
        "### Download JSON files with evaluation data"
      ],
      "metadata": {
        "id": "pX_OdgqaFVjA"
      }
    },
    {
      "cell_type": "markdown",
      "source": [
        "### Combine downloaded JSON files into one"
      ],
      "metadata": {
        "id": "ybG9VbxTFVjH"
      }
    },
    {
      "cell_type": "code",
      "source": [
        "import pandas as pd\n",
        "\n",
        "data = pd.read_json('https://raw.githubusercontent.com/winterForestStump/thesis/main/retrieval/evaluation/eval_reranked.json')"
      ],
      "metadata": {
        "execution": {
          "iopub.status.busy": "2024-06-04T07:24:52.931273Z",
          "iopub.execute_input": "2024-06-04T07:24:52.931651Z",
          "iopub.status.idle": "2024-06-04T07:24:53.545072Z",
          "shell.execute_reply.started": "2024-06-04T07:24:52.931611Z",
          "shell.execute_reply": "2024-06-04T07:24:53.543620Z"
        },
        "trusted": true,
        "id": "lD73WglxFVjI"
      },
      "execution_count": 1,
      "outputs": []
    },
    {
      "cell_type": "code",
      "source": [
        "new_values = {\n",
        "    27: {'score': 'yes'},\n",
        "    32: {'score': 'yes'},\n",
        "    84: {'score': 'no'},\n",
        "    91: {'score': 'yes'},\n",
        "    104: {'score': 'yes'},\n",
        "    130: {'score': 'no'},\n",
        "    151: {'score': 'yes'},\n",
        "    160: {'score': 'yes'},\n",
        "    183: {'score': 'yes'},\n",
        "    209: {'score': 'yes'},\n",
        "    215: {'score': 'no'},\n",
        "    252: {'score': 'yes'},\n",
        "    254: {'score': 'yes'},\n",
        "    256: {'score': 'yes'},\n",
        "    278: {'score': 'no'},\n",
        "    326: {'score': 'yes'}}"
      ],
      "metadata": {
        "id": "uUIPC0qxdb3E"
      },
      "execution_count": 2,
      "outputs": []
    },
    {
      "cell_type": "code",
      "source": [
        "valid_answers = [{'score': 'yes'}, {'score': 'no'}]\n",
        "data[~data['answer'].apply(lambda x: x in valid_answers)]"
      ],
      "metadata": {
        "id": "-u8CDKLCc7u-",
        "outputId": "95d4f27b-5cdc-4543-cd5a-0900c7b425e1",
        "colab": {
          "base_uri": "https://localhost:8080/",
          "height": 551
        }
      },
      "execution_count": 3,
      "outputs": [
        {
          "output_type": "execute_result",
          "data": {
            "text/plain": [
              "                                              question              answer  \\\n",
              "27   What are the company's pension obligations and...        {'score': 1}   \n",
              "32   What are the company's major operating expense...  [{'score': 'yes'}]   \n",
              "84   What are the company's major operating expense...                [[]]   \n",
              "91   How much is spent on research and development ...                None   \n",
              "104  How much has the company invested in capital e...  [{'score': 'yes'}]   \n",
              "130  What is the company's gross profit margin, and...   [{'score': 'no'}]   \n",
              "151  What is the company's operating income and how...  [{'score': 'yes'}]   \n",
              "160    What is the effective tax rate for the company?      [{'score': 1}]   \n",
              "183  What potential impact could legal issues have ...                None   \n",
              "209    What is the effective tax rate for the company?                 2.1   \n",
              "215  How does the company address Environmental, So...                None   \n",
              "252  What is the company's cost of goods sold (COGS...                None   \n",
              "254  What are the company's major operating expense...  [{'score': 'yes'}]   \n",
              "256  What is the company's earnings per share and h...                None   \n",
              "278  What are the company's major operating expense...                  []   \n",
              "326     What employee benefits does the company offer?  [{'score': 'yes'}]   \n",
              "\n",
              "                                              document  \n",
              "27   [Effective January 1, 2016, for benefit plans ...  \n",
              "32   [The decrease in International operating loss ...  \n",
              "84   [In Millions\\nNet sales:\\nCPW\\n$\\n1,706.5\\n$\\n...  \n",
              "91   [RESEARCH AND DEVELOPMENT\\nOur research and de...  \n",
              "104  [Net Cash Used in Investing Activities\\nFiscal...  \n",
              "130  [Assumption Amount\\nDiscount rates used in the...  \n",
              "151  [6,064\\n7,024\\n(13.7\\n)%\\n(a)\\nAdjusted EBITDA...  \n",
              "160  [Net\\nTrademarks\\n$\\n2,443\\n$\\n(469\\n)\\n$\\n1,9...  \n",
              "183  [Other Matters\\nIn the normal course of busine...  \n",
              "209  [NOTE 14 - INCOME TAXES\\nThe domestic and fore...  \n",
              "215  [We have a purpose-driven culture, with a focu...  \n",
              "252  [Credit\\nOur fixed-income portfolio is diversi...  \n",
              "254  [Operating expenses decreased $195 million or ...  \n",
              "256  [Credit\\nOur fixed-income portfolio is diversi...  \n",
              "278  [2,395,299\\n2,061,545\\n1,583,017\\nImpairment, ...  \n",
              "326  [168 | Notes to Consolidated Financial Stateme...  "
            ],
            "text/html": [
              "\n",
              "  <div id=\"df-545bc5cb-1b77-477f-b1c0-1ecf61a860f6\" class=\"colab-df-container\">\n",
              "    <div>\n",
              "<style scoped>\n",
              "    .dataframe tbody tr th:only-of-type {\n",
              "        vertical-align: middle;\n",
              "    }\n",
              "\n",
              "    .dataframe tbody tr th {\n",
              "        vertical-align: top;\n",
              "    }\n",
              "\n",
              "    .dataframe thead th {\n",
              "        text-align: right;\n",
              "    }\n",
              "</style>\n",
              "<table border=\"1\" class=\"dataframe\">\n",
              "  <thead>\n",
              "    <tr style=\"text-align: right;\">\n",
              "      <th></th>\n",
              "      <th>question</th>\n",
              "      <th>answer</th>\n",
              "      <th>document</th>\n",
              "    </tr>\n",
              "  </thead>\n",
              "  <tbody>\n",
              "    <tr>\n",
              "      <th>27</th>\n",
              "      <td>What are the company's pension obligations and...</td>\n",
              "      <td>{'score': 1}</td>\n",
              "      <td>[Effective January 1, 2016, for benefit plans ...</td>\n",
              "    </tr>\n",
              "    <tr>\n",
              "      <th>32</th>\n",
              "      <td>What are the company's major operating expense...</td>\n",
              "      <td>[{'score': 'yes'}]</td>\n",
              "      <td>[The decrease in International operating loss ...</td>\n",
              "    </tr>\n",
              "    <tr>\n",
              "      <th>84</th>\n",
              "      <td>What are the company's major operating expense...</td>\n",
              "      <td>[[]]</td>\n",
              "      <td>[In Millions\\nNet sales:\\nCPW\\n$\\n1,706.5\\n$\\n...</td>\n",
              "    </tr>\n",
              "    <tr>\n",
              "      <th>91</th>\n",
              "      <td>How much is spent on research and development ...</td>\n",
              "      <td>None</td>\n",
              "      <td>[RESEARCH AND DEVELOPMENT\\nOur research and de...</td>\n",
              "    </tr>\n",
              "    <tr>\n",
              "      <th>104</th>\n",
              "      <td>How much has the company invested in capital e...</td>\n",
              "      <td>[{'score': 'yes'}]</td>\n",
              "      <td>[Net Cash Used in Investing Activities\\nFiscal...</td>\n",
              "    </tr>\n",
              "    <tr>\n",
              "      <th>130</th>\n",
              "      <td>What is the company's gross profit margin, and...</td>\n",
              "      <td>[{'score': 'no'}]</td>\n",
              "      <td>[Assumption Amount\\nDiscount rates used in the...</td>\n",
              "    </tr>\n",
              "    <tr>\n",
              "      <th>151</th>\n",
              "      <td>What is the company's operating income and how...</td>\n",
              "      <td>[{'score': 'yes'}]</td>\n",
              "      <td>[6,064\\n7,024\\n(13.7\\n)%\\n(a)\\nAdjusted EBITDA...</td>\n",
              "    </tr>\n",
              "    <tr>\n",
              "      <th>160</th>\n",
              "      <td>What is the effective tax rate for the company?</td>\n",
              "      <td>[{'score': 1}]</td>\n",
              "      <td>[Net\\nTrademarks\\n$\\n2,443\\n$\\n(469\\n)\\n$\\n1,9...</td>\n",
              "    </tr>\n",
              "    <tr>\n",
              "      <th>183</th>\n",
              "      <td>What potential impact could legal issues have ...</td>\n",
              "      <td>None</td>\n",
              "      <td>[Other Matters\\nIn the normal course of busine...</td>\n",
              "    </tr>\n",
              "    <tr>\n",
              "      <th>209</th>\n",
              "      <td>What is the effective tax rate for the company?</td>\n",
              "      <td>2.1</td>\n",
              "      <td>[NOTE 14 - INCOME TAXES\\nThe domestic and fore...</td>\n",
              "    </tr>\n",
              "    <tr>\n",
              "      <th>215</th>\n",
              "      <td>How does the company address Environmental, So...</td>\n",
              "      <td>None</td>\n",
              "      <td>[We have a purpose-driven culture, with a focu...</td>\n",
              "    </tr>\n",
              "    <tr>\n",
              "      <th>252</th>\n",
              "      <td>What is the company's cost of goods sold (COGS...</td>\n",
              "      <td>None</td>\n",
              "      <td>[Credit\\nOur fixed-income portfolio is diversi...</td>\n",
              "    </tr>\n",
              "    <tr>\n",
              "      <th>254</th>\n",
              "      <td>What are the company's major operating expense...</td>\n",
              "      <td>[{'score': 'yes'}]</td>\n",
              "      <td>[Operating expenses decreased $195 million or ...</td>\n",
              "    </tr>\n",
              "    <tr>\n",
              "      <th>256</th>\n",
              "      <td>What is the company's earnings per share and h...</td>\n",
              "      <td>None</td>\n",
              "      <td>[Credit\\nOur fixed-income portfolio is diversi...</td>\n",
              "    </tr>\n",
              "    <tr>\n",
              "      <th>278</th>\n",
              "      <td>What are the company's major operating expense...</td>\n",
              "      <td>[]</td>\n",
              "      <td>[2,395,299\\n2,061,545\\n1,583,017\\nImpairment, ...</td>\n",
              "    </tr>\n",
              "    <tr>\n",
              "      <th>326</th>\n",
              "      <td>What employee benefits does the company offer?</td>\n",
              "      <td>[{'score': 'yes'}]</td>\n",
              "      <td>[168 | Notes to Consolidated Financial Stateme...</td>\n",
              "    </tr>\n",
              "  </tbody>\n",
              "</table>\n",
              "</div>\n",
              "    <div class=\"colab-df-buttons\">\n",
              "\n",
              "  <div class=\"colab-df-container\">\n",
              "    <button class=\"colab-df-convert\" onclick=\"convertToInteractive('df-545bc5cb-1b77-477f-b1c0-1ecf61a860f6')\"\n",
              "            title=\"Convert this dataframe to an interactive table.\"\n",
              "            style=\"display:none;\">\n",
              "\n",
              "  <svg xmlns=\"http://www.w3.org/2000/svg\" height=\"24px\" viewBox=\"0 -960 960 960\">\n",
              "    <path d=\"M120-120v-720h720v720H120Zm60-500h600v-160H180v160Zm220 220h160v-160H400v160Zm0 220h160v-160H400v160ZM180-400h160v-160H180v160Zm440 0h160v-160H620v160ZM180-180h160v-160H180v160Zm440 0h160v-160H620v160Z\"/>\n",
              "  </svg>\n",
              "    </button>\n",
              "\n",
              "  <style>\n",
              "    .colab-df-container {\n",
              "      display:flex;\n",
              "      gap: 12px;\n",
              "    }\n",
              "\n",
              "    .colab-df-convert {\n",
              "      background-color: #E8F0FE;\n",
              "      border: none;\n",
              "      border-radius: 50%;\n",
              "      cursor: pointer;\n",
              "      display: none;\n",
              "      fill: #1967D2;\n",
              "      height: 32px;\n",
              "      padding: 0 0 0 0;\n",
              "      width: 32px;\n",
              "    }\n",
              "\n",
              "    .colab-df-convert:hover {\n",
              "      background-color: #E2EBFA;\n",
              "      box-shadow: 0px 1px 2px rgba(60, 64, 67, 0.3), 0px 1px 3px 1px rgba(60, 64, 67, 0.15);\n",
              "      fill: #174EA6;\n",
              "    }\n",
              "\n",
              "    .colab-df-buttons div {\n",
              "      margin-bottom: 4px;\n",
              "    }\n",
              "\n",
              "    [theme=dark] .colab-df-convert {\n",
              "      background-color: #3B4455;\n",
              "      fill: #D2E3FC;\n",
              "    }\n",
              "\n",
              "    [theme=dark] .colab-df-convert:hover {\n",
              "      background-color: #434B5C;\n",
              "      box-shadow: 0px 1px 3px 1px rgba(0, 0, 0, 0.15);\n",
              "      filter: drop-shadow(0px 1px 2px rgba(0, 0, 0, 0.3));\n",
              "      fill: #FFFFFF;\n",
              "    }\n",
              "  </style>\n",
              "\n",
              "    <script>\n",
              "      const buttonEl =\n",
              "        document.querySelector('#df-545bc5cb-1b77-477f-b1c0-1ecf61a860f6 button.colab-df-convert');\n",
              "      buttonEl.style.display =\n",
              "        google.colab.kernel.accessAllowed ? 'block' : 'none';\n",
              "\n",
              "      async function convertToInteractive(key) {\n",
              "        const element = document.querySelector('#df-545bc5cb-1b77-477f-b1c0-1ecf61a860f6');\n",
              "        const dataTable =\n",
              "          await google.colab.kernel.invokeFunction('convertToInteractive',\n",
              "                                                    [key], {});\n",
              "        if (!dataTable) return;\n",
              "\n",
              "        const docLinkHtml = 'Like what you see? Visit the ' +\n",
              "          '<a target=\"_blank\" href=https://colab.research.google.com/notebooks/data_table.ipynb>data table notebook</a>'\n",
              "          + ' to learn more about interactive tables.';\n",
              "        element.innerHTML = '';\n",
              "        dataTable['output_type'] = 'display_data';\n",
              "        await google.colab.output.renderOutput(dataTable, element);\n",
              "        const docLink = document.createElement('div');\n",
              "        docLink.innerHTML = docLinkHtml;\n",
              "        element.appendChild(docLink);\n",
              "      }\n",
              "    </script>\n",
              "  </div>\n",
              "\n",
              "\n",
              "<div id=\"df-4c4cb7f8-505e-4ad3-a7de-fb9abaf0f683\">\n",
              "  <button class=\"colab-df-quickchart\" onclick=\"quickchart('df-4c4cb7f8-505e-4ad3-a7de-fb9abaf0f683')\"\n",
              "            title=\"Suggest charts\"\n",
              "            style=\"display:none;\">\n",
              "\n",
              "<svg xmlns=\"http://www.w3.org/2000/svg\" height=\"24px\"viewBox=\"0 0 24 24\"\n",
              "     width=\"24px\">\n",
              "    <g>\n",
              "        <path d=\"M19 3H5c-1.1 0-2 .9-2 2v14c0 1.1.9 2 2 2h14c1.1 0 2-.9 2-2V5c0-1.1-.9-2-2-2zM9 17H7v-7h2v7zm4 0h-2V7h2v10zm4 0h-2v-4h2v4z\"/>\n",
              "    </g>\n",
              "</svg>\n",
              "  </button>\n",
              "\n",
              "<style>\n",
              "  .colab-df-quickchart {\n",
              "      --bg-color: #E8F0FE;\n",
              "      --fill-color: #1967D2;\n",
              "      --hover-bg-color: #E2EBFA;\n",
              "      --hover-fill-color: #174EA6;\n",
              "      --disabled-fill-color: #AAA;\n",
              "      --disabled-bg-color: #DDD;\n",
              "  }\n",
              "\n",
              "  [theme=dark] .colab-df-quickchart {\n",
              "      --bg-color: #3B4455;\n",
              "      --fill-color: #D2E3FC;\n",
              "      --hover-bg-color: #434B5C;\n",
              "      --hover-fill-color: #FFFFFF;\n",
              "      --disabled-bg-color: #3B4455;\n",
              "      --disabled-fill-color: #666;\n",
              "  }\n",
              "\n",
              "  .colab-df-quickchart {\n",
              "    background-color: var(--bg-color);\n",
              "    border: none;\n",
              "    border-radius: 50%;\n",
              "    cursor: pointer;\n",
              "    display: none;\n",
              "    fill: var(--fill-color);\n",
              "    height: 32px;\n",
              "    padding: 0;\n",
              "    width: 32px;\n",
              "  }\n",
              "\n",
              "  .colab-df-quickchart:hover {\n",
              "    background-color: var(--hover-bg-color);\n",
              "    box-shadow: 0 1px 2px rgba(60, 64, 67, 0.3), 0 1px 3px 1px rgba(60, 64, 67, 0.15);\n",
              "    fill: var(--button-hover-fill-color);\n",
              "  }\n",
              "\n",
              "  .colab-df-quickchart-complete:disabled,\n",
              "  .colab-df-quickchart-complete:disabled:hover {\n",
              "    background-color: var(--disabled-bg-color);\n",
              "    fill: var(--disabled-fill-color);\n",
              "    box-shadow: none;\n",
              "  }\n",
              "\n",
              "  .colab-df-spinner {\n",
              "    border: 2px solid var(--fill-color);\n",
              "    border-color: transparent;\n",
              "    border-bottom-color: var(--fill-color);\n",
              "    animation:\n",
              "      spin 1s steps(1) infinite;\n",
              "  }\n",
              "\n",
              "  @keyframes spin {\n",
              "    0% {\n",
              "      border-color: transparent;\n",
              "      border-bottom-color: var(--fill-color);\n",
              "      border-left-color: var(--fill-color);\n",
              "    }\n",
              "    20% {\n",
              "      border-color: transparent;\n",
              "      border-left-color: var(--fill-color);\n",
              "      border-top-color: var(--fill-color);\n",
              "    }\n",
              "    30% {\n",
              "      border-color: transparent;\n",
              "      border-left-color: var(--fill-color);\n",
              "      border-top-color: var(--fill-color);\n",
              "      border-right-color: var(--fill-color);\n",
              "    }\n",
              "    40% {\n",
              "      border-color: transparent;\n",
              "      border-right-color: var(--fill-color);\n",
              "      border-top-color: var(--fill-color);\n",
              "    }\n",
              "    60% {\n",
              "      border-color: transparent;\n",
              "      border-right-color: var(--fill-color);\n",
              "    }\n",
              "    80% {\n",
              "      border-color: transparent;\n",
              "      border-right-color: var(--fill-color);\n",
              "      border-bottom-color: var(--fill-color);\n",
              "    }\n",
              "    90% {\n",
              "      border-color: transparent;\n",
              "      border-bottom-color: var(--fill-color);\n",
              "    }\n",
              "  }\n",
              "</style>\n",
              "\n",
              "  <script>\n",
              "    async function quickchart(key) {\n",
              "      const quickchartButtonEl =\n",
              "        document.querySelector('#' + key + ' button');\n",
              "      quickchartButtonEl.disabled = true;  // To prevent multiple clicks.\n",
              "      quickchartButtonEl.classList.add('colab-df-spinner');\n",
              "      try {\n",
              "        const charts = await google.colab.kernel.invokeFunction(\n",
              "            'suggestCharts', [key], {});\n",
              "      } catch (error) {\n",
              "        console.error('Error during call to suggestCharts:', error);\n",
              "      }\n",
              "      quickchartButtonEl.classList.remove('colab-df-spinner');\n",
              "      quickchartButtonEl.classList.add('colab-df-quickchart-complete');\n",
              "    }\n",
              "    (() => {\n",
              "      let quickchartButtonEl =\n",
              "        document.querySelector('#df-4c4cb7f8-505e-4ad3-a7de-fb9abaf0f683 button');\n",
              "      quickchartButtonEl.style.display =\n",
              "        google.colab.kernel.accessAllowed ? 'block' : 'none';\n",
              "    })();\n",
              "  </script>\n",
              "</div>\n",
              "\n",
              "    </div>\n",
              "  </div>\n"
            ],
            "application/vnd.google.colaboratory.intrinsic+json": {
              "type": "dataframe",
              "summary": "{\n  \"name\": \"data[~data['answer']\",\n  \"rows\": 16,\n  \"fields\": [\n    {\n      \"column\": \"question\",\n      \"properties\": {\n        \"dtype\": \"string\",\n        \"num_unique_values\": 12,\n        \"samples\": [\n          \"What is the company's earnings per share and how does it compare to industry benchmarks?\",\n          \"What is the company's cost of goods sold (COGS) and how does the COGS compare to the total revenue?\",\n          \"What are the company's pension obligations and contributions and is there a pension fund surplus or deficit?\"\n        ],\n        \"semantic_type\": \"\",\n        \"description\": \"\"\n      }\n    },\n    {\n      \"column\": \"answer\",\n      \"properties\": {\n        \"dtype\": \"object\",\n        \"semantic_type\": \"\",\n        \"description\": \"\"\n      }\n    },\n    {\n      \"column\": \"document\",\n      \"properties\": {\n        \"dtype\": \"object\",\n        \"semantic_type\": \"\",\n        \"description\": \"\"\n      }\n    }\n  ]\n}"
            }
          },
          "metadata": {},
          "execution_count": 3
        }
      ]
    },
    {
      "cell_type": "code",
      "source": [
        "new_values = {\n",
        "    27: {'score': 'yes'},\n",
        "    32: {'score': 'yes'},\n",
        "    84: {'score': 'no'},\n",
        "    91: {'score': 'yes'},\n",
        "    104: {'score': 'yes'},\n",
        "    130: {'score': 'no'},\n",
        "    151: {'score': 'yes'},\n",
        "    160: {'score': 'yes'},\n",
        "    183: {'score': 'yes'},\n",
        "    209: {'score': 'yes'},\n",
        "    215: {'score': 'no'},\n",
        "    252: {'score': 'yes'},\n",
        "    254: {'score': 'yes'},\n",
        "    256: {'score': 'yes'},\n",
        "    278: {'score': 'no'},\n",
        "    326: {'score': 'yes'}}"
      ],
      "metadata": {
        "id": "nVcKIolKgQyx"
      },
      "execution_count": 4,
      "outputs": []
    },
    {
      "cell_type": "code",
      "source": [
        "for index, new_value in new_values.items():\n",
        "    data.at[index, 'answer'] = new_value"
      ],
      "metadata": {
        "id": "8cU7wfLWgScp"
      },
      "execution_count": 5,
      "outputs": []
    },
    {
      "cell_type": "markdown",
      "source": [
        "### Filter Approach 1 instances"
      ],
      "metadata": {
        "id": "jnhzTSgGFVjI"
      }
    },
    {
      "cell_type": "code",
      "source": [
        "score = 0\n",
        "for i in range(len(data)):\n",
        "  if (data['answer'][i] is not None) and (data['answer'][i]['score'] == 'yes'):\n",
        "    score += 1\n",
        "total_score = score/len(data)\n",
        "total_score"
      ],
      "metadata": {
        "colab": {
          "base_uri": "https://localhost:8080/"
        },
        "id": "6eG_mJwoF-2W",
        "outputId": "a59002f2-c65e-4cef-ca41-343794ebde58"
      },
      "execution_count": 6,
      "outputs": [
        {
          "output_type": "execute_result",
          "data": {
            "text/plain": [
              "0.7305389221556886"
            ]
          },
          "metadata": {},
          "execution_count": 6
        }
      ]
    },
    {
      "cell_type": "markdown",
      "source": [
        "### Group the number of answers by questions"
      ],
      "metadata": {
        "id": "7-oKFhzuFVjK"
      }
    },
    {
      "cell_type": "code",
      "source": [
        "data_total = data.groupby('question')['answer'].count().reset_index()\n",
        "data_total.rename(columns={'answer':'total'}, inplace=True)"
      ],
      "metadata": {
        "execution": {
          "iopub.status.busy": "2024-06-04T07:24:53.649895Z",
          "iopub.execute_input": "2024-06-04T07:24:53.651001Z",
          "iopub.status.idle": "2024-06-04T07:24:53.662816Z",
          "shell.execute_reply.started": "2024-06-04T07:24:53.650959Z",
          "shell.execute_reply": "2024-06-04T07:24:53.661309Z"
        },
        "trusted": true,
        "id": "7C7FGADJFVjL"
      },
      "execution_count": 7,
      "outputs": []
    },
    {
      "cell_type": "markdown",
      "source": [
        "### Filter instances with the 'yes' score"
      ],
      "metadata": {
        "id": "yG3mUj83FVjL"
      }
    },
    {
      "cell_type": "code",
      "source": [
        "filtered_df = data[data['answer'].apply(lambda x: isinstance(x, dict) and x.get('score') == 'yes')]\n",
        "len(filtered_df)"
      ],
      "metadata": {
        "execution": {
          "iopub.status.busy": "2024-06-04T07:24:53.664856Z",
          "iopub.execute_input": "2024-06-04T07:24:53.665457Z",
          "iopub.status.idle": "2024-06-04T07:24:53.678719Z",
          "shell.execute_reply.started": "2024-06-04T07:24:53.665417Z",
          "shell.execute_reply": "2024-06-04T07:24:53.677606Z"
        },
        "trusted": true,
        "colab": {
          "base_uri": "https://localhost:8080/"
        },
        "id": "OxlsI-lDFVjL",
        "outputId": "16ccdeb3-b68d-4b69-dad1-0650ebedaba7"
      },
      "execution_count": 8,
      "outputs": [
        {
          "output_type": "execute_result",
          "data": {
            "text/plain": [
              "244"
            ]
          },
          "metadata": {},
          "execution_count": 8
        }
      ]
    },
    {
      "cell_type": "markdown",
      "source": [
        "### Group the number of correct answers by questions"
      ],
      "metadata": {
        "id": "64IbkJnJFVjM"
      }
    },
    {
      "cell_type": "code",
      "source": [
        "data_filtered = filtered_df.groupby('question')['answer'].count().reset_index()\n",
        "data_filtered.rename(columns={'answer':'correct'}, inplace=True)"
      ],
      "metadata": {
        "execution": {
          "iopub.status.busy": "2024-06-04T07:24:53.680175Z",
          "iopub.execute_input": "2024-06-04T07:24:53.680577Z",
          "iopub.status.idle": "2024-06-04T07:24:53.688868Z",
          "shell.execute_reply.started": "2024-06-04T07:24:53.680522Z",
          "shell.execute_reply": "2024-06-04T07:24:53.687891Z"
        },
        "trusted": true,
        "id": "1HGnJFZaFVjM"
      },
      "execution_count": 9,
      "outputs": []
    },
    {
      "cell_type": "markdown",
      "source": [
        "### Merge two tables: all and correct answers grouped by questions"
      ],
      "metadata": {
        "id": "L3FMDzC0FVjN"
      }
    },
    {
      "cell_type": "code",
      "source": [
        "new_data = data_total.merge(data_filtered, how='left', on='question')\n",
        "new_data['correct'] = new_data['correct'].fillna(0)\n",
        "len(new_data)"
      ],
      "metadata": {
        "execution": {
          "iopub.status.busy": "2024-06-04T07:24:53.690632Z",
          "iopub.execute_input": "2024-06-04T07:24:53.691579Z",
          "iopub.status.idle": "2024-06-04T07:24:53.713142Z",
          "shell.execute_reply.started": "2024-06-04T07:24:53.691488Z",
          "shell.execute_reply": "2024-06-04T07:24:53.711755Z"
        },
        "trusted": true,
        "colab": {
          "base_uri": "https://localhost:8080/"
        },
        "id": "AVLthMJ5FVjN",
        "outputId": "0d456397-2f13-47c9-fafd-30db301fcd0e"
      },
      "execution_count": 10,
      "outputs": [
        {
          "output_type": "execute_result",
          "data": {
            "text/plain": [
              "35"
            ]
          },
          "metadata": {},
          "execution_count": 10
        }
      ]
    },
    {
      "cell_type": "code",
      "source": [
        "new_data['percentage,%'] = new_data['correct'] / new_data['total'] * 100\n",
        "new_data.sort_values(by='percentage,%', inplace=True, ascending=False)\n",
        "new_data['correct'] = new_data['correct'].astype(int)\n",
        "new_data['percentage,%'] = new_data['percentage,%'].astype(int)"
      ],
      "metadata": {
        "execution": {
          "iopub.status.busy": "2024-06-04T07:24:53.714918Z",
          "iopub.execute_input": "2024-06-04T07:24:53.715264Z",
          "iopub.status.idle": "2024-06-04T07:24:53.727965Z",
          "shell.execute_reply.started": "2024-06-04T07:24:53.715235Z",
          "shell.execute_reply": "2024-06-04T07:24:53.726767Z"
        },
        "trusted": true,
        "id": "t-epz-DYFVjO"
      },
      "execution_count": 11,
      "outputs": []
    },
    {
      "cell_type": "code",
      "source": [
        "new_data.style"
      ],
      "metadata": {
        "execution": {
          "iopub.status.busy": "2024-06-04T07:28:50.878261Z",
          "iopub.execute_input": "2024-06-04T07:28:50.878717Z",
          "iopub.status.idle": "2024-06-04T07:28:50.894772Z",
          "shell.execute_reply.started": "2024-06-04T07:28:50.878677Z",
          "shell.execute_reply": "2024-06-04T07:28:50.893407Z"
        },
        "trusted": true,
        "colab": {
          "base_uri": "https://localhost:8080/",
          "height": 1000
        },
        "id": "0O1f-ls1FVjO",
        "outputId": "e159ec5e-d58c-48f6-b118-05b0e9daeecf"
      },
      "execution_count": 12,
      "outputs": [
        {
          "output_type": "execute_result",
          "data": {
            "text/plain": [
              "<pandas.io.formats.style.Styler at 0x7ca484cbfd60>"
            ],
            "text/html": [
              "<style type=\"text/css\">\n",
              "</style>\n",
              "<table id=\"T_6231c\" class=\"dataframe\">\n",
              "  <thead>\n",
              "    <tr>\n",
              "      <th class=\"blank level0\" >&nbsp;</th>\n",
              "      <th id=\"T_6231c_level0_col0\" class=\"col_heading level0 col0\" >question</th>\n",
              "      <th id=\"T_6231c_level0_col1\" class=\"col_heading level0 col1\" >total</th>\n",
              "      <th id=\"T_6231c_level0_col2\" class=\"col_heading level0 col2\" >correct</th>\n",
              "      <th id=\"T_6231c_level0_col3\" class=\"col_heading level0 col3\" >percentage,%</th>\n",
              "    </tr>\n",
              "  </thead>\n",
              "  <tbody>\n",
              "    <tr>\n",
              "      <th id=\"T_6231c_level0_row0\" class=\"row_heading level0 row0\" >0</th>\n",
              "      <td id=\"T_6231c_row0_col0\" class=\"data row0 col0\" >Are there any ongoing legal proceedings against the company?</td>\n",
              "      <td id=\"T_6231c_row0_col1\" class=\"data row0 col1\" >10</td>\n",
              "      <td id=\"T_6231c_row0_col2\" class=\"data row0 col2\" >10</td>\n",
              "      <td id=\"T_6231c_row0_col3\" class=\"data row0 col3\" >100</td>\n",
              "    </tr>\n",
              "    <tr>\n",
              "      <th id=\"T_6231c_level0_row1\" class=\"row_heading level0 row1\" >1</th>\n",
              "      <td id=\"T_6231c_row1_col0\" class=\"data row1 col0\" >Are there any tax-related risks or benefits for the company mentioned?</td>\n",
              "      <td id=\"T_6231c_row1_col1\" class=\"data row1 col1\" >10</td>\n",
              "      <td id=\"T_6231c_row1_col2\" class=\"data row1 col2\" >10</td>\n",
              "      <td id=\"T_6231c_row1_col3\" class=\"data row1 col3\" >100</td>\n",
              "    </tr>\n",
              "    <tr>\n",
              "      <th id=\"T_6231c_level0_row2\" class=\"row_heading level0 row2\" >20</th>\n",
              "      <td id=\"T_6231c_row2_col0\" class=\"data row2 col0\" >What is the company's cash flow generated from operations and are there any notable trends or fluctuations?</td>\n",
              "      <td id=\"T_6231c_row2_col1\" class=\"data row2 col1\" >8</td>\n",
              "      <td id=\"T_6231c_row2_col2\" class=\"data row2 col2\" >8</td>\n",
              "      <td id=\"T_6231c_row2_col3\" class=\"data row2 col3\" >100</td>\n",
              "    </tr>\n",
              "    <tr>\n",
              "      <th id=\"T_6231c_level0_row3\" class=\"row_heading level0 row3\" >21</th>\n",
              "      <td id=\"T_6231c_row3_col0\" class=\"data row3 col0\" >What is the company's cost of goods sold (COGS) and how does the COGS compare to the total revenue?</td>\n",
              "      <td id=\"T_6231c_row3_col1\" class=\"data row3 col1\" >2</td>\n",
              "      <td id=\"T_6231c_row3_col2\" class=\"data row3 col2\" >2</td>\n",
              "      <td id=\"T_6231c_row3_col3\" class=\"data row3 col3\" >100</td>\n",
              "    </tr>\n",
              "    <tr>\n",
              "      <th id=\"T_6231c_level0_row4\" class=\"row_heading level0 row4\" >25</th>\n",
              "      <td id=\"T_6231c_row4_col0\" class=\"data row4 col0\" >What is the company's geographic breakdown of revenue and are there any notable trends or shifts?</td>\n",
              "      <td id=\"T_6231c_row4_col1\" class=\"data row4 col1\" >4</td>\n",
              "      <td id=\"T_6231c_row4_col2\" class=\"data row4 col2\" >4</td>\n",
              "      <td id=\"T_6231c_row4_col3\" class=\"data row4 col3\" >100</td>\n",
              "    </tr>\n",
              "    <tr>\n",
              "      <th id=\"T_6231c_level0_row5\" class=\"row_heading level0 row5\" >11</th>\n",
              "      <td id=\"T_6231c_row5_col0\" class=\"data row5 col0\" >What are the company's critical accounting policies disclosed and how might changes in these policies affect financial statements?</td>\n",
              "      <td id=\"T_6231c_row5_col1\" class=\"data row5 col1\" >13</td>\n",
              "      <td id=\"T_6231c_row5_col2\" class=\"data row5 col2\" >13</td>\n",
              "      <td id=\"T_6231c_row5_col3\" class=\"data row5 col3\" >100</td>\n",
              "    </tr>\n",
              "    <tr>\n",
              "      <th id=\"T_6231c_level0_row6\" class=\"row_heading level0 row6\" >29</th>\n",
              "      <td id=\"T_6231c_row6_col0\" class=\"data row6 col0\" >What is the company's operating income and how does it compare to the previous years?</td>\n",
              "      <td id=\"T_6231c_row6_col1\" class=\"data row6 col1\" >7</td>\n",
              "      <td id=\"T_6231c_row6_col2\" class=\"data row6 col2\" >7</td>\n",
              "      <td id=\"T_6231c_row6_col3\" class=\"data row6 col3\" >100</td>\n",
              "    </tr>\n",
              "    <tr>\n",
              "      <th id=\"T_6231c_level0_row7\" class=\"row_heading level0 row7\" >31</th>\n",
              "      <td id=\"T_6231c_row7_col0\" class=\"data row7 col0\" >What is the effective tax rate for the company?</td>\n",
              "      <td id=\"T_6231c_row7_col1\" class=\"data row7 col1\" >8</td>\n",
              "      <td id=\"T_6231c_row7_col2\" class=\"data row7 col2\" >8</td>\n",
              "      <td id=\"T_6231c_row7_col3\" class=\"data row7 col3\" >100</td>\n",
              "    </tr>\n",
              "    <tr>\n",
              "      <th id=\"T_6231c_level0_row8\" class=\"row_heading level0 row8\" >32</th>\n",
              "      <td id=\"T_6231c_row8_col0\" class=\"data row8 col0\" >What is the total revenue generated by the company and how has the revenue changed over the past few years?</td>\n",
              "      <td id=\"T_6231c_row8_col1\" class=\"data row8 col1\" >10</td>\n",
              "      <td id=\"T_6231c_row8_col2\" class=\"data row8 col2\" >10</td>\n",
              "      <td id=\"T_6231c_row8_col3\" class=\"data row8 col3\" >100</td>\n",
              "    </tr>\n",
              "    <tr>\n",
              "      <th id=\"T_6231c_level0_row9\" class=\"row_heading level0 row9\" >33</th>\n",
              "      <td id=\"T_6231c_row9_col0\" class=\"data row9 col0\" >What potential impact could legal issues have on the business of the company?</td>\n",
              "      <td id=\"T_6231c_row9_col1\" class=\"data row9 col1\" >13</td>\n",
              "      <td id=\"T_6231c_row9_col2\" class=\"data row9 col2\" >13</td>\n",
              "      <td id=\"T_6231c_row9_col3\" class=\"data row9 col3\" >100</td>\n",
              "    </tr>\n",
              "    <tr>\n",
              "      <th id=\"T_6231c_level0_row10\" class=\"row_heading level0 row10\" >16</th>\n",
              "      <td id=\"T_6231c_row10_col0\" class=\"data row10 col0\" >What does the company foresee in terms of future growth and challenges and are there any strategic plans outlined for the upcoming years?</td>\n",
              "      <td id=\"T_6231c_row10_col1\" class=\"data row10 col1\" >13</td>\n",
              "      <td id=\"T_6231c_row10_col2\" class=\"data row10 col2\" >13</td>\n",
              "      <td id=\"T_6231c_row10_col3\" class=\"data row10 col3\" >100</td>\n",
              "    </tr>\n",
              "    <tr>\n",
              "      <th id=\"T_6231c_level0_row11\" class=\"row_heading level0 row11\" >5</th>\n",
              "      <td id=\"T_6231c_row11_col0\" class=\"data row11 col0\" >How does the company manage currency risk and are there impacts on financials due to currency fluctuations?</td>\n",
              "      <td id=\"T_6231c_row11_col1\" class=\"data row11 col1\" >12</td>\n",
              "      <td id=\"T_6231c_row11_col2\" class=\"data row11 col2\" >11</td>\n",
              "      <td id=\"T_6231c_row11_col3\" class=\"data row11 col3\" >91</td>\n",
              "    </tr>\n",
              "    <tr>\n",
              "      <th id=\"T_6231c_level0_row12\" class=\"row_heading level0 row12\" >2</th>\n",
              "      <td id=\"T_6231c_row12_col0\" class=\"data row12 col0\" >Has the company engaged in any share buyback programs and if yes what is the rationale behind such actions?</td>\n",
              "      <td id=\"T_6231c_row12_col1\" class=\"data row12 col1\" >12</td>\n",
              "      <td id=\"T_6231c_row12_col2\" class=\"data row12 col2\" >11</td>\n",
              "      <td id=\"T_6231c_row12_col3\" class=\"data row12 col3\" >91</td>\n",
              "    </tr>\n",
              "    <tr>\n",
              "      <th id=\"T_6231c_level0_row13\" class=\"row_heading level0 row13\" >30</th>\n",
              "      <td id=\"T_6231c_row13_col0\" class=\"data row13 col0\" >What is the company's total outstanding debt, how is the debt structured, and what are the interest rates?</td>\n",
              "      <td id=\"T_6231c_row13_col1\" class=\"data row13 col1\" >7</td>\n",
              "      <td id=\"T_6231c_row13_col2\" class=\"data row13 col2\" >6</td>\n",
              "      <td id=\"T_6231c_row13_col3\" class=\"data row13 col3\" >85</td>\n",
              "    </tr>\n",
              "    <tr>\n",
              "      <th id=\"T_6231c_level0_row14\" class=\"row_heading level0 row14\" >6</th>\n",
              "      <td id=\"T_6231c_row14_col0\" class=\"data row14 col0\" >How does the company's management view the company performance?</td>\n",
              "      <td id=\"T_6231c_row14_col1\" class=\"data row14 col1\" >12</td>\n",
              "      <td id=\"T_6231c_row14_col2\" class=\"data row14 col2\" >10</td>\n",
              "      <td id=\"T_6231c_row14_col3\" class=\"data row14 col3\" >83</td>\n",
              "    </tr>\n",
              "    <tr>\n",
              "      <th id=\"T_6231c_level0_row15\" class=\"row_heading level0 row15\" >4</th>\n",
              "      <td id=\"T_6231c_row15_col0\" class=\"data row15 col0\" >How does the company leverage technology for its operations and are there ongoing technological advancements?</td>\n",
              "      <td id=\"T_6231c_row15_col1\" class=\"data row15 col1\" >11</td>\n",
              "      <td id=\"T_6231c_row15_col2\" class=\"data row15 col2\" >9</td>\n",
              "      <td id=\"T_6231c_row15_col3\" class=\"data row15 col3\" >81</td>\n",
              "    </tr>\n",
              "    <tr>\n",
              "      <th id=\"T_6231c_level0_row16\" class=\"row_heading level0 row16\" >28</th>\n",
              "      <td id=\"T_6231c_row16_col0\" class=\"data row16 col0\" >What is the company's net income for the current fiscal year and how has net income trended over the past few years?</td>\n",
              "      <td id=\"T_6231c_row16_col1\" class=\"data row16 col1\" >5</td>\n",
              "      <td id=\"T_6231c_row16_col2\" class=\"data row16 col2\" >4</td>\n",
              "      <td id=\"T_6231c_row16_col3\" class=\"data row16 col3\" >80</td>\n",
              "    </tr>\n",
              "    <tr>\n",
              "      <th id=\"T_6231c_level0_row17\" class=\"row_heading level0 row17\" >34</th>\n",
              "      <td id=\"T_6231c_row17_col0\" class=\"data row17 col0\" >Who are the company's main competitors and how does the company differentiate itself?</td>\n",
              "      <td id=\"T_6231c_row17_col1\" class=\"data row17 col1\" >10</td>\n",
              "      <td id=\"T_6231c_row17_col2\" class=\"data row17 col2\" >8</td>\n",
              "      <td id=\"T_6231c_row17_col3\" class=\"data row17 col3\" >80</td>\n",
              "    </tr>\n",
              "    <tr>\n",
              "      <th id=\"T_6231c_level0_row18\" class=\"row_heading level0 row18\" >8</th>\n",
              "      <td id=\"T_6231c_row18_col0\" class=\"data row18 col0\" >How much has the company invested in capital expenditures and are there any significant projects underway?</td>\n",
              "      <td id=\"T_6231c_row18_col1\" class=\"data row18 col1\" >9</td>\n",
              "      <td id=\"T_6231c_row18_col2\" class=\"data row18 col2\" >7</td>\n",
              "      <td id=\"T_6231c_row18_col3\" class=\"data row18 col3\" >77</td>\n",
              "    </tr>\n",
              "    <tr>\n",
              "      <th id=\"T_6231c_level0_row19\" class=\"row_heading level0 row19\" >17</th>\n",
              "      <td id=\"T_6231c_row19_col0\" class=\"data row19 col0\" >What employee benefits does the company offer?</td>\n",
              "      <td id=\"T_6231c_row19_col1\" class=\"data row19 col1\" >13</td>\n",
              "      <td id=\"T_6231c_row19_col2\" class=\"data row19 col2\" >10</td>\n",
              "      <td id=\"T_6231c_row19_col3\" class=\"data row19 col3\" >76</td>\n",
              "    </tr>\n",
              "    <tr>\n",
              "      <th id=\"T_6231c_level0_row20\" class=\"row_heading level0 row20\" >14</th>\n",
              "      <td id=\"T_6231c_row20_col0\" class=\"data row20 col0\" >What are the company's major operating expenses and how have these expenses changed over time?</td>\n",
              "      <td id=\"T_6231c_row20_col1\" class=\"data row20 col1\" >11</td>\n",
              "      <td id=\"T_6231c_row20_col2\" class=\"data row20 col2\" >8</td>\n",
              "      <td id=\"T_6231c_row20_col3\" class=\"data row20 col3\" >72</td>\n",
              "    </tr>\n",
              "    <tr>\n",
              "      <th id=\"T_6231c_level0_row21\" class=\"row_heading level0 row21\" >15</th>\n",
              "      <td id=\"T_6231c_row21_col0\" class=\"data row21 col0\" >What are the company's pension obligations and contributions and is there a pension fund surplus or deficit?</td>\n",
              "      <td id=\"T_6231c_row21_col1\" class=\"data row21 col1\" >7</td>\n",
              "      <td id=\"T_6231c_row21_col2\" class=\"data row21 col2\" >5</td>\n",
              "      <td id=\"T_6231c_row21_col3\" class=\"data row21 col3\" >71</td>\n",
              "    </tr>\n",
              "    <tr>\n",
              "      <th id=\"T_6231c_level0_row22\" class=\"row_heading level0 row22\" >13</th>\n",
              "      <td id=\"T_6231c_row22_col0\" class=\"data row22 col0\" >What are the company's key risks mentioned in the 10-K and how does the company plan to mitigate these risks?</td>\n",
              "      <td id=\"T_6231c_row22_col1\" class=\"data row22 col1\" >10</td>\n",
              "      <td id=\"T_6231c_row22_col2\" class=\"data row22 col2\" >7</td>\n",
              "      <td id=\"T_6231c_row22_col3\" class=\"data row22 col3\" >70</td>\n",
              "    </tr>\n",
              "    <tr>\n",
              "      <th id=\"T_6231c_level0_row23\" class=\"row_heading level0 row23\" >12</th>\n",
              "      <td id=\"T_6231c_row23_col0\" class=\"data row23 col0\" >What are the company's key insights provided in the Management Discussion and Analysis (MD&A) section?</td>\n",
              "      <td id=\"T_6231c_row23_col1\" class=\"data row23 col1\" >13</td>\n",
              "      <td id=\"T_6231c_row23_col2\" class=\"data row23 col2\" >9</td>\n",
              "      <td id=\"T_6231c_row23_col3\" class=\"data row23 col3\" >69</td>\n",
              "    </tr>\n",
              "    <tr>\n",
              "      <th id=\"T_6231c_level0_row24\" class=\"row_heading level0 row24\" >9</th>\n",
              "      <td id=\"T_6231c_row24_col0\" class=\"data row24 col0\" >How much inventory does the company hold and are there any signs of inventory management issues?</td>\n",
              "      <td id=\"T_6231c_row24_col1\" class=\"data row24 col1\" >9</td>\n",
              "      <td id=\"T_6231c_row24_col2\" class=\"data row24 col2\" >6</td>\n",
              "      <td id=\"T_6231c_row24_col3\" class=\"data row24 col3\" >66</td>\n",
              "    </tr>\n",
              "    <tr>\n",
              "      <th id=\"T_6231c_level0_row25\" class=\"row_heading level0 row25\" >23</th>\n",
              "      <td id=\"T_6231c_row25_col0\" class=\"data row25 col0\" >What is the company's dividend history and how sustainable are the dividend payouts?</td>\n",
              "      <td id=\"T_6231c_row25_col1\" class=\"data row25 col1\" >11</td>\n",
              "      <td id=\"T_6231c_row25_col2\" class=\"data row25 col2\" >7</td>\n",
              "      <td id=\"T_6231c_row25_col3\" class=\"data row25 col3\" >63</td>\n",
              "    </tr>\n",
              "    <tr>\n",
              "      <th id=\"T_6231c_level0_row26\" class=\"row_heading level0 row26\" >18</th>\n",
              "      <td id=\"T_6231c_row26_col0\" class=\"data row26 col0\" >What innovations or projects are currently in progress in the company?</td>\n",
              "      <td id=\"T_6231c_row26_col1\" class=\"data row26 col1\" >13</td>\n",
              "      <td id=\"T_6231c_row26_col2\" class=\"data row26 col2\" >8</td>\n",
              "      <td id=\"T_6231c_row26_col3\" class=\"data row26 col3\" >61</td>\n",
              "    </tr>\n",
              "    <tr>\n",
              "      <th id=\"T_6231c_level0_row27\" class=\"row_heading level0 row27\" >3</th>\n",
              "      <td id=\"T_6231c_row27_col0\" class=\"data row27 col0\" >How does the company address Environmental, Social, and Governance (ESG) concerns and are there any sustainability initiatives in place?</td>\n",
              "      <td id=\"T_6231c_row27_col1\" class=\"data row27 col1\" >12</td>\n",
              "      <td id=\"T_6231c_row27_col2\" class=\"data row27 col2\" >7</td>\n",
              "      <td id=\"T_6231c_row27_col3\" class=\"data row27 col3\" >58</td>\n",
              "    </tr>\n",
              "    <tr>\n",
              "      <th id=\"T_6231c_level0_row28\" class=\"row_heading level0 row28\" >10</th>\n",
              "      <td id=\"T_6231c_row28_col0\" class=\"data row28 col0\" >How much is spent on research and development by the company?</td>\n",
              "      <td id=\"T_6231c_row28_col1\" class=\"data row28 col1\" >11</td>\n",
              "      <td id=\"T_6231c_row28_col2\" class=\"data row28 col2\" >5</td>\n",
              "      <td id=\"T_6231c_row28_col3\" class=\"data row28 col3\" >45</td>\n",
              "    </tr>\n",
              "    <tr>\n",
              "      <th id=\"T_6231c_level0_row29\" class=\"row_heading level0 row29\" >26</th>\n",
              "      <td id=\"T_6231c_row29_col0\" class=\"data row29 col0\" >What is the company's gross profit margin, and how has it evolved?</td>\n",
              "      <td id=\"T_6231c_row29_col1\" class=\"data row29 col1\" >11</td>\n",
              "      <td id=\"T_6231c_row29_col2\" class=\"data row29 col2\" >4</td>\n",
              "      <td id=\"T_6231c_row29_col3\" class=\"data row29 col3\" >36</td>\n",
              "    </tr>\n",
              "    <tr>\n",
              "      <th id=\"T_6231c_level0_row30\" class=\"row_heading level0 row30\" >24</th>\n",
              "      <td id=\"T_6231c_row30_col0\" class=\"data row30 col0\" >What is the company's earnings per share and how does it compare to industry benchmarks?</td>\n",
              "      <td id=\"T_6231c_row30_col1\" class=\"data row30 col1\" >4</td>\n",
              "      <td id=\"T_6231c_row30_col2\" class=\"data row30 col2\" >1</td>\n",
              "      <td id=\"T_6231c_row30_col3\" class=\"data row30 col3\" >25</td>\n",
              "    </tr>\n",
              "    <tr>\n",
              "      <th id=\"T_6231c_level0_row31\" class=\"row_heading level0 row31\" >7</th>\n",
              "      <td id=\"T_6231c_row31_col0\" class=\"data row31 col0\" >How is the company's corporate culture described?</td>\n",
              "      <td id=\"T_6231c_row31_col1\" class=\"data row31 col1\" >9</td>\n",
              "      <td id=\"T_6231c_row31_col2\" class=\"data row31 col2\" >2</td>\n",
              "      <td id=\"T_6231c_row31_col3\" class=\"data row31 col3\" >22</td>\n",
              "    </tr>\n",
              "    <tr>\n",
              "      <th id=\"T_6231c_level0_row32\" class=\"row_heading level0 row32\" >27</th>\n",
              "      <td id=\"T_6231c_row32_col0\" class=\"data row32 col0\" >What is the company's market share in its industry and how has it changed over the years?</td>\n",
              "      <td id=\"T_6231c_row32_col1\" class=\"data row32 col1\" >11</td>\n",
              "      <td id=\"T_6231c_row32_col2\" class=\"data row32 col2\" >1</td>\n",
              "      <td id=\"T_6231c_row32_col3\" class=\"data row32 col3\" >9</td>\n",
              "    </tr>\n",
              "    <tr>\n",
              "      <th id=\"T_6231c_level0_row33\" class=\"row_heading level0 row33\" >19</th>\n",
              "      <td id=\"T_6231c_row33_col0\" class=\"data row33 col0\" >What is the company's accounts receivable turnover and are there any concerns regarding receivables aging?</td>\n",
              "      <td id=\"T_6231c_row33_col1\" class=\"data row33 col1\" >7</td>\n",
              "      <td id=\"T_6231c_row33_col2\" class=\"data row33 col2\" >0</td>\n",
              "      <td id=\"T_6231c_row33_col3\" class=\"data row33 col3\" >0</td>\n",
              "    </tr>\n",
              "    <tr>\n",
              "      <th id=\"T_6231c_level0_row34\" class=\"row_heading level0 row34\" >22</th>\n",
              "      <td id=\"T_6231c_row34_col0\" class=\"data row34 col0\" >What is the company's current ratio and quick ratio and how do these ratios compare to industry averages?</td>\n",
              "      <td id=\"T_6231c_row34_col1\" class=\"data row34 col1\" >6</td>\n",
              "      <td id=\"T_6231c_row34_col2\" class=\"data row34 col2\" >0</td>\n",
              "      <td id=\"T_6231c_row34_col3\" class=\"data row34 col3\" >0</td>\n",
              "    </tr>\n",
              "  </tbody>\n",
              "</table>\n"
            ]
          },
          "metadata": {},
          "execution_count": 12
        }
      ]
    },
    {
      "cell_type": "code",
      "source": [
        "print(new_data['total'].sum())\n",
        "print(new_data['correct'].sum())\n",
        "print(new_data['correct'].sum() / new_data['total'].sum() * 100)"
      ],
      "metadata": {
        "id": "Cw2lSLue7qXP",
        "outputId": "e5cc5e61-abef-464c-8c66-9ad6a83c2f0b",
        "colab": {
          "base_uri": "https://localhost:8080/"
        }
      },
      "execution_count": 14,
      "outputs": [
        {
          "output_type": "stream",
          "name": "stdout",
          "text": [
            "334\n",
            "244\n",
            "73.05389221556887\n"
          ]
        }
      ]
    },
    {
      "cell_type": "markdown",
      "source": [
        "### LateX syntax"
      ],
      "metadata": {
        "id": "-qCgxEP7FVjP"
      }
    },
    {
      "cell_type": "code",
      "source": [
        "latex_table = new_data.to_latex(index=False)\n",
        "print(latex_table)"
      ],
      "metadata": {
        "execution": {
          "iopub.status.busy": "2024-06-04T07:24:53.776042Z",
          "iopub.execute_input": "2024-06-04T07:24:53.776379Z",
          "iopub.status.idle": "2024-06-04T07:24:53.885132Z",
          "shell.execute_reply.started": "2024-06-04T07:24:53.776336Z",
          "shell.execute_reply": "2024-06-04T07:24:53.883709Z"
        },
        "trusted": true,
        "colab": {
          "base_uri": "https://localhost:8080/"
        },
        "id": "BL8NI0UzFVjP",
        "outputId": "c9a71c4f-b3a1-41c4-8fec-9e483a923a4c"
      },
      "execution_count": 13,
      "outputs": [
        {
          "output_type": "stream",
          "name": "stdout",
          "text": [
            "\\begin{tabular}{lrrr}\n",
            "\\toprule\n",
            "question & total & correct & percentage,% \\\\\n",
            "\\midrule\n",
            "Are there any ongoing legal proceedings against the company? & 10 & 10 & 100 \\\\\n",
            "Are there any tax-related risks or benefits for the company mentioned? & 10 & 10 & 100 \\\\\n",
            "What is the company's cash flow generated from operations and are there any notable trends or fluctuations? & 8 & 8 & 100 \\\\\n",
            "What is the company's cost of goods sold (COGS) and how does the COGS compare to the total revenue? & 2 & 2 & 100 \\\\\n",
            "What is the company's geographic breakdown of revenue and are there any notable trends or shifts? & 4 & 4 & 100 \\\\\n",
            "What are the company's critical accounting policies disclosed and how might changes in these policies affect financial statements? & 13 & 13 & 100 \\\\\n",
            "What is the company's operating income and how does it compare to the previous years? & 7 & 7 & 100 \\\\\n",
            "What is the effective tax rate for the company? & 8 & 8 & 100 \\\\\n",
            "What is the total revenue generated by the company and how has the revenue changed over the past few years? & 10 & 10 & 100 \\\\\n",
            "What potential impact could legal issues have on the business of the company? & 13 & 13 & 100 \\\\\n",
            "What does the company foresee in terms of future growth and challenges and are there any strategic plans outlined for the upcoming years? & 13 & 13 & 100 \\\\\n",
            "How does the company manage currency risk and are there impacts on financials due to currency fluctuations? & 12 & 11 & 91 \\\\\n",
            "Has the company engaged in any share buyback programs and if yes what is the rationale behind such actions? & 12 & 11 & 91 \\\\\n",
            "What is the company's total outstanding debt, how is the debt structured, and what are the interest rates? & 7 & 6 & 85 \\\\\n",
            "How does the company's management view the company performance? & 12 & 10 & 83 \\\\\n",
            "How does the company leverage technology for its operations and are there ongoing technological advancements? & 11 & 9 & 81 \\\\\n",
            "What is the company's net income for the current fiscal year and how has net income trended over the past few years? & 5 & 4 & 80 \\\\\n",
            "Who are the company's main competitors and how does the company differentiate itself? & 10 & 8 & 80 \\\\\n",
            "How much has the company invested in capital expenditures and are there any significant projects underway? & 9 & 7 & 77 \\\\\n",
            "What employee benefits does the company offer? & 13 & 10 & 76 \\\\\n",
            "What are the company's major operating expenses and how have these expenses changed over time? & 11 & 8 & 72 \\\\\n",
            "What are the company's pension obligations and contributions and is there a pension fund surplus or deficit? & 7 & 5 & 71 \\\\\n",
            "What are the company's key risks mentioned in the 10-K and how does the company plan to mitigate these risks? & 10 & 7 & 70 \\\\\n",
            "What are the company's key insights provided in the Management Discussion and Analysis (MD&A) section? & 13 & 9 & 69 \\\\\n",
            "How much inventory does the company hold and are there any signs of inventory management issues? & 9 & 6 & 66 \\\\\n",
            "What is the company's dividend history and how sustainable are the dividend payouts? & 11 & 7 & 63 \\\\\n",
            "What innovations or projects are currently in progress in the company? & 13 & 8 & 61 \\\\\n",
            "How does the company address Environmental, Social, and Governance (ESG) concerns and are there any sustainability initiatives in place? & 12 & 7 & 58 \\\\\n",
            "How much is spent on research and development by the company? & 11 & 5 & 45 \\\\\n",
            "What is the company's gross profit margin, and how has it evolved? & 11 & 4 & 36 \\\\\n",
            "What is the company's earnings per share and how does it compare to industry benchmarks? & 4 & 1 & 25 \\\\\n",
            "How is the company's corporate culture described? & 9 & 2 & 22 \\\\\n",
            "What is the company's market share in its industry and how has it changed over the years? & 11 & 1 & 9 \\\\\n",
            "What is the company's accounts receivable turnover and are there any concerns regarding receivables aging? & 7 & 0 & 0 \\\\\n",
            "What is the company's current ratio and quick ratio and how do these ratios compare to industry averages? & 6 & 0 & 0 \\\\\n",
            "\\bottomrule\n",
            "\\end{tabular}\n",
            "\n"
          ]
        }
      ]
    }
  ]
}