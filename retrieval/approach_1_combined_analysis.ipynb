{
  "metadata": {
    "kernelspec": {
      "language": "python",
      "display_name": "Python 3",
      "name": "python3"
    },
    "language_info": {
      "name": "python",
      "version": "3.10.13",
      "mimetype": "text/x-python",
      "codemirror_mode": {
        "name": "ipython",
        "version": 3
      },
      "pygments_lexer": "ipython3",
      "nbconvert_exporter": "python",
      "file_extension": ".py"
    },
    "kaggle": {
      "accelerator": "none",
      "dataSources": [],
      "dockerImageVersionId": 30715,
      "isInternetEnabled": true,
      "language": "python",
      "sourceType": "notebook",
      "isGpuEnabled": false
    },
    "colab": {
      "provenance": [],
      "include_colab_link": true
    }
  },
  "nbformat_minor": 0,
  "nbformat": 4,
  "cells": [
    {
      "cell_type": "markdown",
      "metadata": {
        "id": "view-in-github",
        "colab_type": "text"
      },
      "source": [
        "<a href=\"https://colab.research.google.com/github/winterForestStump/thesis/blob/main/retrieval/approach_1_combined_analysis.ipynb\" target=\"_parent\"><img src=\"https://colab.research.google.com/assets/colab-badge.svg\" alt=\"Open In Colab\"/></a>"
      ]
    },
    {
      "cell_type": "markdown",
      "source": [
        "### Download JSON files with evaluation data"
      ],
      "metadata": {
        "id": "cbH0yOD-4Itl"
      }
    },
    {
      "cell_type": "code",
      "source": [
        "! wget \"https://raw.githubusercontent.com/winterForestStump/thesis/main/retrieval/evaluation/eval_1_cosine.json\"\n",
        "! wget \"https://raw.githubusercontent.com/winterForestStump/thesis/main/retrieval/evaluation/eval_1_ip.json\"\n",
        "! wget \"https://raw.githubusercontent.com/winterForestStump/thesis/main/retrieval/evaluation/eval_1_l2.json\"\n",
        "! wget \"https://raw.githubusercontent.com/winterForestStump/thesis/main/retrieval/evaluation/eval_2_cosine.json\"\n",
        "! wget \"https://raw.githubusercontent.com/winterForestStump/thesis/main/retrieval/evaluation/eval_2_ip.json\"\n",
        "! wget \"https://raw.githubusercontent.com/winterForestStump/thesis/main/retrieval/evaluation/eval_2_l2.json\""
      ],
      "metadata": {
        "execution": {
          "iopub.status.busy": "2024-06-04T07:24:45.277737Z",
          "iopub.execute_input": "2024-06-04T07:24:45.279152Z",
          "iopub.status.idle": "2024-06-04T07:24:52.929063Z",
          "shell.execute_reply.started": "2024-06-04T07:24:45.279101Z",
          "shell.execute_reply": "2024-06-04T07:24:52.927592Z"
        },
        "trusted": true,
        "colab": {
          "base_uri": "https://localhost:8080/"
        },
        "id": "3X0tO_aM4Itn",
        "outputId": "37ca4d3c-93a6-4900-c6e3-3928a8a55e18"
      },
      "execution_count": 1,
      "outputs": [
        {
          "output_type": "stream",
          "name": "stdout",
          "text": [
            "--2024-07-29 09:44:39--  https://raw.githubusercontent.com/winterForestStump/thesis/main/retrieval/evaluation/eval_1_cosine.json\n",
            "Resolving raw.githubusercontent.com (raw.githubusercontent.com)... 185.199.110.133, 185.199.109.133, 185.199.111.133, ...\n",
            "Connecting to raw.githubusercontent.com (raw.githubusercontent.com)|185.199.110.133|:443... connected.\n",
            "HTTP request sent, awaiting response... 200 OK\n",
            "Length: 1624588 (1.5M) [text/plain]\n",
            "Saving to: ‘eval_1_cosine.json’\n",
            "\n",
            "eval_1_cosine.json  100%[===================>]   1.55M  --.-KB/s    in 0.07s   \n",
            "\n",
            "2024-07-29 09:44:39 (22.9 MB/s) - ‘eval_1_cosine.json’ saved [1624588/1624588]\n",
            "\n",
            "--2024-07-29 09:44:40--  https://raw.githubusercontent.com/winterForestStump/thesis/main/retrieval/evaluation/eval_1_ip.json\n",
            "Resolving raw.githubusercontent.com (raw.githubusercontent.com)... 185.199.110.133, 185.199.109.133, 185.199.111.133, ...\n",
            "Connecting to raw.githubusercontent.com (raw.githubusercontent.com)|185.199.110.133|:443... connected.\n",
            "HTTP request sent, awaiting response... 200 OK\n",
            "Length: 1632016 (1.6M) [text/plain]\n",
            "Saving to: ‘eval_1_ip.json’\n",
            "\n",
            "eval_1_ip.json      100%[===================>]   1.56M  --.-KB/s    in 0.07s   \n",
            "\n",
            "2024-07-29 09:44:40 (21.6 MB/s) - ‘eval_1_ip.json’ saved [1632016/1632016]\n",
            "\n",
            "--2024-07-29 09:44:40--  https://raw.githubusercontent.com/winterForestStump/thesis/main/retrieval/evaluation/eval_1_l2.json\n",
            "Resolving raw.githubusercontent.com (raw.githubusercontent.com)... 185.199.110.133, 185.199.109.133, 185.199.111.133, ...\n",
            "Connecting to raw.githubusercontent.com (raw.githubusercontent.com)|185.199.110.133|:443... connected.\n",
            "HTTP request sent, awaiting response... 200 OK\n",
            "Length: 1618393 (1.5M) [text/plain]\n",
            "Saving to: ‘eval_1_l2.json’\n",
            "\n",
            "eval_1_l2.json      100%[===================>]   1.54M  --.-KB/s    in 0.07s   \n",
            "\n",
            "2024-07-29 09:44:40 (22.5 MB/s) - ‘eval_1_l2.json’ saved [1618393/1618393]\n",
            "\n",
            "--2024-07-29 09:44:40--  https://raw.githubusercontent.com/winterForestStump/thesis/main/retrieval/evaluation/eval_2_cosine.json\n",
            "Resolving raw.githubusercontent.com (raw.githubusercontent.com)... 185.199.110.133, 185.199.109.133, 185.199.111.133, ...\n",
            "Connecting to raw.githubusercontent.com (raw.githubusercontent.com)|185.199.110.133|:443... connected.\n",
            "HTTP request sent, awaiting response... 200 OK\n",
            "Length: 1673611 (1.6M) [text/plain]\n",
            "Saving to: ‘eval_2_cosine.json’\n",
            "\n",
            "eval_2_cosine.json  100%[===================>]   1.60M  --.-KB/s    in 0.07s   \n",
            "\n",
            "2024-07-29 09:44:41 (22.3 MB/s) - ‘eval_2_cosine.json’ saved [1673611/1673611]\n",
            "\n",
            "--2024-07-29 09:44:41--  https://raw.githubusercontent.com/winterForestStump/thesis/main/retrieval/evaluation/eval_2_ip.json\n",
            "Resolving raw.githubusercontent.com (raw.githubusercontent.com)... 185.199.110.133, 185.199.109.133, 185.199.111.133, ...\n",
            "Connecting to raw.githubusercontent.com (raw.githubusercontent.com)|185.199.110.133|:443... connected.\n",
            "HTTP request sent, awaiting response... 200 OK\n",
            "Length: 1726111 (1.6M) [text/plain]\n",
            "Saving to: ‘eval_2_ip.json’\n",
            "\n",
            "eval_2_ip.json      100%[===================>]   1.65M  --.-KB/s    in 0.07s   \n",
            "\n",
            "2024-07-29 09:44:41 (24.5 MB/s) - ‘eval_2_ip.json’ saved [1726111/1726111]\n",
            "\n",
            "--2024-07-29 09:44:41--  https://raw.githubusercontent.com/winterForestStump/thesis/main/retrieval/evaluation/eval_2_l2.json\n",
            "Resolving raw.githubusercontent.com (raw.githubusercontent.com)... 185.199.110.133, 185.199.109.133, 185.199.111.133, ...\n",
            "Connecting to raw.githubusercontent.com (raw.githubusercontent.com)|185.199.110.133|:443... connected.\n",
            "HTTP request sent, awaiting response... 200 OK\n",
            "Length: 1676950 (1.6M) [text/plain]\n",
            "Saving to: ‘eval_2_l2.json’\n",
            "\n",
            "eval_2_l2.json      100%[===================>]   1.60M  --.-KB/s    in 0.07s   \n",
            "\n",
            "2024-07-29 09:44:42 (24.0 MB/s) - ‘eval_2_l2.json’ saved [1676950/1676950]\n",
            "\n"
          ]
        }
      ]
    },
    {
      "cell_type": "markdown",
      "source": [
        "### Combine downloaded JSON files into one"
      ],
      "metadata": {
        "id": "5y9eOk2g4Itq"
      }
    },
    {
      "cell_type": "code",
      "source": [
        "import pandas as pd\n",
        "import json\n",
        "\n",
        "json_files = [\n",
        "    'eval_1_cosine.json',\n",
        "    'eval_1_ip.json',\n",
        "    'eval_1_l2.json',\n",
        "    'eval_2_cosine.json',\n",
        "    'eval_2_ip.json',\n",
        "    'eval_2_l2.json']\n",
        "\n",
        "df_0 = pd.read_json('eval_1_cosine.json')\n",
        "for file in json_files[1:]:\n",
        "    df = pd.read_json(file)\n",
        "    df_0 = pd.concat([df_0, df], ignore_index=True)\n",
        "\n",
        "df_0.to_json('combined.json', orient='records', lines=True)\n",
        "print(\"Files have been merged successfully!\")"
      ],
      "metadata": {
        "execution": {
          "iopub.status.busy": "2024-06-04T07:24:52.931273Z",
          "iopub.execute_input": "2024-06-04T07:24:52.931651Z",
          "iopub.status.idle": "2024-06-04T07:24:53.545072Z",
          "shell.execute_reply.started": "2024-06-04T07:24:52.931611Z",
          "shell.execute_reply": "2024-06-04T07:24:53.543620Z"
        },
        "trusted": true,
        "colab": {
          "base_uri": "https://localhost:8080/"
        },
        "id": "7SsV7Cih4Itr",
        "outputId": "e976dae8-979d-400f-efff-dc06391c7a4c"
      },
      "execution_count": 2,
      "outputs": [
        {
          "output_type": "stream",
          "name": "stdout",
          "text": [
            "Files have been merged successfully!\n"
          ]
        }
      ]
    },
    {
      "cell_type": "markdown",
      "source": [
        "### Filter Approach 1 instances"
      ],
      "metadata": {
        "id": "yRqQKZ6A4Its"
      }
    },
    {
      "cell_type": "code",
      "source": [
        "data = pd.read_json('combined.json',orient='records', lines=True)\n",
        "data = data[data['approach'] == 1]\n",
        "len(data)"
      ],
      "metadata": {
        "execution": {
          "iopub.status.busy": "2024-06-04T07:24:53.546526Z",
          "iopub.execute_input": "2024-06-04T07:24:53.546926Z",
          "iopub.status.idle": "2024-06-04T07:24:53.646715Z",
          "shell.execute_reply.started": "2024-06-04T07:24:53.546893Z",
          "shell.execute_reply": "2024-06-04T07:24:53.645611Z"
        },
        "trusted": true,
        "colab": {
          "base_uri": "https://localhost:8080/"
        },
        "id": "0MbCXJUK4Its",
        "outputId": "b1af30e8-af4b-4b64-f036-214bbe63b3fe"
      },
      "execution_count": 3,
      "outputs": [
        {
          "output_type": "execute_result",
          "data": {
            "text/plain": [
              "2525"
            ]
          },
          "metadata": {},
          "execution_count": 3
        }
      ]
    },
    {
      "cell_type": "markdown",
      "source": [
        "### Group the number of answers by questions"
      ],
      "metadata": {
        "id": "iw9ObIVb4Itt"
      }
    },
    {
      "cell_type": "code",
      "source": [
        "data_total = data.groupby('question')['answer'].count().reset_index()\n",
        "data_total.rename(columns={'answer':'total'}, inplace=True)"
      ],
      "metadata": {
        "execution": {
          "iopub.status.busy": "2024-06-04T07:24:53.649895Z",
          "iopub.execute_input": "2024-06-04T07:24:53.651001Z",
          "iopub.status.idle": "2024-06-04T07:24:53.662816Z",
          "shell.execute_reply.started": "2024-06-04T07:24:53.650959Z",
          "shell.execute_reply": "2024-06-04T07:24:53.661309Z"
        },
        "trusted": true,
        "id": "SHE9MerA4Itt"
      },
      "execution_count": 4,
      "outputs": []
    },
    {
      "cell_type": "markdown",
      "source": [
        "### Filter instances with the 'yes' score"
      ],
      "metadata": {
        "id": "wkE37jT04Itt"
      }
    },
    {
      "cell_type": "code",
      "source": [
        "filtered_df = data[data['answer'].apply(lambda x: isinstance(x, dict) and x.get('score') == 'yes')]\n",
        "len(filtered_df)"
      ],
      "metadata": {
        "execution": {
          "iopub.status.busy": "2024-06-04T07:24:53.664856Z",
          "iopub.execute_input": "2024-06-04T07:24:53.665457Z",
          "iopub.status.idle": "2024-06-04T07:24:53.678719Z",
          "shell.execute_reply.started": "2024-06-04T07:24:53.665417Z",
          "shell.execute_reply": "2024-06-04T07:24:53.677606Z"
        },
        "trusted": true,
        "colab": {
          "base_uri": "https://localhost:8080/"
        },
        "id": "4kaQMKwE4Itt",
        "outputId": "d1c43d87-1dbc-42b6-df42-df938009f472"
      },
      "execution_count": 5,
      "outputs": [
        {
          "output_type": "execute_result",
          "data": {
            "text/plain": [
              "1440"
            ]
          },
          "metadata": {},
          "execution_count": 5
        }
      ]
    },
    {
      "cell_type": "markdown",
      "source": [
        "### Group the number of correct answers by questions"
      ],
      "metadata": {
        "id": "sukjWxfB4Itu"
      }
    },
    {
      "cell_type": "code",
      "source": [
        "data_filtered = filtered_df.groupby('question')['answer'].count().reset_index()\n",
        "data_filtered.rename(columns={'answer':'correct'}, inplace=True)"
      ],
      "metadata": {
        "execution": {
          "iopub.status.busy": "2024-06-04T07:24:53.680175Z",
          "iopub.execute_input": "2024-06-04T07:24:53.680577Z",
          "iopub.status.idle": "2024-06-04T07:24:53.688868Z",
          "shell.execute_reply.started": "2024-06-04T07:24:53.680522Z",
          "shell.execute_reply": "2024-06-04T07:24:53.687891Z"
        },
        "trusted": true,
        "id": "dqW0WGzR4Itu"
      },
      "execution_count": 6,
      "outputs": []
    },
    {
      "cell_type": "markdown",
      "source": [
        "### Merge two tables: all and correct answers grouped by questions"
      ],
      "metadata": {
        "id": "S5NAiEsn4Itu"
      }
    },
    {
      "cell_type": "code",
      "source": [
        "new_data = data_total.merge(data_filtered, how='left', on='question')\n",
        "new_data['correct'] = new_data['correct'].fillna(0)\n",
        "len(new_data)"
      ],
      "metadata": {
        "execution": {
          "iopub.status.busy": "2024-06-04T07:24:53.690632Z",
          "iopub.execute_input": "2024-06-04T07:24:53.691579Z",
          "iopub.status.idle": "2024-06-04T07:24:53.713142Z",
          "shell.execute_reply.started": "2024-06-04T07:24:53.691488Z",
          "shell.execute_reply": "2024-06-04T07:24:53.711755Z"
        },
        "trusted": true,
        "colab": {
          "base_uri": "https://localhost:8080/"
        },
        "id": "7S5kVRgq4Itu",
        "outputId": "7622922b-4c84-477a-8032-697a0be5dce1"
      },
      "execution_count": 7,
      "outputs": [
        {
          "output_type": "execute_result",
          "data": {
            "text/plain": [
              "35"
            ]
          },
          "metadata": {},
          "execution_count": 7
        }
      ]
    },
    {
      "cell_type": "code",
      "source": [
        "new_data['percentage,%'] = new_data['correct'] / new_data['total'] * 100\n",
        "new_data.sort_values(by='percentage,%', inplace=True, ascending=False)\n",
        "new_data['correct'] = new_data['correct'].astype(int)\n",
        "new_data['percentage,%'] = new_data['percentage,%'].astype(int)"
      ],
      "metadata": {
        "execution": {
          "iopub.status.busy": "2024-06-04T07:24:53.714918Z",
          "iopub.execute_input": "2024-06-04T07:24:53.715264Z",
          "iopub.status.idle": "2024-06-04T07:24:53.727965Z",
          "shell.execute_reply.started": "2024-06-04T07:24:53.715235Z",
          "shell.execute_reply": "2024-06-04T07:24:53.726767Z"
        },
        "trusted": true,
        "id": "iOB2rfqH4Itv"
      },
      "execution_count": 8,
      "outputs": []
    },
    {
      "cell_type": "code",
      "source": [
        "new_data.style"
      ],
      "metadata": {
        "execution": {
          "iopub.status.busy": "2024-06-04T07:28:50.878261Z",
          "iopub.execute_input": "2024-06-04T07:28:50.878717Z",
          "iopub.status.idle": "2024-06-04T07:28:50.894772Z",
          "shell.execute_reply.started": "2024-06-04T07:28:50.878677Z",
          "shell.execute_reply": "2024-06-04T07:28:50.893407Z"
        },
        "trusted": true,
        "colab": {
          "base_uri": "https://localhost:8080/",
          "height": 1000
        },
        "id": "FkgwhPcb4Itv",
        "outputId": "0d0f2e0e-acb6-414f-98c9-4a0d7d2f2c55"
      },
      "execution_count": 9,
      "outputs": [
        {
          "output_type": "execute_result",
          "data": {
            "text/plain": [
              "<pandas.io.formats.style.Styler at 0x7af7eb4b3eb0>"
            ],
            "text/html": [
              "<style type=\"text/css\">\n",
              "</style>\n",
              "<table id=\"T_e3ace\" class=\"dataframe\">\n",
              "  <thead>\n",
              "    <tr>\n",
              "      <th class=\"blank level0\" >&nbsp;</th>\n",
              "      <th id=\"T_e3ace_level0_col0\" class=\"col_heading level0 col0\" >question</th>\n",
              "      <th id=\"T_e3ace_level0_col1\" class=\"col_heading level0 col1\" >total</th>\n",
              "      <th id=\"T_e3ace_level0_col2\" class=\"col_heading level0 col2\" >correct</th>\n",
              "      <th id=\"T_e3ace_level0_col3\" class=\"col_heading level0 col3\" >percentage,%</th>\n",
              "    </tr>\n",
              "  </thead>\n",
              "  <tbody>\n",
              "    <tr>\n",
              "      <th id=\"T_e3ace_level0_row0\" class=\"row_heading level0 row0\" >16</th>\n",
              "      <td id=\"T_e3ace_row0_col0\" class=\"data row0 col0\" >What does the company foresee in terms of future growth and challenges and are there any strategic plans outlined for the upcoming years?</td>\n",
              "      <td id=\"T_e3ace_row0_col1\" class=\"data row0 col1\" >74</td>\n",
              "      <td id=\"T_e3ace_row0_col2\" class=\"data row0 col2\" >71</td>\n",
              "      <td id=\"T_e3ace_row0_col3\" class=\"data row0 col3\" >95</td>\n",
              "    </tr>\n",
              "    <tr>\n",
              "      <th id=\"T_e3ace_level0_row1\" class=\"row_heading level0 row1\" >31</th>\n",
              "      <td id=\"T_e3ace_row1_col0\" class=\"data row1 col0\" >What is the effective tax rate for the company?</td>\n",
              "      <td id=\"T_e3ace_row1_col1\" class=\"data row1 col1\" >73</td>\n",
              "      <td id=\"T_e3ace_row1_col2\" class=\"data row1 col2\" >70</td>\n",
              "      <td id=\"T_e3ace_row1_col3\" class=\"data row1 col3\" >95</td>\n",
              "    </tr>\n",
              "    <tr>\n",
              "      <th id=\"T_e3ace_level0_row2\" class=\"row_heading level0 row2\" >0</th>\n",
              "      <td id=\"T_e3ace_row2_col0\" class=\"data row2 col0\" >Are there any ongoing legal proceedings against the company?</td>\n",
              "      <td id=\"T_e3ace_row2_col1\" class=\"data row2 col1\" >73</td>\n",
              "      <td id=\"T_e3ace_row2_col2\" class=\"data row2 col2\" >68</td>\n",
              "      <td id=\"T_e3ace_row2_col3\" class=\"data row2 col3\" >93</td>\n",
              "    </tr>\n",
              "    <tr>\n",
              "      <th id=\"T_e3ace_level0_row3\" class=\"row_heading level0 row3\" >29</th>\n",
              "      <td id=\"T_e3ace_row3_col0\" class=\"data row3 col0\" >What is the company's operating income and how does it compare to the previous years?</td>\n",
              "      <td id=\"T_e3ace_row3_col1\" class=\"data row3 col1\" >68</td>\n",
              "      <td id=\"T_e3ace_row3_col2\" class=\"data row3 col2\" >61</td>\n",
              "      <td id=\"T_e3ace_row3_col3\" class=\"data row3 col3\" >89</td>\n",
              "    </tr>\n",
              "    <tr>\n",
              "      <th id=\"T_e3ace_level0_row4\" class=\"row_heading level0 row4\" >33</th>\n",
              "      <td id=\"T_e3ace_row4_col0\" class=\"data row4 col0\" >What potential impact could legal issues have on the business of the company?</td>\n",
              "      <td id=\"T_e3ace_row4_col1\" class=\"data row4 col1\" >77</td>\n",
              "      <td id=\"T_e3ace_row4_col2\" class=\"data row4 col2\" >69</td>\n",
              "      <td id=\"T_e3ace_row4_col3\" class=\"data row4 col3\" >89</td>\n",
              "    </tr>\n",
              "    <tr>\n",
              "      <th id=\"T_e3ace_level0_row5\" class=\"row_heading level0 row5\" >1</th>\n",
              "      <td id=\"T_e3ace_row5_col0\" class=\"data row5 col0\" >Are there any tax-related risks or benefits for the company mentioned?</td>\n",
              "      <td id=\"T_e3ace_row5_col1\" class=\"data row5 col1\" >75</td>\n",
              "      <td id=\"T_e3ace_row5_col2\" class=\"data row5 col2\" >66</td>\n",
              "      <td id=\"T_e3ace_row5_col3\" class=\"data row5 col3\" >88</td>\n",
              "    </tr>\n",
              "    <tr>\n",
              "      <th id=\"T_e3ace_level0_row6\" class=\"row_heading level0 row6\" >34</th>\n",
              "      <td id=\"T_e3ace_row6_col0\" class=\"data row6 col0\" >Who are the company's main competitors and how does the company differentiate itself?</td>\n",
              "      <td id=\"T_e3ace_row6_col1\" class=\"data row6 col1\" >66</td>\n",
              "      <td id=\"T_e3ace_row6_col2\" class=\"data row6 col2\" >56</td>\n",
              "      <td id=\"T_e3ace_row6_col3\" class=\"data row6 col3\" >84</td>\n",
              "    </tr>\n",
              "    <tr>\n",
              "      <th id=\"T_e3ace_level0_row7\" class=\"row_heading level0 row7\" >5</th>\n",
              "      <td id=\"T_e3ace_row7_col0\" class=\"data row7 col0\" >How does the company manage currency risk and are there impacts on financials due to currency fluctuations?</td>\n",
              "      <td id=\"T_e3ace_row7_col1\" class=\"data row7 col1\" >71</td>\n",
              "      <td id=\"T_e3ace_row7_col2\" class=\"data row7 col2\" >58</td>\n",
              "      <td id=\"T_e3ace_row7_col3\" class=\"data row7 col3\" >81</td>\n",
              "    </tr>\n",
              "    <tr>\n",
              "      <th id=\"T_e3ace_level0_row8\" class=\"row_heading level0 row8\" >32</th>\n",
              "      <td id=\"T_e3ace_row8_col0\" class=\"data row8 col0\" >What is the total revenue generated by the company and how has the revenue changed over the past few years?</td>\n",
              "      <td id=\"T_e3ace_row8_col1\" class=\"data row8 col1\" >67</td>\n",
              "      <td id=\"T_e3ace_row8_col2\" class=\"data row8 col2\" >54</td>\n",
              "      <td id=\"T_e3ace_row8_col3\" class=\"data row8 col3\" >80</td>\n",
              "    </tr>\n",
              "    <tr>\n",
              "      <th id=\"T_e3ace_level0_row9\" class=\"row_heading level0 row9\" >11</th>\n",
              "      <td id=\"T_e3ace_row9_col0\" class=\"data row9 col0\" >What are the company's critical accounting policies disclosed and how might changes in these policies affect financial statements?</td>\n",
              "      <td id=\"T_e3ace_row9_col1\" class=\"data row9 col1\" >70</td>\n",
              "      <td id=\"T_e3ace_row9_col2\" class=\"data row9 col2\" >56</td>\n",
              "      <td id=\"T_e3ace_row9_col3\" class=\"data row9 col3\" >80</td>\n",
              "    </tr>\n",
              "    <tr>\n",
              "      <th id=\"T_e3ace_level0_row10\" class=\"row_heading level0 row10\" >6</th>\n",
              "      <td id=\"T_e3ace_row10_col0\" class=\"data row10 col0\" >How does the company's management view the company performance?</td>\n",
              "      <td id=\"T_e3ace_row10_col1\" class=\"data row10 col1\" >70</td>\n",
              "      <td id=\"T_e3ace_row10_col2\" class=\"data row10 col2\" >55</td>\n",
              "      <td id=\"T_e3ace_row10_col3\" class=\"data row10 col3\" >78</td>\n",
              "    </tr>\n",
              "    <tr>\n",
              "      <th id=\"T_e3ace_level0_row11\" class=\"row_heading level0 row11\" >20</th>\n",
              "      <td id=\"T_e3ace_row11_col0\" class=\"data row11 col0\" >What is the company's cash flow generated from operations and are there any notable trends or fluctuations?</td>\n",
              "      <td id=\"T_e3ace_row11_col1\" class=\"data row11 col1\" >69</td>\n",
              "      <td id=\"T_e3ace_row11_col2\" class=\"data row11 col2\" >54</td>\n",
              "      <td id=\"T_e3ace_row11_col3\" class=\"data row11 col3\" >78</td>\n",
              "    </tr>\n",
              "    <tr>\n",
              "      <th id=\"T_e3ace_level0_row12\" class=\"row_heading level0 row12\" >2</th>\n",
              "      <td id=\"T_e3ace_row12_col0\" class=\"data row12 col0\" >Has the company engaged in any share buyback programs and if yes what is the rationale behind such actions?</td>\n",
              "      <td id=\"T_e3ace_row12_col1\" class=\"data row12 col1\" >68</td>\n",
              "      <td id=\"T_e3ace_row12_col2\" class=\"data row12 col2\" >53</td>\n",
              "      <td id=\"T_e3ace_row12_col3\" class=\"data row12 col3\" >77</td>\n",
              "    </tr>\n",
              "    <tr>\n",
              "      <th id=\"T_e3ace_level0_row13\" class=\"row_heading level0 row13\" >28</th>\n",
              "      <td id=\"T_e3ace_row13_col0\" class=\"data row13 col0\" >What is the company's net income for the current fiscal year and how has net income trended over the past few years?</td>\n",
              "      <td id=\"T_e3ace_row13_col1\" class=\"data row13 col1\" >72</td>\n",
              "      <td id=\"T_e3ace_row13_col2\" class=\"data row13 col2\" >53</td>\n",
              "      <td id=\"T_e3ace_row13_col3\" class=\"data row13 col3\" >73</td>\n",
              "    </tr>\n",
              "    <tr>\n",
              "      <th id=\"T_e3ace_level0_row14\" class=\"row_heading level0 row14\" >17</th>\n",
              "      <td id=\"T_e3ace_row14_col0\" class=\"data row14 col0\" >What employee benefits does the company offer?</td>\n",
              "      <td id=\"T_e3ace_row14_col1\" class=\"data row14 col1\" >71</td>\n",
              "      <td id=\"T_e3ace_row14_col2\" class=\"data row14 col2\" >52</td>\n",
              "      <td id=\"T_e3ace_row14_col3\" class=\"data row14 col3\" >73</td>\n",
              "    </tr>\n",
              "    <tr>\n",
              "      <th id=\"T_e3ace_level0_row15\" class=\"row_heading level0 row15\" >13</th>\n",
              "      <td id=\"T_e3ace_row15_col0\" class=\"data row15 col0\" >What are the company's key risks mentioned in the 10-K and how does the company plan to mitigate these risks?</td>\n",
              "      <td id=\"T_e3ace_row15_col1\" class=\"data row15 col1\" >66</td>\n",
              "      <td id=\"T_e3ace_row15_col2\" class=\"data row15 col2\" >46</td>\n",
              "      <td id=\"T_e3ace_row15_col3\" class=\"data row15 col3\" >69</td>\n",
              "    </tr>\n",
              "    <tr>\n",
              "      <th id=\"T_e3ace_level0_row16\" class=\"row_heading level0 row16\" >14</th>\n",
              "      <td id=\"T_e3ace_row16_col0\" class=\"data row16 col0\" >What are the company's major operating expenses and how have these expenses changed over time?</td>\n",
              "      <td id=\"T_e3ace_row16_col1\" class=\"data row16 col1\" >75</td>\n",
              "      <td id=\"T_e3ace_row16_col2\" class=\"data row16 col2\" >50</td>\n",
              "      <td id=\"T_e3ace_row16_col3\" class=\"data row16 col3\" >66</td>\n",
              "    </tr>\n",
              "    <tr>\n",
              "      <th id=\"T_e3ace_level0_row17\" class=\"row_heading level0 row17\" >8</th>\n",
              "      <td id=\"T_e3ace_row17_col0\" class=\"data row17 col0\" >How much has the company invested in capital expenditures and are there any significant projects underway?</td>\n",
              "      <td id=\"T_e3ace_row17_col1\" class=\"data row17 col1\" >68</td>\n",
              "      <td id=\"T_e3ace_row17_col2\" class=\"data row17 col2\" >43</td>\n",
              "      <td id=\"T_e3ace_row17_col3\" class=\"data row17 col3\" >63</td>\n",
              "    </tr>\n",
              "    <tr>\n",
              "      <th id=\"T_e3ace_level0_row18\" class=\"row_heading level0 row18\" >4</th>\n",
              "      <td id=\"T_e3ace_row18_col0\" class=\"data row18 col0\" >How does the company leverage technology for its operations and are there ongoing technological advancements?</td>\n",
              "      <td id=\"T_e3ace_row18_col1\" class=\"data row18 col1\" >70</td>\n",
              "      <td id=\"T_e3ace_row18_col2\" class=\"data row18 col2\" >43</td>\n",
              "      <td id=\"T_e3ace_row18_col3\" class=\"data row18 col3\" >61</td>\n",
              "    </tr>\n",
              "    <tr>\n",
              "      <th id=\"T_e3ace_level0_row19\" class=\"row_heading level0 row19\" >25</th>\n",
              "      <td id=\"T_e3ace_row19_col0\" class=\"data row19 col0\" >What is the company's geographic breakdown of revenue and are there any notable trends or shifts?</td>\n",
              "      <td id=\"T_e3ace_row19_col1\" class=\"data row19 col1\" >76</td>\n",
              "      <td id=\"T_e3ace_row19_col2\" class=\"data row19 col2\" >44</td>\n",
              "      <td id=\"T_e3ace_row19_col3\" class=\"data row19 col3\" >57</td>\n",
              "    </tr>\n",
              "    <tr>\n",
              "      <th id=\"T_e3ace_level0_row20\" class=\"row_heading level0 row20\" >3</th>\n",
              "      <td id=\"T_e3ace_row20_col0\" class=\"data row20 col0\" >How does the company address Environmental, Social, and Governance (ESG) concerns and are there any sustainability initiatives in place?</td>\n",
              "      <td id=\"T_e3ace_row20_col1\" class=\"data row20 col1\" >72</td>\n",
              "      <td id=\"T_e3ace_row20_col2\" class=\"data row20 col2\" >41</td>\n",
              "      <td id=\"T_e3ace_row20_col3\" class=\"data row20 col3\" >56</td>\n",
              "    </tr>\n",
              "    <tr>\n",
              "      <th id=\"T_e3ace_level0_row21\" class=\"row_heading level0 row21\" >30</th>\n",
              "      <td id=\"T_e3ace_row21_col0\" class=\"data row21 col0\" >What is the company's total outstanding debt, how is the debt structured, and what are the interest rates?</td>\n",
              "      <td id=\"T_e3ace_row21_col1\" class=\"data row21 col1\" >76</td>\n",
              "      <td id=\"T_e3ace_row21_col2\" class=\"data row21 col2\" >43</td>\n",
              "      <td id=\"T_e3ace_row21_col3\" class=\"data row21 col3\" >56</td>\n",
              "    </tr>\n",
              "    <tr>\n",
              "      <th id=\"T_e3ace_level0_row22\" class=\"row_heading level0 row22\" >12</th>\n",
              "      <td id=\"T_e3ace_row22_col0\" class=\"data row22 col0\" >What are the company's key insights provided in the Management Discussion and Analysis (MD&A) section?</td>\n",
              "      <td id=\"T_e3ace_row22_col1\" class=\"data row22 col1\" >71</td>\n",
              "      <td id=\"T_e3ace_row22_col2\" class=\"data row22 col2\" >39</td>\n",
              "      <td id=\"T_e3ace_row22_col3\" class=\"data row22 col3\" >54</td>\n",
              "    </tr>\n",
              "    <tr>\n",
              "      <th id=\"T_e3ace_level0_row23\" class=\"row_heading level0 row23\" >15</th>\n",
              "      <td id=\"T_e3ace_row23_col0\" class=\"data row23 col0\" >What are the company's pension obligations and contributions and is there a pension fund surplus or deficit?</td>\n",
              "      <td id=\"T_e3ace_row23_col1\" class=\"data row23 col1\" >76</td>\n",
              "      <td id=\"T_e3ace_row23_col2\" class=\"data row23 col2\" >40</td>\n",
              "      <td id=\"T_e3ace_row23_col3\" class=\"data row23 col3\" >52</td>\n",
              "    </tr>\n",
              "    <tr>\n",
              "      <th id=\"T_e3ace_level0_row24\" class=\"row_heading level0 row24\" >10</th>\n",
              "      <td id=\"T_e3ace_row24_col0\" class=\"data row24 col0\" >How much is spent on research and development by the company?</td>\n",
              "      <td id=\"T_e3ace_row24_col1\" class=\"data row24 col1\" >72</td>\n",
              "      <td id=\"T_e3ace_row24_col2\" class=\"data row24 col2\" >31</td>\n",
              "      <td id=\"T_e3ace_row24_col3\" class=\"data row24 col3\" >43</td>\n",
              "    </tr>\n",
              "    <tr>\n",
              "      <th id=\"T_e3ace_level0_row25\" class=\"row_heading level0 row25\" >23</th>\n",
              "      <td id=\"T_e3ace_row25_col0\" class=\"data row25 col0\" >What is the company's dividend history and how sustainable are the dividend payouts?</td>\n",
              "      <td id=\"T_e3ace_row25_col1\" class=\"data row25 col1\" >76</td>\n",
              "      <td id=\"T_e3ace_row25_col2\" class=\"data row25 col2\" >30</td>\n",
              "      <td id=\"T_e3ace_row25_col3\" class=\"data row25 col3\" >39</td>\n",
              "    </tr>\n",
              "    <tr>\n",
              "      <th id=\"T_e3ace_level0_row26\" class=\"row_heading level0 row26\" >26</th>\n",
              "      <td id=\"T_e3ace_row26_col0\" class=\"data row26 col0\" >What is the company's gross profit margin, and how has it evolved?</td>\n",
              "      <td id=\"T_e3ace_row26_col1\" class=\"data row26 col1\" >72</td>\n",
              "      <td id=\"T_e3ace_row26_col2\" class=\"data row26 col2\" >21</td>\n",
              "      <td id=\"T_e3ace_row26_col3\" class=\"data row26 col3\" >29</td>\n",
              "    </tr>\n",
              "    <tr>\n",
              "      <th id=\"T_e3ace_level0_row27\" class=\"row_heading level0 row27\" >18</th>\n",
              "      <td id=\"T_e3ace_row27_col0\" class=\"data row27 col0\" >What innovations or projects are currently in progress in the company?</td>\n",
              "      <td id=\"T_e3ace_row27_col1\" class=\"data row27 col1\" >72</td>\n",
              "      <td id=\"T_e3ace_row27_col2\" class=\"data row27 col2\" >21</td>\n",
              "      <td id=\"T_e3ace_row27_col3\" class=\"data row27 col3\" >29</td>\n",
              "    </tr>\n",
              "    <tr>\n",
              "      <th id=\"T_e3ace_level0_row28\" class=\"row_heading level0 row28\" >9</th>\n",
              "      <td id=\"T_e3ace_row28_col0\" class=\"data row28 col0\" >How much inventory does the company hold and are there any signs of inventory management issues?</td>\n",
              "      <td id=\"T_e3ace_row28_col1\" class=\"data row28 col1\" >68</td>\n",
              "      <td id=\"T_e3ace_row28_col2\" class=\"data row28 col2\" >18</td>\n",
              "      <td id=\"T_e3ace_row28_col3\" class=\"data row28 col3\" >26</td>\n",
              "    </tr>\n",
              "    <tr>\n",
              "      <th id=\"T_e3ace_level0_row29\" class=\"row_heading level0 row29\" >21</th>\n",
              "      <td id=\"T_e3ace_row29_col0\" class=\"data row29 col0\" >What is the company's cost of goods sold (COGS) and how does the COGS compare to the total revenue?</td>\n",
              "      <td id=\"T_e3ace_row29_col1\" class=\"data row29 col1\" >70</td>\n",
              "      <td id=\"T_e3ace_row29_col2\" class=\"data row29 col2\" >11</td>\n",
              "      <td id=\"T_e3ace_row29_col3\" class=\"data row29 col3\" >15</td>\n",
              "    </tr>\n",
              "    <tr>\n",
              "      <th id=\"T_e3ace_level0_row30\" class=\"row_heading level0 row30\" >24</th>\n",
              "      <td id=\"T_e3ace_row30_col0\" class=\"data row30 col0\" >What is the company's earnings per share and how does it compare to industry benchmarks?</td>\n",
              "      <td id=\"T_e3ace_row30_col1\" class=\"data row30 col1\" >77</td>\n",
              "      <td id=\"T_e3ace_row30_col2\" class=\"data row30 col2\" >10</td>\n",
              "      <td id=\"T_e3ace_row30_col3\" class=\"data row30 col3\" >12</td>\n",
              "    </tr>\n",
              "    <tr>\n",
              "      <th id=\"T_e3ace_level0_row31\" class=\"row_heading level0 row31\" >7</th>\n",
              "      <td id=\"T_e3ace_row31_col0\" class=\"data row31 col0\" >How is the company's corporate culture described?</td>\n",
              "      <td id=\"T_e3ace_row31_col1\" class=\"data row31 col1\" >77</td>\n",
              "      <td id=\"T_e3ace_row31_col2\" class=\"data row31 col2\" >8</td>\n",
              "      <td id=\"T_e3ace_row31_col3\" class=\"data row31 col3\" >10</td>\n",
              "    </tr>\n",
              "    <tr>\n",
              "      <th id=\"T_e3ace_level0_row32\" class=\"row_heading level0 row32\" >27</th>\n",
              "      <td id=\"T_e3ace_row32_col0\" class=\"data row32 col0\" >What is the company's market share in its industry and how has it changed over the years?</td>\n",
              "      <td id=\"T_e3ace_row32_col1\" class=\"data row32 col1\" >78</td>\n",
              "      <td id=\"T_e3ace_row32_col2\" class=\"data row32 col2\" >4</td>\n",
              "      <td id=\"T_e3ace_row32_col3\" class=\"data row32 col3\" >5</td>\n",
              "    </tr>\n",
              "    <tr>\n",
              "      <th id=\"T_e3ace_level0_row33\" class=\"row_heading level0 row33\" >19</th>\n",
              "      <td id=\"T_e3ace_row33_col0\" class=\"data row33 col0\" >What is the company's accounts receivable turnover and are there any concerns regarding receivables aging?</td>\n",
              "      <td id=\"T_e3ace_row33_col1\" class=\"data row33 col1\" >64</td>\n",
              "      <td id=\"T_e3ace_row33_col2\" class=\"data row33 col2\" >1</td>\n",
              "      <td id=\"T_e3ace_row33_col3\" class=\"data row33 col3\" >1</td>\n",
              "    </tr>\n",
              "    <tr>\n",
              "      <th id=\"T_e3ace_level0_row34\" class=\"row_heading level0 row34\" >22</th>\n",
              "      <td id=\"T_e3ace_row34_col0\" class=\"data row34 col0\" >What is the company's current ratio and quick ratio and how do these ratios compare to industry averages?</td>\n",
              "      <td id=\"T_e3ace_row34_col1\" class=\"data row34 col1\" >70</td>\n",
              "      <td id=\"T_e3ace_row34_col2\" class=\"data row34 col2\" >0</td>\n",
              "      <td id=\"T_e3ace_row34_col3\" class=\"data row34 col3\" >0</td>\n",
              "    </tr>\n",
              "  </tbody>\n",
              "</table>\n"
            ]
          },
          "metadata": {},
          "execution_count": 9
        }
      ]
    },
    {
      "cell_type": "code",
      "source": [
        "#total\n",
        "print(new_data['total'].sum())\n",
        "print(new_data['correct'].sum())\n",
        "print(new_data['correct'].sum()/ new_data['total'].sum() *100)"
      ],
      "metadata": {
        "colab": {
          "base_uri": "https://localhost:8080/"
        },
        "id": "3-2rNzRm4PJL",
        "outputId": "b9fbfa40-6e50-4cbf-9f3f-dca2838ad768"
      },
      "execution_count": 12,
      "outputs": [
        {
          "output_type": "stream",
          "name": "stdout",
          "text": [
            "2510\n",
            "1440\n",
            "57.37051792828686\n"
          ]
        }
      ]
    },
    {
      "cell_type": "markdown",
      "source": [
        "### LateX syntax"
      ],
      "metadata": {
        "id": "fZIfsQb84Itv"
      }
    },
    {
      "cell_type": "code",
      "source": [
        "latex_table = new_data.to_latex(index=False)\n",
        "print(latex_table)"
      ],
      "metadata": {
        "execution": {
          "iopub.status.busy": "2024-06-04T07:24:53.776042Z",
          "iopub.execute_input": "2024-06-04T07:24:53.776379Z",
          "iopub.status.idle": "2024-06-04T07:24:53.885132Z",
          "shell.execute_reply.started": "2024-06-04T07:24:53.776336Z",
          "shell.execute_reply": "2024-06-04T07:24:53.883709Z"
        },
        "trusted": true,
        "colab": {
          "base_uri": "https://localhost:8080/"
        },
        "id": "CZ8JI-QJ4Itv",
        "outputId": "898a27a8-0dba-47de-90bd-b566d2859397"
      },
      "execution_count": 10,
      "outputs": [
        {
          "output_type": "stream",
          "name": "stdout",
          "text": [
            "\\begin{tabular}{lrrr}\n",
            "\\toprule\n",
            "question & total & correct & percentage,% \\\\\n",
            "\\midrule\n",
            "What does the company foresee in terms of future growth and challenges and are there any strategic plans outlined for the upcoming years? & 74 & 71 & 95 \\\\\n",
            "What is the effective tax rate for the company? & 73 & 70 & 95 \\\\\n",
            "Are there any ongoing legal proceedings against the company? & 73 & 68 & 93 \\\\\n",
            "What is the company's operating income and how does it compare to the previous years? & 68 & 61 & 89 \\\\\n",
            "What potential impact could legal issues have on the business of the company? & 77 & 69 & 89 \\\\\n",
            "Are there any tax-related risks or benefits for the company mentioned? & 75 & 66 & 88 \\\\\n",
            "Who are the company's main competitors and how does the company differentiate itself? & 66 & 56 & 84 \\\\\n",
            "How does the company manage currency risk and are there impacts on financials due to currency fluctuations? & 71 & 58 & 81 \\\\\n",
            "What is the total revenue generated by the company and how has the revenue changed over the past few years? & 67 & 54 & 80 \\\\\n",
            "What are the company's critical accounting policies disclosed and how might changes in these policies affect financial statements? & 70 & 56 & 80 \\\\\n",
            "How does the company's management view the company performance? & 70 & 55 & 78 \\\\\n",
            "What is the company's cash flow generated from operations and are there any notable trends or fluctuations? & 69 & 54 & 78 \\\\\n",
            "Has the company engaged in any share buyback programs and if yes what is the rationale behind such actions? & 68 & 53 & 77 \\\\\n",
            "What is the company's net income for the current fiscal year and how has net income trended over the past few years? & 72 & 53 & 73 \\\\\n",
            "What employee benefits does the company offer? & 71 & 52 & 73 \\\\\n",
            "What are the company's key risks mentioned in the 10-K and how does the company plan to mitigate these risks? & 66 & 46 & 69 \\\\\n",
            "What are the company's major operating expenses and how have these expenses changed over time? & 75 & 50 & 66 \\\\\n",
            "How much has the company invested in capital expenditures and are there any significant projects underway? & 68 & 43 & 63 \\\\\n",
            "How does the company leverage technology for its operations and are there ongoing technological advancements? & 70 & 43 & 61 \\\\\n",
            "What is the company's geographic breakdown of revenue and are there any notable trends or shifts? & 76 & 44 & 57 \\\\\n",
            "How does the company address Environmental, Social, and Governance (ESG) concerns and are there any sustainability initiatives in place? & 72 & 41 & 56 \\\\\n",
            "What is the company's total outstanding debt, how is the debt structured, and what are the interest rates? & 76 & 43 & 56 \\\\\n",
            "What are the company's key insights provided in the Management Discussion and Analysis (MD&A) section? & 71 & 39 & 54 \\\\\n",
            "What are the company's pension obligations and contributions and is there a pension fund surplus or deficit? & 76 & 40 & 52 \\\\\n",
            "How much is spent on research and development by the company? & 72 & 31 & 43 \\\\\n",
            "What is the company's dividend history and how sustainable are the dividend payouts? & 76 & 30 & 39 \\\\\n",
            "What is the company's gross profit margin, and how has it evolved? & 72 & 21 & 29 \\\\\n",
            "What innovations or projects are currently in progress in the company? & 72 & 21 & 29 \\\\\n",
            "How much inventory does the company hold and are there any signs of inventory management issues? & 68 & 18 & 26 \\\\\n",
            "What is the company's cost of goods sold (COGS) and how does the COGS compare to the total revenue? & 70 & 11 & 15 \\\\\n",
            "What is the company's earnings per share and how does it compare to industry benchmarks? & 77 & 10 & 12 \\\\\n",
            "How is the company's corporate culture described? & 77 & 8 & 10 \\\\\n",
            "What is the company's market share in its industry and how has it changed over the years? & 78 & 4 & 5 \\\\\n",
            "What is the company's accounts receivable turnover and are there any concerns regarding receivables aging? & 64 & 1 & 1 \\\\\n",
            "What is the company's current ratio and quick ratio and how do these ratios compare to industry averages? & 70 & 0 & 0 \\\\\n",
            "\\bottomrule\n",
            "\\end{tabular}\n",
            "\n"
          ]
        }
      ]
    }
  ]
}