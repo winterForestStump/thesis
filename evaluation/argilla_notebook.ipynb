{
  "nbformat": 4,
  "nbformat_minor": 0,
  "metadata": {
    "colab": {
      "provenance": [],
      "authorship_tag": "ABX9TyMMl7BYcwFF5v4kozQ839rt",
      "include_colab_link": true
    },
    "kernelspec": {
      "name": "python3",
      "display_name": "Python 3"
    },
    "language_info": {
      "name": "python"
    },
    "widgets": {
      "application/vnd.jupyter.widget-state+json": {
        "543e6a78a566481d8d9a2c0db729bf23": {
          "model_module": "@jupyter-widgets/output",
          "model_name": "OutputModel",
          "model_module_version": "1.0.0",
          "state": {
            "_dom_classes": [],
            "_model_module": "@jupyter-widgets/output",
            "_model_module_version": "1.0.0",
            "_model_name": "OutputModel",
            "_view_count": null,
            "_view_module": "@jupyter-widgets/output",
            "_view_module_version": "1.0.0",
            "_view_name": "OutputView",
            "layout": "IPY_MODEL_5f92e0be9e174d4c8047c20123d47e1f",
            "msg_id": "",
            "outputs": [
              {
                "output_type": "display_data",
                "data": {
                  "text/plain": "Pushing records to Argilla... \u001b[38;2;249;38;114m━━━━━━━━━━━━━━━━━━━━━━━━━━━━━━━━━━━━\u001b[0m\u001b[38;2;249;38;114m╸\u001b[0m\u001b[38;5;237m━━━\u001b[0m \u001b[35m 91%\u001b[0m \u001b[36m0:00:01\u001b[0m\n",
                  "text/html": "<pre style=\"white-space:pre;overflow-x:auto;line-height:normal;font-family:Menlo,'DejaVu Sans Mono',consolas,'Courier New',monospace\">Pushing records to Argilla... <span style=\"color: #f92672; text-decoration-color: #f92672\">━━━━━━━━━━━━━━━━━━━━━━━━━━━━━━━━━━━━╸</span><span style=\"color: #3a3a3a; text-decoration-color: #3a3a3a\">━━━</span> <span style=\"color: #800080; text-decoration-color: #800080\"> 91%</span> <span style=\"color: #008080; text-decoration-color: #008080\">0:00:01</span>\n</pre>\n"
                },
                "metadata": {}
              }
            ]
          }
        },
        "5f92e0be9e174d4c8047c20123d47e1f": {
          "model_module": "@jupyter-widgets/base",
          "model_name": "LayoutModel",
          "model_module_version": "1.2.0",
          "state": {
            "_model_module": "@jupyter-widgets/base",
            "_model_module_version": "1.2.0",
            "_model_name": "LayoutModel",
            "_view_count": null,
            "_view_module": "@jupyter-widgets/base",
            "_view_module_version": "1.2.0",
            "_view_name": "LayoutView",
            "align_content": null,
            "align_items": null,
            "align_self": null,
            "border": null,
            "bottom": null,
            "display": null,
            "flex": null,
            "flex_flow": null,
            "grid_area": null,
            "grid_auto_columns": null,
            "grid_auto_flow": null,
            "grid_auto_rows": null,
            "grid_column": null,
            "grid_gap": null,
            "grid_row": null,
            "grid_template_areas": null,
            "grid_template_columns": null,
            "grid_template_rows": null,
            "height": null,
            "justify_content": null,
            "justify_items": null,
            "left": null,
            "margin": null,
            "max_height": null,
            "max_width": null,
            "min_height": null,
            "min_width": null,
            "object_fit": null,
            "object_position": null,
            "order": null,
            "overflow": null,
            "overflow_x": null,
            "overflow_y": null,
            "padding": null,
            "right": null,
            "top": null,
            "visibility": null,
            "width": null
          }
        }
      }
    }
  },
  "cells": [
    {
      "cell_type": "markdown",
      "metadata": {
        "id": "view-in-github",
        "colab_type": "text"
      },
      "source": [
        "<a href=\"https://colab.research.google.com/github/winterForestStump/thesis/blob/main/evaluation/argilla_notebook.ipynb\" target=\"_parent\"><img src=\"https://colab.research.google.com/assets/colab-badge.svg\" alt=\"Open In Colab\"/></a>"
      ]
    },
    {
      "cell_type": "code",
      "execution_count": 1,
      "metadata": {
        "id": "rJATBBhiyssj"
      },
      "outputs": [],
      "source": [
        "%%capture\n",
        "%pip install argilla -U\n",
        "%pip install datasets"
      ]
    },
    {
      "cell_type": "code",
      "source": [
        "import argilla as rg\n",
        "\n",
        "rg.init(\n",
        "    api_url=\"https://winterForestStump-thesis.hf.space\",\n",
        "    api_key=\"admin.apikey\",\n",
        "    workspace=\"admin\")"
      ],
      "metadata": {
        "id": "fmu7ZTFIy2Oy"
      },
      "execution_count": 2,
      "outputs": []
    },
    {
      "cell_type": "code",
      "source": [
        "from datasets import Dataset\n",
        "import pandas as pd"
      ],
      "metadata": {
        "id": "pwZm4XPbcUcx"
      },
      "execution_count": 3,
      "outputs": []
    },
    {
      "cell_type": "markdown",
      "source": [
        "# Adding datasets"
      ],
      "metadata": {
        "id": "MYeFhIKFcATw"
      }
    },
    {
      "cell_type": "code",
      "source": [
        "ds=pd.read_csv('https://raw.githubusercontent.com/winterForestStump/thesis/main/evaluation/bge-reranker_x_phi3-4k/csv/eval_3M%20CO.json.csv')\n",
        "data_set = Dataset.from_pandas(ds)\n",
        "data_set"
      ],
      "metadata": {
        "colab": {
          "base_uri": "https://localhost:8080/"
        },
        "id": "IihMLmlBrrqv",
        "outputId": "2b8e35cb-3fb3-4532-e5da-63288b904d3f"
      },
      "execution_count": 17,
      "outputs": [
        {
          "output_type": "execute_result",
          "data": {
            "text/plain": [
              "Dataset({\n",
              "    features: ['Unnamed: 0', 'question', 'company', 'response', 'context', 'retrieval_grade', 'hallucination_grade', 'answer_grade'],\n",
              "    num_rows: 35\n",
              "})"
            ]
          },
          "metadata": {},
          "execution_count": 17
        }
      ]
    },
    {
      "cell_type": "code",
      "source": [
        "feedback_dataset = rg.FeedbackDataset(\n",
        "    guidelines=\"Grade the retrieval and generation results of the RAG chain\",\n",
        "    fields=[\n",
        "        rg.TextField(name=\"query\", title=\"User's question (query)\"),\n",
        "        rg.TextField(name=\"retrieved_document\", title=\"Retrieved by the RAG chain documents (context)\"),\n",
        "        rg.TextField(name=\"generated_response\", title=\"Generated LLM response (answer) to the question\"),\n",
        "    ],\n",
        "    questions=[\n",
        "        rg.LabelQuestion(\n",
        "            name=\"relevancy\",\n",
        "            title=\"Are the retrieved documents relevant to the given question?\",\n",
        "            labels=[\"YES\", \"NO\", \"UNSURE\"],\n",
        "            required=True,\n",
        "            visible_labels=None\n",
        "            ),\n",
        "        rg.LabelQuestion(\n",
        "            name=\"faithfulness\",\n",
        "            title=\"Is the generated answer grounded in / supported by a context (retrieved documents)?\",\n",
        "            labels=[\"YES\", \"NO\", \"UNSURE\"],\n",
        "            required=True,\n",
        "            visible_labels=None\n",
        "            ),\n",
        "        rg.LabelQuestion(\n",
        "            name=\"usefulness\",\n",
        "            title=\"Is generated answer useful to resolve a question?\",\n",
        "            labels=[\"YES\", \"NO\", \"UNSURE\"],\n",
        "            required=True,\n",
        "            visible_labels=None\n",
        "            ),\n",
        "    ]\n",
        ")\n",
        "feedback_dataset"
      ],
      "metadata": {
        "colab": {
          "base_uri": "https://localhost:8080/"
        },
        "id": "DqIy52E-qCk8",
        "outputId": "e3d8d229-13b0-47f5-9711-a56624fbbe4a"
      },
      "execution_count": 18,
      "outputs": [
        {
          "output_type": "execute_result",
          "data": {
            "text/plain": [
              "FeedbackDataset(\n",
              "   fields=[TextField(name='query', title=\"User's question (query)\", required=True, type='text', use_markdown=False), TextField(name='retrieved_document', title='Retrieved by the RAG chain documents (context)', required=True, type='text', use_markdown=False), TextField(name='generated_response', title='Generated LLM response (answer) to the question', required=True, type='text', use_markdown=False)]\n",
              "   questions=[LabelQuestion(name='relevancy', title='Are the retrieved documents relevant to the given question?', description=None, required=True, type='label_selection', labels=['YES', 'NO', 'UNSURE'], visible_labels=None), LabelQuestion(name='faithfulness', title='Is the generated answer grounded in / supported by a context (retrieved documents)?', description=None, required=True, type='label_selection', labels=['YES', 'NO', 'UNSURE'], visible_labels=None), LabelQuestion(name='usefulness', title='Is generated answer useful to resolve a question?', description=None, required=True, type='label_selection', labels=['YES', 'NO', 'UNSURE'], visible_labels=None)]\n",
              "   guidelines=Grade the retrieval and generation results of the RAG chain)\n",
              "   metadata_properties=[])\n",
              "   vectors_settings=[])\n",
              ")"
            ]
          },
          "metadata": {},
          "execution_count": 18
        }
      ]
    },
    {
      "cell_type": "code",
      "source": [
        "records = []\n",
        "for i, item in enumerate(data_set):\n",
        "    records.append(\n",
        "        rg.FeedbackRecord(\n",
        "            fields={\n",
        "                \"query\": item[\"question\"],\n",
        "                \"retrieved_document\": item['context'],\n",
        "                \"generated_response\": item[\"response\"],\n",
        "            },\n",
        "            external_id=f\"record-{i}\"\n",
        "        )\n",
        "    )\n",
        "\n",
        "feedback_dataset.add_records(records)"
      ],
      "metadata": {
        "id": "xVQf0RYyiCSX"
      },
      "execution_count": 19,
      "outputs": []
    },
    {
      "cell_type": "code",
      "source": [
        "remote_dataset = feedback_dataset.push_to_argilla(name=\"my-dataset\")"
      ],
      "metadata": {
        "id": "SiVuZxdBgEg3"
      },
      "execution_count": null,
      "outputs": []
    },
    {
      "cell_type": "markdown",
      "source": [
        "# Adding records to the dataset"
      ],
      "metadata": {
        "id": "VSFXUJnTiaoI"
      }
    },
    {
      "cell_type": "code",
      "source": [
        "dataset = rg.FeedbackDataset.from_argilla(name=\"my-dataset\", workspace=\"admin\")"
      ],
      "metadata": {
        "id": "B0Sk6s3xhzRq"
      },
      "execution_count": 4,
      "outputs": []
    },
    {
      "cell_type": "code",
      "source": [
        "files = [\n",
        "         \"https://raw.githubusercontent.com/winterForestStump/thesis/main/evaluation/bge-reranker_x_phi3-4k/csv/eval_COCA%20COLA%20CO.json.csv\",\n",
        "         \"https://raw.githubusercontent.com/winterForestStump/thesis/main/evaluation/bge-reranker_x_phi3-4k/csv/eval_AMAZON%20COM%20INC.json.csv\",\n",
        "         \"https://raw.githubusercontent.com/winterForestStump/thesis/main/evaluation/bge-reranker_x_phi3-4k/csv/eval_JPMORGAN%20CHASE%20%26%20CO.json.csv\",\n",
        "         \"https://raw.githubusercontent.com/winterForestStump/thesis/main/evaluation/bge-reranker_x_phi3-4k/csv/eval_LOCKHEED%20MARTIN%20CORP.json.csv\",\n",
        "         \"https://raw.githubusercontent.com/winterForestStump/thesis/main/evaluation/bge-reranker_x_phi3-4k/csv/eval_MICROSOFT%20CORP.json.csv\",\n",
        "         \"https://raw.githubusercontent.com/winterForestStump/thesis/main/evaluation/bge-reranker_x_phi3-4k/csv/eval_NIKE%2C%20Inc..json.csv\",\n",
        "         \"https://github.com/winterForestStump/thesis/blob/main/evaluation/bge-reranker_x_phi3-4k/csv/eval_PayPal%20Holdings%2C%20Inc..json.csv\",\n",
        "         \"https://raw.githubusercontent.com/winterForestStump/thesis/main/evaluation/bge-reranker_x_phi3-4k/csv/eval_VERIZON%20COMMUNICATIONS%20INC.json.csv\",\n",
        "         \"https://raw.githubusercontent.com/winterForestStump/thesis/main/evaluation/bge-reranker_x_phi3-4k/csv/eval_Walmart%20Inc..json.csv\"\n",
        "         ]"
      ],
      "metadata": {
        "id": "KSPRm4tch2az"
      },
      "execution_count": 5,
      "outputs": []
    },
    {
      "cell_type": "code",
      "source": [
        "records = []\n",
        "length = 35\n",
        "for file in files:\n",
        "    try:\n",
        "        # Attempt to read the CSV file\n",
        "        ds = pd.read_csv(file)\n",
        "        data_set = Dataset.from_pandas(ds)\n",
        "\n",
        "        # Process each record in the dataset\n",
        "        for i, item in enumerate(data_set):\n",
        "            records.append(rg.FeedbackRecord(fields={\"query\": item[\"question\"],\n",
        "                                                     \"retrieved_document\": item['context'],\n",
        "                                                     \"generated_response\": item[\"response\"]\n",
        "                                                     },\n",
        "                                            ))\n",
        "        length += len(data_set)\n",
        "\n",
        "    except pd.errors.ParserError as e:\n",
        "        print(f\"Error parsing {file}: {e}\")\n",
        "    except Exception as e:\n",
        "        print(f\"An unexpected error occurred with {file}: {e}\")\n",
        "\n",
        "\n",
        "# Output the results\n",
        "print(f\"Processed {len(records)} records.\")"
      ],
      "metadata": {
        "colab": {
          "base_uri": "https://localhost:8080/"
        },
        "id": "3wmZsk33ihnJ",
        "outputId": "f7415ba4-13be-462a-8efe-e9551271124e"
      },
      "execution_count": 21,
      "outputs": [
        {
          "output_type": "stream",
          "name": "stdout",
          "text": [
            "Error parsing https://github.com/winterForestStump/thesis/blob/main/evaluation/bge-reranker_x_phi3-4k/csv/eval_PayPal%20Holdings%2C%20Inc..json.csv: Error tokenizing data. C error: Expected 1 fields in line 40, saw 20\n",
            "\n",
            "Processed 280 records.\n"
          ]
        }
      ]
    },
    {
      "cell_type": "code",
      "source": [
        "length"
      ],
      "metadata": {
        "colab": {
          "base_uri": "https://localhost:8080/"
        },
        "id": "8M65kj88uUSY",
        "outputId": "3356fa15-72f1-4863-8aa1-464edbe9eb9c"
      },
      "execution_count": 22,
      "outputs": [
        {
          "output_type": "execute_result",
          "data": {
            "text/plain": [
              "315"
            ]
          },
          "metadata": {},
          "execution_count": 22
        }
      ]
    },
    {
      "cell_type": "code",
      "source": [
        "dataset.add_records(records)"
      ],
      "metadata": {
        "colab": {
          "base_uri": "https://localhost:8080/",
          "height": 33,
          "referenced_widgets": [
            "543e6a78a566481d8d9a2c0db729bf23",
            "5f92e0be9e174d4c8047c20123d47e1f"
          ]
        },
        "id": "eZIuNahvoNJn",
        "outputId": "131f4a13-da4b-4e77-827d-f412e874f658"
      },
      "execution_count": 23,
      "outputs": [
        {
          "output_type": "display_data",
          "data": {
            "text/plain": [
              "Output()"
            ],
            "application/vnd.jupyter.widget-view+json": {
              "version_major": 2,
              "version_minor": 0,
              "model_id": "543e6a78a566481d8d9a2c0db729bf23"
            }
          },
          "metadata": {}
        },
        {
          "output_type": "display_data",
          "data": {
            "text/plain": [],
            "text/html": [
              "<pre style=\"white-space:pre;overflow-x:auto;line-height:normal;font-family:Menlo,'DejaVu Sans Mono',consolas,'Courier New',monospace\"></pre>\n"
            ]
          },
          "metadata": {}
        },
        {
          "output_type": "display_data",
          "data": {
            "text/plain": [
              "\n"
            ],
            "text/html": [
              "<pre style=\"white-space:pre;overflow-x:auto;line-height:normal;font-family:Menlo,'DejaVu Sans Mono',consolas,'Courier New',monospace\">\n",
              "</pre>\n"
            ]
          },
          "metadata": {}
        }
      ]
    },
    {
      "cell_type": "markdown",
      "source": [
        "# Collect responses"
      ],
      "metadata": {
        "id": "Ne5qJzESKj9k"
      }
    },
    {
      "cell_type": "code",
      "source": [
        "feedback = rg.FeedbackDataset.from_argilla(\"my-dataset\", workspace=\"admin\")"
      ],
      "metadata": {
        "id": "X2fTBKKLcpcg"
      },
      "execution_count": 6,
      "outputs": []
    },
    {
      "cell_type": "code",
      "source": [
        "list_values = []\n",
        "for record_ix,record in enumerate(feedback):\n",
        "  list_values.append({\"record\": str(record_ix+1),\n",
        "                      \"id\": feedback.records[record_ix].id,\n",
        "                      \"query\": feedback.records[record_ix].fields['query'],\n",
        "                      \"retrieved_document\": feedback.records[record_ix].fields['retrieved_document'],\n",
        "                      \"generated_response\": feedback.records[record_ix].fields['generated_response'],\n",
        "                      \"relevancy_value\": feedback.records[record_ix].responses[0].values[\"relevancy\"].value,\n",
        "                      \"faithfulness_value\": feedback.records[record_ix].responses[0].values[\"faithfulness\"].value,\n",
        "                      \"usefulness_value\": feedback.records[record_ix].responses[0].values[\"usefulness\"].value\n",
        "                      })"
      ],
      "metadata": {
        "id": "dPUsUeQq-Fxp"
      },
      "execution_count": 29,
      "outputs": []
    },
    {
      "cell_type": "code",
      "source": [
        "len(list_values)"
      ],
      "metadata": {
        "colab": {
          "base_uri": "https://localhost:8080/"
        },
        "id": "D92akUH6ShfI",
        "outputId": "626a0379-1d2c-4f7c-9aba-f215c64188b4"
      },
      "execution_count": 30,
      "outputs": [
        {
          "output_type": "execute_result",
          "data": {
            "text/plain": [
              "35"
            ]
          },
          "metadata": {},
          "execution_count": 30
        }
      ]
    },
    {
      "cell_type": "code",
      "source": [
        "df = pd.DataFrame(list_values)\n",
        "df.to_csv('eval_resuts_argilla_generalQA.csv')"
      ],
      "metadata": {
        "id": "OCyLoomFPBQD"
      },
      "execution_count": 34,
      "outputs": []
    }
  ]
}