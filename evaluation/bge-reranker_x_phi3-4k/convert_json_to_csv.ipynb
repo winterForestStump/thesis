{
 "cells": [
  {
   "cell_type": "code",
   "execution_count": null,
   "metadata": {},
   "outputs": [],
   "source": [
    "import pandas as pd\n",
    "import os\n",
    "\n",
    "directory = \"bge-reranker_x_phi3-4k\"\n",
    "total_number = 0\n",
    "for filename in os.listdir(directory):\n",
    "  if filename.endswith('.json'):\n",
    "    file_path = os.path.join(directory, filename)\n",
    "    df = pd.read_json(file_path)\n",
    "    df.to_csv(f'{filename}.csv')"
   ]
  }
 ],
 "metadata": {
  "language_info": {
   "name": "python"
  }
 },
 "nbformat": 4,
 "nbformat_minor": 2
}
