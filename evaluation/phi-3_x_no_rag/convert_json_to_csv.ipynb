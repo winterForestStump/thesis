{
 "cells": [
  {
   "cell_type": "code",
   "execution_count": 1,
   "metadata": {},
   "outputs": [],
   "source": [
    "import pandas as pd\n",
    "import os\n",
    "\n",
    "directory = \"C:\\\\Users\\\\lenovo\\\\Desktop\\\\phi-3_x_no_rag\"\n",
    "\n",
    "for filename in os.listdir(directory):\n",
    "  if filename.endswith('.json'):\n",
    "    file_path = os.path.join(directory, filename)\n",
    "    df = pd.read_json(file_path)\n",
    "    df.to_csv(f'{filename}.csv')"
   ]
  }
 ],
 "metadata": {
  "kernelspec": {
   "display_name": "task_env",
   "language": "python",
   "name": "python3"
  },
  "language_info": {
   "codemirror_mode": {
    "name": "ipython",
    "version": 3
   },
   "file_extension": ".py",
   "mimetype": "text/x-python",
   "name": "python",
   "nbconvert_exporter": "python",
   "pygments_lexer": "ipython3",
   "version": "3.11.2"
  }
 },
 "nbformat": 4,
 "nbformat_minor": 2
}
