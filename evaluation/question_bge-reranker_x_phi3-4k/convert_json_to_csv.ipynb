{
 "cells": [
  {
   "cell_type": "code",
   "execution_count": 1,
   "metadata": {},
   "outputs": [],
   "source": [
    "import pandas as pd\n",
    "import os\n",
    "\n",
    "directory = \"question_bge-reranker_x_phi3-4k\"\n",
    "total_number = 0\n",
    "for filename in os.listdir(directory):\n",
    "  if filename.endswith('.json'):\n",
    "    file_path = os.path.join(directory, filename)\n",
    "    df = pd.read_json(file_path)\n",
    "    df.to_csv(f'{filename}.csv')"
   ]
  }
 ],
 "metadata": {
  "kernelspec": {
   "display_name": "task_env",
   "language": "python",
   "name": "python3"
  },
  "language_info": {
   "codemirror_mode": {
    "name": "ipython",
    "version": 3
   },
   "file_extension": ".py",
   "mimetype": "text/x-python",
   "name": "python",
   "nbconvert_exporter": "python",
   "pygments_lexer": "ipython3",
   "version": "3.11.2"
  }
 },
 "nbformat": 4,
 "nbformat_minor": 2
}
